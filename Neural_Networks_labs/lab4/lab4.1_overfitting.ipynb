{
 "cells": [
  {
   "cell_type": "markdown",
   "metadata": {},
   "source": [
    "# An introduction to overfitting\n",
    "\n",
    "In the previous lab we have designed an MLP network for image classification, and we have trained it in a rather straightforward fashion, which in practice is a bit risky. Indeed, our model was designed and trained for minimizing the loss on the training set for a given number of epochs. As such, we might end up with a model that is very good at predicting the data from this training set, but is unable to *generalize* to unseen/new data (e.g., from the test set). This behavior is called **overfitting** and is a major problem in deep learning, wich we adress in this script.\n",
    "\n",
    "<center><a href=\"https://medium.com/geekculture/investigating-underfitting-and-overfitting-70382835e45c\">\n",
    "    <img src=\"https://miro.medium.com/max/1400/1*OeJVQ7sEvOJGxfGSCpbzyA.png\" width=\"600\"></a></center>\n",
    "    \n",
    "More specifically, we study two common sources of overfitting:\n",
    "\n",
    "- Training for too many epochs.\n",
    "- Using an over-parametrized (i.e., too large) model (this corresponds to the figure above)."
   ]
  },
  {
   "cell_type": "code",
   "execution_count": 107,
   "metadata": {},
   "outputs": [],
   "source": [
    "import torch\n",
    "import torch.nn as nn\n",
    "import torchvision\n",
    "import os\n",
    "import matplotlib.pyplot as plt\n",
    "from torch.utils.data import DataLoader, Subset, random_split\n",
    "import copy"
   ]
  },
  {
   "cell_type": "markdown",
   "metadata": {},
   "source": [
    "## Dataset and model\n",
    "\n",
    "As in the previous lab, we work with the MNIST dataset and we use a simple 3-layer MLP. We provide the code below."
   ]
  },
  {
   "cell_type": "code",
   "execution_count": 108,
   "metadata": {},
   "outputs": [],
   "source": [
    "# Dataset repository - remember to change it according to your folder structure\n",
    "data_dir = '../datasets/'\n",
    "\n",
    "# Load the MNIST training dataset (in this script we don't need the test set), and take a small subset\n",
    "data_transforms = torchvision.transforms.Compose([torchvision.transforms.ToTensor(),\n",
    "                                                  torchvision.transforms.Normalize((0.1307,), (0.3081,))])\n",
    "train_data = torchvision.datasets.MNIST(data_dir, train=True, download=True, transform=data_transforms)\n",
    "num_classes = len(train_data.classes)\n",
    "train_data = Subset(train_data, torch.arange(500))"
   ]
  },
  {
   "cell_type": "code",
   "execution_count": 109,
   "metadata": {},
   "outputs": [],
   "source": [
    "# MLP classifier\n",
    "class MLPClassif(nn.Module):\n",
    "    def __init__(self, input_size, hidden_size, output_size):\n",
    "        super(MLPClassif, self).__init__()\n",
    "        self.input_layer = nn.Sequential(nn.Linear(input_size, hidden_size), nn.ReLU())\n",
    "        self.hidden_layer = nn.Sequential(nn.Linear(hidden_size, hidden_size), nn.ReLU())\n",
    "        self.output_layer = nn.Linear(hidden_size, output_size)\n",
    "    \n",
    "    def forward(self, x):\n",
    "        y = self.input_layer(x)\n",
    "        y = self.hidden_layer(y)\n",
    "        out = self.output_layer(y)\n",
    "        return out"
   ]
  },
  {
   "cell_type": "code",
   "execution_count": 110,
   "metadata": {},
   "outputs": [],
   "source": [
    "# Initialization function for the network's parameters\n",
    "def init_params(m, seed=0):\n",
    "    if isinstance(m, nn.Linear):\n",
    "        nn.init.xavier_uniform_(m.weight.data, generator=torch.manual_seed(seed))\n",
    "        if m.bias is not None:\n",
    "            m.bias.data.fill_(0.01)\n",
    "    return"
   ]
  },
  {
   "cell_type": "code",
   "execution_count": 111,
   "metadata": {},
   "outputs": [
    {
     "data": {
      "text/plain": [
       "MLPClassif(\n",
       "  (input_layer): Sequential(\n",
       "    (0): Linear(in_features=784, out_features=32, bias=True)\n",
       "    (1): ReLU()\n",
       "  )\n",
       "  (hidden_layer): Sequential(\n",
       "    (0): Linear(in_features=32, out_features=32, bias=True)\n",
       "    (1): ReLU()\n",
       "  )\n",
       "  (output_layer): Linear(in_features=32, out_features=10, bias=True)\n",
       ")"
      ]
     },
     "execution_count": 111,
     "metadata": {},
     "output_type": "execute_result"
    }
   ],
   "source": [
    "# Instanciate the network and initialize the parameters for reproducibility\n",
    "input_size = train_data[0][0][0].shape[0]*train_data[0][0][0].shape[1]\n",
    "hidden_size = 32\n",
    "output_size = num_classes\n",
    "model = MLPClassif(input_size, hidden_size, output_size)\n",
    "model.apply(init_params)"
   ]
  },
  {
   "cell_type": "markdown",
   "metadata": {},
   "source": [
    "## The validation set\n",
    "\n",
    "Until now, we have splitted our data into two sets: training and testing. A key ingredient in avoiding overfitting is the usage of an additional *validation* (or *development*) set. The data is then split into:\n",
    "\n",
    "- the *training set*, used to train the model's parameters.\n",
    "- the *validation set*, used to evaluate the capacity of the model to generalize to unseen data.\n",
    "- the *test set*, used to compare different baselines / methods after training.\n",
    "\n",
    "<center><a href=\"https://www.v7labs.com/blog/train-validation-test-set\">\n",
    "    <img src=\"https://assets-global.website-files.com/5d7b77b063a9066d83e1209c/61568656a13218cdde7f6166_training-data-validation-test.png\" width=\"400\"></a></center>"
   ]
  },
  {
   "cell_type": "code",
   "execution_count": 112,
   "metadata": {},
   "outputs": [
    {
     "name": "stdout",
     "output_type": "stream",
     "text": [
      "400 100\n"
     ]
    }
   ],
   "source": [
    "# Define the validation set by splitting the training data into 2 subsets (80% training and 20% validation)\n",
    "n_train_examples = int(len(train_data)*0.8)\n",
    "n_valid_examples = len(train_data) - n_train_examples\n",
    "train_data, valid_data = random_split(train_data, [n_train_examples, n_valid_examples], generator=torch.manual_seed(0))\n",
    "print(len(train_data), len(valid_data))\n",
    "\n",
    "# Create the corresponding dataloaders\n",
    "batch_size = 8\n",
    "train_dataloader = DataLoader(train_data, batch_size=batch_size, shuffle=True, generator=torch.manual_seed(0))\n",
    "valid_dataloader = DataLoader(valid_data, batch_size=batch_size)"
   ]
  },
  {
   "cell_type": "markdown",
   "metadata": {},
   "source": [
    "## Training with validation\n",
    "\n",
    "A first simple approach to avoid overfitting is to monitor the performance of the model on the validation set over epochs when training. At each epoch we compute the loss on the validation set, and check how it behaves: if the validation loss decreases, then we can continue training. Conversely, if the validation loss increases, it means the model has overfitted, so we need to stop training. Here, we run training with a specified maximum number of epochs, and we save the model yielding the lowest validation loss as the optimal/best one.\n",
    "\n",
    "<center><a href=\"https://theaisummer.com/regularization/\">\n",
    "    <img src=\"https://theaisummer.com/static/7a6353ed78b045f32e4ac39b0b4d66d2/a878e/early-stopping.png\" width=\"400\"></a></center>\n",
    "    \n",
    "\n",
    "**Note**: In practice, instead of computing the validation *loss/error* (which ideally should decrease), we can compute the validation *accuracy* (which ideally should increase). The concept is the same, but it is usually better to use a validation metric that is as close as possible or equal to the test metric (here: accuracy)."
   ]
  },
  {
   "cell_type": "code",
   "execution_count": 113,
   "metadata": {},
   "outputs": [],
   "source": [
    "# Evaluation function\n",
    "def eval_mlp_classifier(model, eval_dataloader):\n",
    "    \n",
    "    # Set the model in 'evaluation' mode (this disables some layers (batch norm, dropout...) which are not needed when testing)\n",
    "    model.eval() \n",
    "\n",
    "    # In evaluation phase, we don't need to compute gradients (for memory efficiency)\n",
    "    with torch.no_grad():\n",
    "        # initialize the total and correct number of labels to compute the accuracy\n",
    "        correct_labels = 0\n",
    "        total_labels = 0\n",
    "        \n",
    "        # Iterate over the dataset using the dataloader\n",
    "        for images, labels in eval_dataloader:\n",
    "\n",
    "            # Get the predicted labels\n",
    "            images = images.reshape(images.shape[0], -1)\n",
    "            y_predicted = model(images)\n",
    "            \n",
    "            # To get the predicted labels, we need to get the max over all possible classes\n",
    "            _, label_predicted = torch.max(y_predicted.data, 1)\n",
    "            \n",
    "            # Compute accuracy: count the total number of samples, and the correct labels (compare the true and predicted labels)\n",
    "            total_labels += labels.size(0)\n",
    "            correct_labels += (label_predicted == labels).sum().item()\n",
    "    \n",
    "    accuracy = 100 * correct_labels / total_labels\n",
    "    \n",
    "    return accuracy"
   ]
  },
  {
   "cell_type": "markdown",
   "metadata": {},
   "source": [
    "The training function is very similar to what we did in the previous lab, so feel free to reuse it. There are a few main differences:\n",
    "\n",
    "- The function now takes an extra input argument: the validation dataloader.\n",
    "- Instead of SGD, we we use the [Adam](https://pytorch.org/docs/stable/generated/torch.optim.Adam.html) optimizer, which is a more efficient algorithm (the pytorch code is similar: you need to provide the model's parameters and the learning rate).\n",
    "- At the end of each epoch, compute the accuracy on the validation set (use the provided eval function): if the accuracy is increasing, then store the current model as the optimal one.\n",
    "- The function should return the *optimal model* (that is, the model corresponding to the best validation accuracy), the list of training losses over epochs, and the list of validation accuracy over epochs.\n",
    "\n",
    "<span style=\"color:red\">**Exercice 1**</span> Write the training function with validation. Using the training parameters below, train the model, and plot the training loss and validation accuracy (on two different subplots). What do you remark? Is it beneficial to monitor the validation accuracy?"
   ]
  },
  {
   "cell_type": "code",
   "execution_count": 114,
   "metadata": {},
   "outputs": [],
   "source": [
    "def training(model, train_dataloader, validation_dataloader, num_epochs, loss_fn, learning_rate, verbose = True):\n",
    "    model_tr = copy.deepcopy(model)\n",
    "    model_tr.train()\n",
    "    optimizer = torch.optim.Adam(model_tr.parameters(), lr = learning_rate)\n",
    "    train_losses = []\n",
    "    validation_accuracy = []\n",
    "\n",
    "    best_model = None\n",
    "    best_accuracy = 0\n",
    "    \n",
    "    # Training loop\n",
    "    for epoch in range(num_epochs):\n",
    "        \n",
    "        # Initialize the training loss for the current epoch\n",
    "        tr_loss = 0\n",
    "        \n",
    "        # Iterate over batches using the dataloader\n",
    "        for batch_index, (images, labels) in enumerate(train_dataloader):\n",
    "            \n",
    "            # TO DO: write the training procedure for each batch. This should consist of:\n",
    "            # - vectorize the images\n",
    "            images = images.reshape(len(images), -1)\n",
    "            # - calculate the predicted labels from the vectorized images using 'model_tr'\n",
    "            y = model_tr(images)\n",
    "            # - using loss_fn, calculate the 'loss' between the predicted and true labels\n",
    "            loss = loss_fn(y, labels)\n",
    "            # - set the optimizer gradients at 0 for safety\n",
    "            optimizer.zero_grad()\n",
    "            # - compute the gradients (use the 'backward' method on 'loss')\n",
    "            loss.backward()\n",
    "            # - apply the gradient descent algorithm (perform a step of the optimizer)\n",
    "\n",
    "            optimizer.step()\n",
    "            # For each batch, we update the current epoch loss\n",
    "            tr_loss += loss.item()\n",
    "         \n",
    "        tr_loss = tr_loss / len(train_dataloader)\n",
    "        train_losses.append(tr_loss)\n",
    "\n",
    "        # At the end of each epoch, get the accuracy on the validation set\n",
    "        accuracy = eval_mlp_classifier(model_tr, validation_dataloader)\n",
    "        validation_accuracy.append(accuracy)\n",
    "\n",
    "        # Save the best model\n",
    "        if accuracy > best_accuracy:\n",
    "            best_accuracy = accuracy\n",
    "            best_model = copy.deepcopy(model_tr)\n",
    "\n",
    "        if verbose:\n",
    "            print('Epoch [{}/{}], Training loss: {:.4f} Accuracy: {:.2f}'.format(epoch+1, num_epochs,tr_loss, accuracy))\n",
    "\n",
    "    return best_model, validation_accuracy, train_losses"
   ]
  },
  {
   "cell_type": "code",
   "execution_count": 115,
   "metadata": {},
   "outputs": [
    {
     "name": "stdout",
     "output_type": "stream",
     "text": [
      "Epoch [1/50], Training loss: 1.9397 Accuracy: 50.00\n",
      "Epoch [2/50], Training loss: 0.9498 Accuracy: 66.00\n",
      "Epoch [3/50], Training loss: 0.4937 Accuracy: 76.00\n",
      "Epoch [4/50], Training loss: 0.2707 Accuracy: 74.00\n",
      "Epoch [5/50], Training loss: 0.1801 Accuracy: 80.00\n",
      "Epoch [6/50], Training loss: 0.1212 Accuracy: 78.00\n",
      "Epoch [7/50], Training loss: 0.0758 Accuracy: 78.00\n",
      "Epoch [8/50], Training loss: 0.0514 Accuracy: 76.00\n",
      "Epoch [9/50], Training loss: 0.0362 Accuracy: 78.00\n",
      "Epoch [10/50], Training loss: 0.0252 Accuracy: 77.00\n",
      "Epoch [11/50], Training loss: 0.0211 Accuracy: 78.00\n",
      "Epoch [12/50], Training loss: 0.0160 Accuracy: 77.00\n",
      "Epoch [13/50], Training loss: 0.0132 Accuracy: 77.00\n",
      "Epoch [14/50], Training loss: 0.0113 Accuracy: 77.00\n",
      "Epoch [15/50], Training loss: 0.0095 Accuracy: 77.00\n",
      "Epoch [16/50], Training loss: 0.0082 Accuracy: 77.00\n",
      "Epoch [17/50], Training loss: 0.0071 Accuracy: 77.00\n",
      "Epoch [18/50], Training loss: 0.0064 Accuracy: 77.00\n",
      "Epoch [19/50], Training loss: 0.0055 Accuracy: 77.00\n",
      "Epoch [20/50], Training loss: 0.0049 Accuracy: 77.00\n",
      "Epoch [21/50], Training loss: 0.0044 Accuracy: 77.00\n",
      "Epoch [22/50], Training loss: 0.0039 Accuracy: 77.00\n",
      "Epoch [23/50], Training loss: 0.0037 Accuracy: 77.00\n",
      "Epoch [24/50], Training loss: 0.0033 Accuracy: 77.00\n",
      "Epoch [25/50], Training loss: 0.0030 Accuracy: 77.00\n",
      "Epoch [26/50], Training loss: 0.0027 Accuracy: 77.00\n",
      "Epoch [27/50], Training loss: 0.0025 Accuracy: 78.00\n",
      "Epoch [28/50], Training loss: 0.0023 Accuracy: 77.00\n",
      "Epoch [29/50], Training loss: 0.0022 Accuracy: 78.00\n",
      "Epoch [30/50], Training loss: 0.0020 Accuracy: 78.00\n",
      "Epoch [31/50], Training loss: 0.0019 Accuracy: 78.00\n",
      "Epoch [32/50], Training loss: 0.0017 Accuracy: 78.00\n",
      "Epoch [33/50], Training loss: 0.0016 Accuracy: 78.00\n",
      "Epoch [34/50], Training loss: 0.0015 Accuracy: 77.00\n",
      "Epoch [35/50], Training loss: 0.0014 Accuracy: 78.00\n",
      "Epoch [36/50], Training loss: 0.0013 Accuracy: 77.00\n",
      "Epoch [37/50], Training loss: 0.0013 Accuracy: 78.00\n",
      "Epoch [38/50], Training loss: 0.0012 Accuracy: 78.00\n",
      "Epoch [39/50], Training loss: 0.0011 Accuracy: 78.00\n",
      "Epoch [40/50], Training loss: 0.0010 Accuracy: 78.00\n",
      "Epoch [41/50], Training loss: 0.0010 Accuracy: 78.00\n",
      "Epoch [42/50], Training loss: 0.0009 Accuracy: 78.00\n",
      "Epoch [43/50], Training loss: 0.0009 Accuracy: 78.00\n",
      "Epoch [44/50], Training loss: 0.0008 Accuracy: 78.00\n",
      "Epoch [45/50], Training loss: 0.0008 Accuracy: 78.00\n",
      "Epoch [46/50], Training loss: 0.0007 Accuracy: 78.00\n",
      "Epoch [47/50], Training loss: 0.0007 Accuracy: 78.00\n",
      "Epoch [48/50], Training loss: 0.0007 Accuracy: 78.00\n",
      "Epoch [49/50], Training loss: 0.0006 Accuracy: 78.00\n",
      "Epoch [50/50], Training loss: 0.0006 Accuracy: 78.00\n"
     ]
    }
   ],
   "source": [
    "# Training parameters\n",
    "loss_fn = nn.CrossEntropyLoss()\n",
    "num_epochs = 50\n",
    "learning_rate = 0.001\n",
    "_, validation_accuracy, train_losses = training(model, train_dataloader, valid_dataloader, num_epochs, loss_fn, learning_rate)"
   ]
  },
  {
   "cell_type": "code",
   "execution_count": 116,
   "metadata": {},
   "outputs": [
    {
     "data": {
      "image/png": "[encoded data removed]",
      "text/plain": [
       "<Figure size 800x600 with 2 Axes>"
      ]
     },
     "metadata": {},
     "output_type": "display_data"
    }
   ],
   "source": [
    "fig, (ax1, ax2) = plt.subplots(2, 1, figsize=(8, 6))\n",
    "\n",
    "# Train losses\n",
    "ax1.plot(train_losses)\n",
    "ax1.set_xlabel('Epochs')\n",
    "ax1.set_ylabel('Loss')\n",
    "ax1.set_title('Train Losses')\n",
    "\n",
    "# Validation accuracies\n",
    "ax2.plot(validation_accuracy)\n",
    "ax2.set_xlabel('Epochs')\n",
    "ax2.set_ylabel('Accuracy')\n",
    "ax2.set_title('Validation Accuracies')\n",
    "\n",
    "plt.tight_layout()\n",
    "\n",
    "plt.show()"
   ]
  },
  {
   "cell_type": "markdown",
   "metadata": {},
   "source": [
    "<span style=\"color:red\">**The validation accuracy increases, then slightly fluctuates and then becomes constant after a number of epochs which implies the model is no longer learning. It is important to monitor because it helps know if the model is overfitting, how well the model generalizes to unseen data. It can also help to stop training when the validation accuracy stops improving**</span>"
   ]
  },
  {
   "cell_type": "markdown",
   "metadata": {},
   "source": [
    "**Note**: We conducted training for all epochs, and we simply recorded the best performing model. Proper early stopping would mean that we interrupt training when no improvement is observed after the best validation loss has been obtained (this number of epochs is called a *patience* parameter, since it corresponds to the \"waiting time\" after the best validation score is obtained).\n",
    "This allows to reduce the computational time in addition to yielding the best model.\n",
    "\n",
    "\n",
    "## Adjusting the model's capacity\n",
    "\n",
    "The number of parameters in the network (i.e., the model's *capacity*) is expected to have a major impact on performance. Too few parameters might yield bad performance (underfitting), while too many might hamper the ability of the network to generalize (overfitting).\n",
    "\n",
    "\n",
    "<center><a href=\"https://classic.d2l.ai/chapter_multilayer-perceptrons/underfit-overfit.html\">\n",
    "    <img src=\"https://classic.d2l.ai/_images/capacity-vs-error.svg\" width=\"400\"></a></center>\n",
    "    \n",
    "\n",
    "Here, we study it by varying the number of hidden layers and checking how the validation accuracy behaves.\n",
    "\n",
    "Below we consider a general classifier module, where the number of hidden layers is passed as an input parameter. To create and stack together several layers, we can use the [ModuleList](https://pytorch.org/docs/stable/generated/torch.nn.ModuleList.html) object, along with a simple loop."
   ]
  },
  {
   "cell_type": "code",
   "execution_count": 117,
   "metadata": {},
   "outputs": [
    {
     "name": "stdout",
     "output_type": "stream",
     "text": [
      "ModuleList(\n",
      "  (0-4): 5 x Sequential(\n",
      "    (0): Linear(in_features=10, out_features=10, bias=True)\n",
      "    (1): ReLU()\n",
      "  )\n",
      ")\n"
     ]
    }
   ],
   "source": [
    "# On this example, we stack 5 {Linear + Relu} layers\n",
    "list_layer = nn.ModuleList([nn.Sequential(nn.Linear(10, 10), nn.ReLU()) for l in range(5)])\n",
    "print(list_layer)"
   ]
  },
  {
   "cell_type": "code",
   "execution_count": 118,
   "metadata": {},
   "outputs": [],
   "source": [
    "# TO DO: write the MLP classifier class ('__init__' and 'forward' methods), with a variable number of hidden layers.\n",
    "class MLPClassifier(nn.Module):\n",
    "    def __init__(self, input_size, hidden_size, output_size, hidden_layers):\n",
    "        super(MLPClassifier, self).__init__()\n",
    "\n",
    "        self.input_layer = nn.Sequential(nn.Linear(input_size, hidden_size), nn.ReLU())\n",
    "        self.hidden_layer = nn.ModuleList([nn.Sequential(nn.Linear(hidden_size, hidden_size), nn.ReLU()) for l in range(hidden_layers)])\n",
    "        self.output_layer = nn.Linear(hidden_size, output_size)\n",
    "        self.hidden_layers = hidden_layers\n",
    "\n",
    "    def forward(self, x):\n",
    "        y = self.input_layer(x)\n",
    "        \n",
    "        for layer in self.hidden_layer:\n",
    "            y = layer(y)\n",
    "\n",
    "        out = self.output_layer(y)\n",
    "\n",
    "        return out\n",
    "\n"
   ]
  },
  {
   "cell_type": "code",
   "execution_count": 119,
   "metadata": {},
   "outputs": [],
   "source": [
    "# TO DO: Set hidden_size=16 (better performance) and instanciate an MLP classifier with 2 layers. Print the number of parameters\n",
    "hidden_size = 16\n",
    "loss_fn = nn.CrossEntropyLoss()\n",
    "num_epochs = 50\n",
    "model = MLPClassif(input_size, hidden_size, output_size)\n"
   ]
  },
  {
   "cell_type": "code",
   "execution_count": 120,
   "metadata": {},
   "outputs": [],
   "source": [
    "def print_num_params(model):\n",
    "    print('Total number of parameters:', sum(p.numel() for p in model.parameters()))\n",
    "    return"
   ]
  },
  {
   "cell_type": "code",
   "execution_count": 121,
   "metadata": {},
   "outputs": [
    {
     "name": "stdout",
     "output_type": "stream",
     "text": [
      "Total number of parameters: 13002\n",
      "None\n"
     ]
    }
   ],
   "source": [
    "print(print_num_params(model))"
   ]
  },
  {
   "cell_type": "markdown",
   "metadata": {},
   "source": [
    "<span style=\"color:red\">**Exercice 2**</span> For a number of hidden layers equal to 1, 3, and 5:\n",
    "- Instanciate a model (remember to **initialize** the parameters to ensure reproducibility)\n",
    "- Train the model and record the validation accuracy\n",
    "- Display the maximum validation accuracy over epochs (either print the value, or plot the max accuracy vs. number of hidden layers)\n",
    "\n",
    "What do you observe? What's the best model / number of hidden layers to use?"
   ]
  },
  {
   "cell_type": "code",
   "execution_count": 124,
   "metadata": {},
   "outputs": [
    {
     "name": "stdout",
     "output_type": "stream",
     "text": [
      "Total number of parameters: 13002\n",
      "None\n",
      "Epoch [1/50], Training loss: 2.1201 Accuracy: 16.00\n",
      "Epoch [2/50], Training loss: 1.5080 Accuracy: 49.00\n",
      "Epoch [3/50], Training loss: 0.9965 Accuracy: 57.00\n",
      "Epoch [4/50], Training loss: 0.6725 Accuracy: 72.00\n",
      "Epoch [5/50], Training loss: 0.4700 Accuracy: 76.00\n",
      "Epoch [6/50], Training loss: 0.3220 Accuracy: 74.00\n",
      "Epoch [7/50], Training loss: 0.2550 Accuracy: 78.00\n",
      "Epoch [8/50], Training loss: 0.1845 Accuracy: 79.00\n",
      "Epoch [9/50], Training loss: 0.1415 Accuracy: 79.00\n",
      "Epoch [10/50], Training loss: 0.1104 Accuracy: 78.00\n",
      "Epoch [11/50], Training loss: 0.0889 Accuracy: 77.00\n",
      "Epoch [12/50], Training loss: 0.0720 Accuracy: 78.00\n",
      "Epoch [13/50], Training loss: 0.0564 Accuracy: 79.00\n",
      "Epoch [14/50], Training loss: 0.0444 Accuracy: 78.00\n",
      "Epoch [15/50], Training loss: 0.0382 Accuracy: 77.00\n",
      "Epoch [16/50], Training loss: 0.0317 Accuracy: 78.00\n",
      "Epoch [17/50], Training loss: 0.0245 Accuracy: 78.00\n",
      "Epoch [18/50], Training loss: 0.0211 Accuracy: 79.00\n",
      "Epoch [19/50], Training loss: 0.0177 Accuracy: 78.00\n",
      "Epoch [20/50], Training loss: 0.0154 Accuracy: 79.00\n",
      "Epoch [21/50], Training loss: 0.0137 Accuracy: 78.00\n",
      "Epoch [22/50], Training loss: 0.0119 Accuracy: 78.00\n",
      "Epoch [23/50], Training loss: 0.0105 Accuracy: 79.00\n",
      "Epoch [24/50], Training loss: 0.0094 Accuracy: 79.00\n",
      "Epoch [25/50], Training loss: 0.0084 Accuracy: 79.00\n",
      "Epoch [26/50], Training loss: 0.0077 Accuracy: 79.00\n",
      "Epoch [27/50], Training loss: 0.0068 Accuracy: 79.00\n",
      "Epoch [28/50], Training loss: 0.0063 Accuracy: 78.00\n",
      "Epoch [29/50], Training loss: 0.0057 Accuracy: 79.00\n",
      "Epoch [30/50], Training loss: 0.0052 Accuracy: 79.00\n",
      "Epoch [31/50], Training loss: 0.0048 Accuracy: 80.00\n",
      "Epoch [32/50], Training loss: 0.0044 Accuracy: 79.00\n",
      "Epoch [33/50], Training loss: 0.0041 Accuracy: 79.00\n",
      "Epoch [34/50], Training loss: 0.0038 Accuracy: 79.00\n",
      "Epoch [35/50], Training loss: 0.0035 Accuracy: 79.00\n",
      "Epoch [36/50], Training loss: 0.0033 Accuracy: 79.00\n",
      "Epoch [37/50], Training loss: 0.0031 Accuracy: 80.00\n",
      "Epoch [38/50], Training loss: 0.0029 Accuracy: 80.00\n",
      "Epoch [39/50], Training loss: 0.0027 Accuracy: 79.00\n",
      "Epoch [40/50], Training loss: 0.0025 Accuracy: 80.00\n",
      "Epoch [41/50], Training loss: 0.0024 Accuracy: 79.00\n",
      "Epoch [42/50], Training loss: 0.0023 Accuracy: 79.00\n",
      "Epoch [43/50], Training loss: 0.0021 Accuracy: 79.00\n",
      "Epoch [44/50], Training loss: 0.0020 Accuracy: 80.00\n",
      "Epoch [45/50], Training loss: 0.0019 Accuracy: 80.00\n",
      "Epoch [46/50], Training loss: 0.0017 Accuracy: 80.00\n",
      "Epoch [47/50], Training loss: 0.0016 Accuracy: 79.00\n",
      "Epoch [48/50], Training loss: 0.0015 Accuracy: 79.00\n",
      "Epoch [49/50], Training loss: 0.0015 Accuracy: 80.00\n",
      "Epoch [50/50], Training loss: 0.0014 Accuracy: 79.00\n",
      "Total number of parameters: 13546\n",
      "None\n",
      "Epoch [1/50], Training loss: 2.2429 Accuracy: 14.00\n",
      "Epoch [2/50], Training loss: 1.8982 Accuracy: 25.00\n",
      "Epoch [3/50], Training loss: 1.4943 Accuracy: 29.00\n",
      "Epoch [4/50], Training loss: 1.1399 Accuracy: 49.00\n",
      "Epoch [5/50], Training loss: 0.8152 Accuracy: 68.00\n",
      "Epoch [6/50], Training loss: 0.5550 Accuracy: 70.00\n",
      "Epoch [7/50], Training loss: 0.3823 Accuracy: 79.00\n",
      "Epoch [8/50], Training loss: 0.2838 Accuracy: 72.00\n",
      "Epoch [9/50], Training loss: 0.2149 Accuracy: 74.00\n",
      "Epoch [10/50], Training loss: 0.1716 Accuracy: 77.00\n",
      "Epoch [11/50], Training loss: 0.1343 Accuracy: 78.00\n",
      "Epoch [12/50], Training loss: 0.0952 Accuracy: 79.00\n",
      "Epoch [13/50], Training loss: 0.0694 Accuracy: 77.00\n",
      "Epoch [14/50], Training loss: 0.0564 Accuracy: 80.00\n",
      "Epoch [15/50], Training loss: 0.0434 Accuracy: 83.00\n",
      "Epoch [16/50], Training loss: 0.0328 Accuracy: 81.00\n",
      "Epoch [17/50], Training loss: 0.0238 Accuracy: 80.00\n",
      "Epoch [18/50], Training loss: 0.0204 Accuracy: 81.00\n",
      "Epoch [19/50], Training loss: 0.0153 Accuracy: 80.00\n",
      "Epoch [20/50], Training loss: 0.0132 Accuracy: 82.00\n",
      "Epoch [21/50], Training loss: 0.0100 Accuracy: 81.00\n",
      "Epoch [22/50], Training loss: 0.0086 Accuracy: 80.00\n",
      "Epoch [23/50], Training loss: 0.0070 Accuracy: 80.00\n",
      "Epoch [24/50], Training loss: 0.0064 Accuracy: 83.00\n",
      "Epoch [25/50], Training loss: 0.0055 Accuracy: 81.00\n",
      "Epoch [26/50], Training loss: 0.0049 Accuracy: 82.00\n",
      "Epoch [27/50], Training loss: 0.0044 Accuracy: 82.00\n",
      "Epoch [28/50], Training loss: 0.0039 Accuracy: 82.00\n",
      "Epoch [29/50], Training loss: 0.0034 Accuracy: 82.00\n",
      "Epoch [30/50], Training loss: 0.0030 Accuracy: 82.00\n",
      "Epoch [31/50], Training loss: 0.0028 Accuracy: 83.00\n",
      "Epoch [32/50], Training loss: 0.0025 Accuracy: 82.00\n",
      "Epoch [33/50], Training loss: 0.0023 Accuracy: 82.00\n",
      "Epoch [34/50], Training loss: 0.0021 Accuracy: 82.00\n",
      "Epoch [35/50], Training loss: 0.0019 Accuracy: 83.00\n",
      "Epoch [36/50], Training loss: 0.0018 Accuracy: 83.00\n",
      "Epoch [37/50], Training loss: 0.0016 Accuracy: 82.00\n",
      "Epoch [38/50], Training loss: 0.0015 Accuracy: 82.00\n",
      "Epoch [39/50], Training loss: 0.0014 Accuracy: 82.00\n",
      "Epoch [40/50], Training loss: 0.0013 Accuracy: 83.00\n",
      "Epoch [41/50], Training loss: 0.0012 Accuracy: 82.00\n",
      "Epoch [42/50], Training loss: 0.0012 Accuracy: 82.00\n",
      "Epoch [43/50], Training loss: 0.0011 Accuracy: 82.00\n",
      "Epoch [44/50], Training loss: 0.0010 Accuracy: 83.00\n",
      "Epoch [45/50], Training loss: 0.0010 Accuracy: 82.00\n",
      "Epoch [46/50], Training loss: 0.0009 Accuracy: 82.00\n",
      "Epoch [47/50], Training loss: 0.0008 Accuracy: 83.00\n",
      "Epoch [48/50], Training loss: 0.0008 Accuracy: 83.00\n",
      "Epoch [49/50], Training loss: 0.0008 Accuracy: 83.00\n",
      "Epoch [50/50], Training loss: 0.0007 Accuracy: 82.00\n",
      "Total number of parameters: 14090\n",
      "None\n",
      "Epoch [1/50], Training loss: 2.2489 Accuracy: 8.00\n",
      "Epoch [2/50], Training loss: 2.0945 Accuracy: 12.00\n",
      "Epoch [3/50], Training loss: 1.8320 Accuracy: 28.00\n",
      "Epoch [4/50], Training loss: 1.6085 Accuracy: 33.00\n",
      "Epoch [5/50], Training loss: 1.3976 Accuracy: 42.00\n",
      "Epoch [6/50], Training loss: 1.1273 Accuracy: 55.00\n",
      "Epoch [7/50], Training loss: 0.8561 Accuracy: 59.00\n",
      "Epoch [8/50], Training loss: 0.6577 Accuracy: 58.00\n",
      "Epoch [9/50], Training loss: 0.5138 Accuracy: 68.00\n",
      "Epoch [10/50], Training loss: 0.3647 Accuracy: 78.00\n",
      "Epoch [11/50], Training loss: 0.2568 Accuracy: 74.00\n",
      "Epoch [12/50], Training loss: 0.1904 Accuracy: 78.00\n",
      "Epoch [13/50], Training loss: 0.1288 Accuracy: 75.00\n",
      "Epoch [14/50], Training loss: 0.0938 Accuracy: 76.00\n",
      "Epoch [15/50], Training loss: 0.0677 Accuracy: 76.00\n",
      "Epoch [16/50], Training loss: 0.0542 Accuracy: 78.00\n",
      "Epoch [17/50], Training loss: 0.0459 Accuracy: 77.00\n",
      "Epoch [18/50], Training loss: 0.0427 Accuracy: 75.00\n",
      "Epoch [19/50], Training loss: 0.0336 Accuracy: 79.00\n",
      "Epoch [20/50], Training loss: 0.0272 Accuracy: 77.00\n",
      "Epoch [21/50], Training loss: 0.0220 Accuracy: 79.00\n",
      "Epoch [22/50], Training loss: 0.0214 Accuracy: 79.00\n",
      "Epoch [23/50], Training loss: 0.0182 Accuracy: 76.00\n",
      "Epoch [24/50], Training loss: 0.0142 Accuracy: 79.00\n",
      "Epoch [25/50], Training loss: 0.0119 Accuracy: 77.00\n",
      "Epoch [26/50], Training loss: 0.0134 Accuracy: 77.00\n",
      "Epoch [27/50], Training loss: 0.0164 Accuracy: 76.00\n",
      "Epoch [28/50], Training loss: 0.0100 Accuracy: 76.00\n",
      "Epoch [29/50], Training loss: 0.0071 Accuracy: 76.00\n",
      "Epoch [30/50], Training loss: 0.0055 Accuracy: 76.00\n",
      "Epoch [31/50], Training loss: 0.0043 Accuracy: 76.00\n",
      "Epoch [32/50], Training loss: 0.0042 Accuracy: 75.00\n",
      "Epoch [33/50], Training loss: 0.0033 Accuracy: 74.00\n",
      "Epoch [34/50], Training loss: 0.0029 Accuracy: 75.00\n",
      "Epoch [35/50], Training loss: 0.0025 Accuracy: 75.00\n",
      "Epoch [36/50], Training loss: 0.0021 Accuracy: 75.00\n",
      "Epoch [37/50], Training loss: 0.0019 Accuracy: 75.00\n",
      "Epoch [38/50], Training loss: 0.0017 Accuracy: 75.00\n",
      "Epoch [39/50], Training loss: 0.0015 Accuracy: 76.00\n",
      "Epoch [40/50], Training loss: 0.0014 Accuracy: 75.00\n",
      "Epoch [41/50], Training loss: 0.0013 Accuracy: 77.00\n",
      "Epoch [42/50], Training loss: 0.0012 Accuracy: 75.00\n",
      "Epoch [43/50], Training loss: 0.0010 Accuracy: 75.00\n",
      "Epoch [44/50], Training loss: 0.0010 Accuracy: 76.00\n",
      "Epoch [45/50], Training loss: 0.0009 Accuracy: 76.00\n",
      "Epoch [46/50], Training loss: 0.0008 Accuracy: 76.00\n",
      "Epoch [47/50], Training loss: 0.0007 Accuracy: 76.00\n",
      "Epoch [48/50], Training loss: 0.0007 Accuracy: 76.00\n",
      "Epoch [49/50], Training loss: 0.0006 Accuracy: 76.00\n",
      "Epoch [50/50], Training loss: 0.0006 Accuracy: 76.00\n",
      "[80.0, 83.0, 79.0]\n"
     ]
    }
   ],
   "source": [
    "hidden_layer_list = [1, 3, 5]\n",
    "max_acc = []\n",
    "for layer in hidden_layer_list:\n",
    "    model = MLPClassifier(input_size, hidden_size, output_size, layer)\n",
    "    print(print_num_params(model))\n",
    "    torch.manual_seed(0)\n",
    "\n",
    "    model.apply(init_params)\n",
    "\n",
    "    model_opt, validation_accuracy, train_losses = training(model, train_dataloader, valid_dataloader, num_epochs, loss_fn, learning_rate)\n",
    "\n",
    "    max_acc.append(max(validation_accuracy))\n",
    "\n",
    "print(max_acc)\n"
   ]
  },
  {
   "cell_type": "code",
   "execution_count": 123,
   "metadata": {},
   "outputs": [
    {
     "data": {
      "text/plain": [
       "[<matplotlib.lines.Line2D at 0x7f8c166aa3f0>]"
      ]
     },
     "execution_count": 123,
     "metadata": {},
     "output_type": "execute_result"
    },
    {
     "data": {
      "image/png": "[encoded data removed]",
      "text/plain": [
       "<Figure size 640x480 with 1 Axes>"
      ]
     },
     "metadata": {},
     "output_type": "display_data"
    }
   ],
   "source": [
    "plt.plot(hidden_layer_list, max_acc)\n"
   ]
  },
  {
   "cell_type": "markdown",
   "metadata": {},
   "source": [
    "The best hidden size to use is 3. It gives the model with the best accuracy i.e 83%. "
   ]
  },
  {
   "cell_type": "code",
   "execution_count": null,
   "metadata": {},
   "outputs": [],
   "source": []
  }
 ],
 "metadata": {
  "kernelspec": {
   "display_name": "Python 3 (ipykernel)",
   "language": "python",
   "name": "python3"
  },
  "language_info": {
   "codemirror_mode": {
    "name": "ipython",
    "version": 3
   },
   "file_extension": ".py",
   "mimetype": "text/x-python",
   "name": "python",
   "nbconvert_exporter": "python",
   "pygments_lexer": "ipython3",
   "version": "3.12.3"
  }
 },
 "nbformat": 4,
 "nbformat_minor": 4
}
