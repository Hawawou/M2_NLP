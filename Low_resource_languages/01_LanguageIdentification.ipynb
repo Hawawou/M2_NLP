{
  "cells": [
    {
      "cell_type": "markdown",
      "metadata": {
        "id": "7fVe_50Qz_hA"
      },
      "source": [
        "# Language identification for regional languages of France  \n",
        "\n",
        "In this lab, you will work on varities on French and on the task of language identification."
      ]
    },
    {
      "cell_type": "markdown",
      "metadata": {
        "id": "OQgesTgWR9Bn"
      },
      "source": [
        "## 0. Install libraries and import data"
      ]
    },
    {
      "cell_type": "code",
      "execution_count": 1,
      "metadata": {
        "id": "9wEaInkNbsen"
      },
      "outputs": [
        {
          "name": "stderr",
          "output_type": "stream",
          "text": [
            "/home/oumar/School/.venv/lib64/python3.12/site-packages/tqdm/auto.py:21: TqdmWarning: IProgress not found. Please update jupyter and ipywidgets. See https://ipywidgets.readthedocs.io/en/stable/user_install.html\n",
            "  from .autonotebook import tqdm as notebook_tqdm\n"
          ]
        }
      ],
      "source": [
        "from collections import Counter\n",
        "\n",
        "import pandas as pd\n",
        "import fasttext as ft\n",
        "from huggingface_hub import hf_hub_download\n",
        "import numpy as np\n",
        "from sklearn.metrics import ConfusionMatrixDisplay, confusion_matrix\n",
        "import matplotlib.pyplot as plt\n",
        "import seaborn as sns"
      ]
    },
    {
      "cell_type": "markdown",
      "metadata": {
        "id": "kPiXFBwqSEL7"
      },
      "source": [
        "You now have access to the file `parable_dataset.csv` in the folder `data`. Some explanations about this dataset:"
      ]
    },
    {
      "cell_type": "markdown",
      "metadata": {
        "id": "-ouPeyK4R0nT"
      },
      "source": [
        "### Description of the dataset\n",
        "\n",
        "The dataset has been acquired from a book entitled [\"Parabole de l'enfant prodigue en divers dialectes, patois de la France, avec une introduction sur la formation des dialectes et patois de la France\"](https://archive.org/details/paraboledelenfan00favr/), published in 1879 and authored by Léopold Favre.\n",
        "It contains translations of the \"Parable of the Lost Son\" in several regional languages of France, collected at the beginning of the 19th century.\n",
        "\n",
        "The dataset presents a combination of challenges which are often observed in low-resource settings:\n",
        "- diachronic variation\n",
        "- diatopic variation\n",
        "- lack of spelling standards\n",
        "- errors due to OCR (Optical Charactacter Recognition)\n",
        "- approximate characterization of the language due to the lack of dedicated ISO 639.3 codes."
      ]
    },
    {
      "cell_type": "markdown",
      "metadata": {
        "id": "Q9rcNnn_g0rP"
      },
      "source": [
        "## 1. Exploration of the dataset"
      ]
    },
    {
      "cell_type": "markdown",
      "metadata": {
        "id": "KK-ZPs_6TD2E"
      },
      "source": [
        "**1) Load the parable dataset into a pandas DataFrame object called `parable_df`. Also print the shape of the dataset, its columns, the five first rows and the five last rows.**"
      ]
    },
    {
      "cell_type": "code",
      "execution_count": 2,
      "metadata": {
        "id": "3FPmKxZfTRJF"
      },
      "outputs": [
        {
          "data": {
            "text/html": [
              "<div>\n",
              "<style scoped>\n",
              "    .dataframe tbody tr th:only-of-type {\n",
              "        vertical-align: middle;\n",
              "    }\n",
              "\n",
              "    .dataframe tbody tr th {\n",
              "        vertical-align: top;\n",
              "    }\n",
              "\n",
              "    .dataframe thead th {\n",
              "        text-align: right;\n",
              "    }\n",
              "</style>\n",
              "<table border=\"1\" class=\"dataframe\">\n",
              "  <thead>\n",
              "    <tr style=\"text-align: right;\">\n",
              "      <th></th>\n",
              "      <th>page</th>\n",
              "      <th>verse_number</th>\n",
              "      <th>verse</th>\n",
              "      <th>title</th>\n",
              "      <th>variety</th>\n",
              "      <th>variety_glottocode</th>\n",
              "      <th>language</th>\n",
              "      <th>language_glottocode</th>\n",
              "      <th>lang_iso639.3</th>\n",
              "      <th>var_lang_rel</th>\n",
              "    </tr>\n",
              "  </thead>\n",
              "  <tbody>\n",
              "    <tr>\n",
              "      <th>0</th>\n",
              "      <td>2</td>\n",
              "      <td>11</td>\n",
              "      <td>Jesus leur dit encore : Un homme avait deux fils.</td>\n",
              "      <td>Parabole de l'Enfant prodigue. Evangile selon ...</td>\n",
              "      <td>French</td>\n",
              "      <td>stan1290</td>\n",
              "      <td>French</td>\n",
              "      <td>stan1290</td>\n",
              "      <td>fra</td>\n",
              "      <td>match</td>\n",
              "    </tr>\n",
              "    <tr>\n",
              "      <th>1</th>\n",
              "      <td>2</td>\n",
              "      <td>12</td>\n",
              "      <td>dont le plus jeune dit à son père : mon père, ...</td>\n",
              "      <td>Parabole de l'Enfant prodigue. Evangile selon ...</td>\n",
              "      <td>French</td>\n",
              "      <td>stan1290</td>\n",
              "      <td>French</td>\n",
              "      <td>stan1290</td>\n",
              "      <td>fra</td>\n",
              "      <td>match</td>\n",
              "    </tr>\n",
              "    <tr>\n",
              "      <th>2</th>\n",
              "      <td>2</td>\n",
              "      <td>13</td>\n",
              "      <td>Peu de jours après, le plus jeune de ces deux ...</td>\n",
              "      <td>Parabole de l'Enfant prodigue. Evangile selon ...</td>\n",
              "      <td>French</td>\n",
              "      <td>stan1290</td>\n",
              "      <td>French</td>\n",
              "      <td>stan1290</td>\n",
              "      <td>fra</td>\n",
              "      <td>match</td>\n",
              "    </tr>\n",
              "    <tr>\n",
              "      <th>3</th>\n",
              "      <td>2</td>\n",
              "      <td>14</td>\n",
              "      <td>Après qu’il eut tout dépensé, il survint une g...</td>\n",
              "      <td>Parabole de l'Enfant prodigue. Evangile selon ...</td>\n",
              "      <td>French</td>\n",
              "      <td>stan1290</td>\n",
              "      <td>French</td>\n",
              "      <td>stan1290</td>\n",
              "      <td>fra</td>\n",
              "      <td>match</td>\n",
              "    </tr>\n",
              "    <tr>\n",
              "      <th>4</th>\n",
              "      <td>2</td>\n",
              "      <td>15</td>\n",
              "      <td>Il s’en alla donc, et s’attacha au service d’u...</td>\n",
              "      <td>Parabole de l'Enfant prodigue. Evangile selon ...</td>\n",
              "      <td>French</td>\n",
              "      <td>stan1290</td>\n",
              "      <td>French</td>\n",
              "      <td>stan1290</td>\n",
              "      <td>fra</td>\n",
              "      <td>match</td>\n",
              "    </tr>\n",
              "  </tbody>\n",
              "</table>\n",
              "</div>"
            ],
            "text/plain": [
              "   page  verse_number                                              verse  \\\n",
              "0     2            11  Jesus leur dit encore : Un homme avait deux fils.   \n",
              "1     2            12  dont le plus jeune dit à son père : mon père, ...   \n",
              "2     2            13  Peu de jours après, le plus jeune de ces deux ...   \n",
              "3     2            14  Après qu’il eut tout dépensé, il survint une g...   \n",
              "4     2            15  Il s’en alla donc, et s’attacha au service d’u...   \n",
              "\n",
              "                                               title variety  \\\n",
              "0  Parabole de l'Enfant prodigue. Evangile selon ...  French   \n",
              "1  Parabole de l'Enfant prodigue. Evangile selon ...  French   \n",
              "2  Parabole de l'Enfant prodigue. Evangile selon ...  French   \n",
              "3  Parabole de l'Enfant prodigue. Evangile selon ...  French   \n",
              "4  Parabole de l'Enfant prodigue. Evangile selon ...  French   \n",
              "\n",
              "  variety_glottocode language language_glottocode lang_iso639.3 var_lang_rel  \n",
              "0           stan1290   French            stan1290           fra        match  \n",
              "1           stan1290   French            stan1290           fra        match  \n",
              "2           stan1290   French            stan1290           fra        match  \n",
              "3           stan1290   French            stan1290           fra        match  \n",
              "4           stan1290   French            stan1290           fra        match  "
            ]
          },
          "execution_count": 2,
          "metadata": {},
          "output_type": "execute_result"
        }
      ],
      "source": [
        "# TO DO\n",
        "parable_df = pd.read_csv(\"data/parable_dataset.csv\")\n",
        "parable_df.head()"
      ]
    },
    {
      "cell_type": "markdown",
      "metadata": {
        "id": "XIhz7uqDUge2"
      },
      "source": [
        "**2) Print all the verses of the version whose title is `\"Parabole de l'Enfant prodigue. Evangile selon Saint-Luc, chap. XV. (Traduction de Le Maistre de Sacy.)\"`. If you are a French speaker, you should be able to understand it (even if some sentences \"feel old\").**"
      ]
    },
    {
      "cell_type": "code",
      "execution_count": 6,
      "metadata": {
        "id": "YOG7vW3EXGtS"
      },
      "outputs": [
        {
          "data": {
            "text/plain": [
              "array(['Jesus leur dit encore : Un homme avait deux fils.',\n",
              "       'dont le plus jeune dit à son père : mon père, donnezmoi ce qui doit me revenir de votre bien. Et le père leur fit le partage de son bien.',\n",
              "       \"Peu de jours après, le plus jeune de ces deux fils, ayant amassé tout ce qu’il avait, s'en alla dans un pays étranger fort éloigné, où il dissipa tout son bien en excés et en débauches.\",\n",
              "       'Après qu’il eut tout dépensé, il survint une grande famine dans ce pays-là, et il commença à tomber en nécessité.',\n",
              "       \"Il s’en alla donc, et s’attacha au service d’un des habitants du pays, qui l'envoya dans sa maison des champs pour y garder les pourceaux.\",\n",
              "       'Et là il eût été bien aise de remplir son ventre des cosses que les pourceaux mangeaient; mais personne ne lui en donnait.',\n",
              "       'Enfin, étant rentré en lui-même, il dit : Combien y a-t-il, chez mon père, de serviteurs à gages qui ont plus de qu’il ne leur en faut; et moi je meurs ici de faim !',\n",
              "       \"Il faut que je me lève et que j'aille trouver mon père, et que je lui dise : mon père, j'ai pêché contre le ciel et contre vous;\",\n",
              "       \"et je ne suis plus digne d'être appelé votre fils; traitez-moi comme l’un des serviteurs qui sont à vos gages.\",\n",
              "       \"Il se leva donc et vint trouver son père , et lorsqu'il était encore bien loin, son père l'aperçut et en fut touché de compassion ; et, courant à lui, il se jeta à son cou et le baisa ;\",\n",
              "       \"et son fils lui dit : mon père, j'ai péché contre le ciel et contre vous ; et je ne suis plus digne d'être appelé votre fils.\",\n",
              "       \"Alors le père dit à ses serviteurs : apportez promptement la plus belle robe et l'en revêtez ; et mettez-lui un anneau au doigt et des souliers aux pieds ;\",\n",
              "       'amenez aussi le veau gras, et le tuez ; mangeons et faisons bonne chère :',\n",
              "       'parce que mon fils que voici étail mort, et il est ressuscité ; il était perdu, et il est retrouvé. Ils commencèrent donc à faire festin.',\n",
              "       'Cependant son fils ainé, qui était dans les champs, revint ; et, lorsqu’il fut proche de la maison, il entendit les concerts et le bruit de ceux qui dansaient.',\n",
              "       \"Il appela donc un des serviteurs, et lui demanda ce que c'était.\",\n",
              "       'Le serviteur lui répondit : c’est que votre frère est revenu ; et votre père a tué le veau gras, parce qu’il le revoit en santé.',\n",
              "       \"Ce qui l'ayant mis en colère, il ne voulait point entrer mais son père étant sorti pour l'en prier,\",\n",
              "       \"il lui fit cette réponse : Voilà déjà tant d’années que e vous sers, et je ne vous ai jamais désobéi en rien de ce que vous m'avez commandé; et cependant vous ne m’avez jamais donné un chevreau, pour me réjouir avec mes amis ;\",\n",
              "       'mais aussitôt que votre autre fils, qui a mangé son bien avec des femmes perdues, est revenu, vous avez tué pour lui le veau gras.',\n",
              "       \"Alors le père lui dit: mon fils, vous êtes toujours avec moi, et tout ce que j'ai est à vous;\",\n",
              "       'mais il fallait faire festin et nous réjouir, parce que votre frère était mort, et il est ressuscité ; il était perdu, et il a été retrouvé.'],\n",
              "      dtype=object)"
            ]
          },
          "execution_count": 6,
          "metadata": {},
          "output_type": "execute_result"
        }
      ],
      "source": [
        "title_1 = \"Parabole de l'Enfant prodigue. Evangile selon Saint-Luc, chap. XV. (Traduction de Le Maistre de Sacy.)\"\n",
        "\n",
        "# TO DO\n",
        "verses = parable_df[parable_df['title']==title_1][\"verse\"].values\n",
        "verses"
      ]
    },
    {
      "cell_type": "markdown",
      "metadata": {
        "id": "_hmOvecaVbd2"
      },
      "source": [
        "**3) Now print all the verses of the version whose title is `Id. en patois d'Onville, canton de Gorze (Moselle)\"`. Can you understand it this time ? Which variety is it ? Which language ?**\n",
        "\n"
      ]
    },
    {
      "cell_type": "code",
      "execution_count": 8,
      "metadata": {
        "id": "syD0pWseV9ec"
      },
      "outputs": [
        {
          "name": "stdout",
          "output_type": "stream",
          "text": [
            "['Ain oumme aiveu daoz offans ;'\n",
            " 'Lou pu jonne des daut déheu ait se pairre: Papa, ce que deu me revenain dé vote bain, et le p pairre li ao féyeu le pertaige de se bain.'\n",
            " 'Paot de jou etpré, lou pu jonne de cés daoz offans réméssay tourtou ce que leveu sé enolaye dans ain É . pays e!rége bin long, osse qué le dépainaye tourtou se E bain en excès et en debauches.'\n",
            " 'Etpré que lé evu tourtou dépainaye, lè airivaye ainne grande faimaine dans ce pays let, et lé dooit béson.'\n",
            " \"T s'en ait don ennolaye et sé étéchi au que des habitans don pays, qué lé env: en sait mohon des champs, pou y oidaye les cochons.\"\n",
            " \"Et toulet l'éreu etu ben ahhe de rémplire se ventre des crofouilles qué les cochons maingaint ; ma péhounne ne li en beilleu.\"\n",
            " \"Enfin, réntraye en lu-maime, y debeu: Combain y ait-il dans lait mohon dé me pairre de qu'ont pu dé pé qui ni aut en faut; ei mé jot ioussé et à meurri de fé?\"\n",
            " 'Y faut qué je me leuveusse, et qué j’oleusse treuvaye me pairre, et qué jé li deheusse : Papa, ja maux fa : conte le ciel et conte vous :'\n",
            " \"Et je not pu daigne qu'on me houieusse vote offan, coumme ainque dé valot qué sont et vos gaiges.\"\n",
            " \"Y se donc levaye et s'en ait venain trevaye seu pairre et quant l'oteu enco bain long, seu pairre çut el en aiveut pitié; et courant ai lu, y sé jéttaye ai se caut et lé émbréssi.\"\n",
            " \"Et sou fé li déheu: Papa, j'a maux fa conte le ciel et conte vous ; et je not pu daigne qu’on me houieusse vote offan.\"\n",
            " \"Aussé-tou le pairre ai dé et sés valots: epteu ben vite se premire roube, et reveteu l'en, et moiteu li ainne beque au deue, et des soulaye et ses pits :\"\n",
            " 'Aimeneu aussé le vé gras, el toueulle: maingan et faian bounne chir ,'\n",
            " \"Pessequé mon offan que vélait oteu mou, et l'ot resucitaye: peudu, et l'ot retreuvaye: l’on coummencit don et farre le faite.\"\n",
            " \"Pourlant son offan le pu vieu, qu'otieu dans les champs, ait revenin ; et quand y feu delaye let mohon l'oheu les violons et le bru des sçots que danseint. À\"\n",
            " \"Y houheu don ainque des valots, etli demaudeu ceque ç'oteu.\"\n",
            " 'Le valot li répondeut : C’ost qué vote frairre ost révenain, et vote pairre ait touoyet Ie vé gras , et cause qui le reoit en santaye.'\n",
            " 'Ce qué fa fauchi, y ne veuleume entraye dans lai mohon : ma se pairre ètant sourti pou len prii;'\n",
            " \"Y li repondeu cecé : Vélai déjait tant d'ennaye qué e ve ser, et je ne v'as jemas desobei en rin dé ce qué vé m'éveu coumandaye, et pourtant vé ne m'eveu jéma beilli ain baiquain pou me aivot mes aimis :\"\n",
            " \"Mas ausse-tou que votte aute offan, qu'é mingi sou bin aivo des foummes pédau, ait révenain, v'éveu touaye le vé gras.\"\n",
            " \"Pou le caut le pairre li ait dé: Mon offan, v'oteu toujou aivaut mé, et tout ce que j'a ost dé vot ;\"\n",
            " \"Ma y folleu farre lé féte et neu rejoii, puisque vôte fraire oteu mou, et ressuscitaye, l’oteu peudu et l'ait eteu rétréuvaye.\"]\n"
          ]
        }
      ],
      "source": [
        "title_2 = \"Id. en patois d'Onville, canton de Gorze (Moselle)\"\n",
        "\n",
        "# TO DO\n",
        "verse2 = parable_df[parable_df['title'] == title_2][\"verse\"].values\n",
        "print(verse2)"
      ]
    },
    {
      "cell_type": "markdown",
      "metadata": {
        "id": "69zJDNPuhhbn"
      },
      "source": [
        "**4) Now we'll have a look at the different varities and languages contained in the dataset. Print the list of all varieties contained in the dataset, and the list of all languages.**"
      ]
    },
    {
      "cell_type": "code",
      "execution_count": 9,
      "metadata": {
        "id": "cjGLRh9Ph4PT"
      },
      "outputs": [
        {
          "name": "stdout",
          "output_type": "stream",
          "text": [
            "['French' 'Auvergnat' 'Walloon' 'Picard' 'Lorrain Roman' 'Franc-Comtois'\n",
            " 'Bourguignon-Morvandiau' 'Limousin' 'Poitevin-Saintongeais'\n",
            " 'Languedocian Occitan' 'Gascon' 'Catalan' 'Normand'\n",
            " 'Vivaro-Alpine Occitan' 'Provençal' 'Arpitan' 'Romansh']\n"
          ]
        }
      ],
      "source": [
        "# TO DO\n",
        "print(parable_df[\"variety\"].unique())"
      ]
    },
    {
      "cell_type": "code",
      "execution_count": 11,
      "metadata": {},
      "outputs": [
        {
          "name": "stdout",
          "output_type": "stream",
          "text": [
            "['French' 'Occitan' 'Walloon' 'Picard' 'Catalan' 'Arpitan' 'Romansh']\n"
          ]
        }
      ],
      "source": [
        "print(parable_df[\"language\"].unique())"
      ]
    },
    {
      "cell_type": "markdown",
      "metadata": {
        "id": "eNKIgeSNgu0j"
      },
      "source": [
        "You should find 16 varities, and 7 languages, Occitan being the most represented.\n",
        "\n",
        "\n",
        "Note that there are 3 types of relations between a variety and a language:\n",
        "- `dialect`: the variety is considered to be a dialect of the corresponding language\n",
        "- `match`: the variety and the language match, meaning that this is considered to be an independent language\n",
        "- `same_macro_language`: the variety is not a dialect of the language, but they have the same macro language. For instance, \"Bourguignon-Morvandiau\" is not a dialect of French, but both \"Bourguignon-Morvandiau\" and \"French\" are both \"Langues d'oïl\"."
      ]
    },
    {
      "cell_type": "markdown",
      "metadata": {
        "id": "ngNnuKQbW6LT"
      },
      "source": [
        "**5) Which varieties are considered a dialect of a given language, according to the `var_lang_rel` column ?**"
      ]
    },
    {
      "cell_type": "code",
      "execution_count": 20,
      "metadata": {
        "id": "fWjit71LXVpC"
      },
      "outputs": [
        {
          "data": {
            "text/html": [
              "<div>\n",
              "<style scoped>\n",
              "    .dataframe tbody tr th:only-of-type {\n",
              "        vertical-align: middle;\n",
              "    }\n",
              "\n",
              "    .dataframe tbody tr th {\n",
              "        vertical-align: top;\n",
              "    }\n",
              "\n",
              "    .dataframe thead th {\n",
              "        text-align: right;\n",
              "    }\n",
              "</style>\n",
              "<table border=\"1\" class=\"dataframe\">\n",
              "  <thead>\n",
              "    <tr style=\"text-align: right;\">\n",
              "      <th></th>\n",
              "      <th>page</th>\n",
              "      <th>verse_number</th>\n",
              "      <th>verse</th>\n",
              "      <th>title</th>\n",
              "      <th>variety</th>\n",
              "      <th>variety_glottocode</th>\n",
              "      <th>language</th>\n",
              "      <th>language_glottocode</th>\n",
              "      <th>lang_iso639.3</th>\n",
              "      <th>var_lang_rel</th>\n",
              "    </tr>\n",
              "  </thead>\n",
              "  <tbody>\n",
              "    <tr>\n",
              "      <th>22</th>\n",
              "      <td>4</td>\n",
              "      <td>11</td>\n",
              "      <td>En home aviot dous efons.</td>\n",
              "      <td>Id. en patois de nahrte ouvérgna</td>\n",
              "      <td>Auvergnat</td>\n",
              "      <td>auve1239</td>\n",
              "      <td>Occitan</td>\n",
              "      <td>occi1239</td>\n",
              "      <td>oci</td>\n",
              "      <td>dialect</td>\n",
              "    </tr>\n",
              "    <tr>\n",
              "      <th>23</th>\n",
              "      <td>4</td>\n",
              "      <td>12</td>\n",
              "      <td>Lou pe dzouïne diguet à soun païre: Moun paire...</td>\n",
              "      <td>Id. en patois de nahrte ouvérgna</td>\n",
              "      <td>Auvergnat</td>\n",
              "      <td>auve1239</td>\n",
              "      <td>Occitan</td>\n",
              "      <td>occi1239</td>\n",
              "      <td>oci</td>\n",
              "      <td>dialect</td>\n",
              "    </tr>\n",
              "    <tr>\n",
              "      <th>24</th>\n",
              "      <td>4</td>\n",
              "      <td>13</td>\n",
              "      <td>Quahrques dzours apréz, lou dzouïne garçou ram...</td>\n",
              "      <td>Id. en patois de nahrte ouvérgna</td>\n",
              "      <td>Auvergnat</td>\n",
              "      <td>auve1239</td>\n",
              "      <td>Occitan</td>\n",
              "      <td>occi1239</td>\n",
              "      <td>oci</td>\n",
              "      <td>dialect</td>\n",
              "    </tr>\n",
              "    <tr>\n",
              "      <th>25</th>\n",
              "      <td>4</td>\n",
              "      <td>14</td>\n",
              "      <td>Apréz qu'aguét tout mandza, la famina se fagué...</td>\n",
              "      <td>Id. en patois de nahrte ouvérgna</td>\n",
              "      <td>Auvergnat</td>\n",
              "      <td>auve1239</td>\n",
              "      <td>Occitan</td>\n",
              "      <td>occi1239</td>\n",
              "      <td>oci</td>\n",
              "      <td>dialect</td>\n",
              "    </tr>\n",
              "    <tr>\n",
              "      <th>26</th>\n",
              "      <td>4</td>\n",
              "      <td>15</td>\n",
              "      <td>S'enanét d'ati, se loudzét à un rilge bourdzou...</td>\n",
              "      <td>Id. en patois de nahrte ouvérgna</td>\n",
              "      <td>Auvergnat</td>\n",
              "      <td>auve1239</td>\n",
              "      <td>Occitan</td>\n",
              "      <td>occi1239</td>\n",
              "      <td>oci</td>\n",
              "      <td>dialect</td>\n",
              "    </tr>\n",
              "    <tr>\n",
              "      <th>...</th>\n",
              "      <td>...</td>\n",
              "      <td>...</td>\n",
              "      <td>...</td>\n",
              "      <td>...</td>\n",
              "      <td>...</td>\n",
              "      <td>...</td>\n",
              "      <td>...</td>\n",
              "      <td>...</td>\n",
              "      <td>...</td>\n",
              "      <td>...</td>\n",
              "    </tr>\n",
              "    <tr>\n",
              "      <th>1804</th>\n",
              "      <td>151</td>\n",
              "      <td>28</td>\n",
              "      <td>Aco l'aguendou messou en ira, ou nou vourea pa...</td>\n",
              "      <td>Id. en patois génois de Mons et d'Escragnolles...</td>\n",
              "      <td>Provençal</td>\n",
              "      <td>prov1235</td>\n",
              "      <td>Occitan</td>\n",
              "      <td>occi1239</td>\n",
              "      <td>oci</td>\n",
              "      <td>dialect</td>\n",
              "    </tr>\n",
              "    <tr>\n",
              "      <th>1805</th>\n",
              "      <td>151</td>\n",
              "      <td>29</td>\n",
              "      <td>Ou gué respougé : Ve-li-za tanti bei agni que ...</td>\n",
              "      <td>Id. en patois génois de Mons et d'Escragnolles...</td>\n",
              "      <td>Provençal</td>\n",
              "      <td>prov1235</td>\n",
              "      <td>Occitan</td>\n",
              "      <td>occi1239</td>\n",
              "      <td>oci</td>\n",
              "      <td>dialect</td>\n",
              "    </tr>\n",
              "    <tr>\n",
              "      <th>1806</th>\n",
              "      <td>151</td>\n",
              "      <td>30</td>\n",
              "      <td>Ma prestou qué rou vostrou aoutrou fillou qui ...</td>\n",
              "      <td>Id. en patois génois de Mons et d'Escragnolles...</td>\n",
              "      <td>Provençal</td>\n",
              "      <td>prov1235</td>\n",
              "      <td>Occitan</td>\n",
              "      <td>occi1239</td>\n",
              "      <td>oci</td>\n",
              "      <td>dialect</td>\n",
              "    </tr>\n",
              "    <tr>\n",
              "      <th>1807</th>\n",
              "      <td>151</td>\n",
              "      <td>31</td>\n",
              "      <td>Alavouo rou par gué diché : Mé fillou, ou s'é ...</td>\n",
              "      <td>Id. en patois génois de Mons et d'Escragnolles...</td>\n",
              "      <td>Provençal</td>\n",
              "      <td>prov1235</td>\n",
              "      <td>Occitan</td>\n",
              "      <td>occi1239</td>\n",
              "      <td>oci</td>\n",
              "      <td>dialect</td>\n",
              "    </tr>\n",
              "    <tr>\n",
              "      <th>1808</th>\n",
              "      <td>151</td>\n",
              "      <td>32</td>\n",
              "      <td>Ma ou caillea far bounbança é se regalar parcé...</td>\n",
              "      <td>Id. en patois génois de Mons et d'Escragnolles...</td>\n",
              "      <td>Provençal</td>\n",
              "      <td>prov1235</td>\n",
              "      <td>Occitan</td>\n",
              "      <td>occi1239</td>\n",
              "      <td>oci</td>\n",
              "      <td>dialect</td>\n",
              "    </tr>\n",
              "  </tbody>\n",
              "</table>\n",
              "<p>949 rows × 10 columns</p>\n",
              "</div>"
            ],
            "text/plain": [
              "      page  verse_number                                              verse  \\\n",
              "22       4            11                          En home aviot dous efons.   \n",
              "23       4            12  Lou pe dzouïne diguet à soun païre: Moun paire...   \n",
              "24       4            13  Quahrques dzours apréz, lou dzouïne garçou ram...   \n",
              "25       4            14  Apréz qu'aguét tout mandza, la famina se fagué...   \n",
              "26       4            15  S'enanét d'ati, se loudzét à un rilge bourdzou...   \n",
              "...    ...           ...                                                ...   \n",
              "1804   151            28  Aco l'aguendou messou en ira, ou nou vourea pa...   \n",
              "1805   151            29  Ou gué respougé : Ve-li-za tanti bei agni que ...   \n",
              "1806   151            30  Ma prestou qué rou vostrou aoutrou fillou qui ...   \n",
              "1807   151            31  Alavouo rou par gué diché : Mé fillou, ou s'é ...   \n",
              "1808   151            32  Ma ou caillea far bounbança é se regalar parcé...   \n",
              "\n",
              "                                                  title    variety  \\\n",
              "22                     Id. en patois de nahrte ouvérgna  Auvergnat   \n",
              "23                     Id. en patois de nahrte ouvérgna  Auvergnat   \n",
              "24                     Id. en patois de nahrte ouvérgna  Auvergnat   \n",
              "25                     Id. en patois de nahrte ouvérgna  Auvergnat   \n",
              "26                     Id. en patois de nahrte ouvérgna  Auvergnat   \n",
              "...                                                 ...        ...   \n",
              "1804  Id. en patois génois de Mons et d'Escragnolles...  Provençal   \n",
              "1805  Id. en patois génois de Mons et d'Escragnolles...  Provençal   \n",
              "1806  Id. en patois génois de Mons et d'Escragnolles...  Provençal   \n",
              "1807  Id. en patois génois de Mons et d'Escragnolles...  Provençal   \n",
              "1808  Id. en patois génois de Mons et d'Escragnolles...  Provençal   \n",
              "\n",
              "     variety_glottocode language language_glottocode lang_iso639.3  \\\n",
              "22             auve1239  Occitan            occi1239           oci   \n",
              "23             auve1239  Occitan            occi1239           oci   \n",
              "24             auve1239  Occitan            occi1239           oci   \n",
              "25             auve1239  Occitan            occi1239           oci   \n",
              "26             auve1239  Occitan            occi1239           oci   \n",
              "...                 ...      ...                 ...           ...   \n",
              "1804           prov1235  Occitan            occi1239           oci   \n",
              "1805           prov1235  Occitan            occi1239           oci   \n",
              "1806           prov1235  Occitan            occi1239           oci   \n",
              "1807           prov1235  Occitan            occi1239           oci   \n",
              "1808           prov1235  Occitan            occi1239           oci   \n",
              "\n",
              "     var_lang_rel  \n",
              "22        dialect  \n",
              "23        dialect  \n",
              "24        dialect  \n",
              "25        dialect  \n",
              "26        dialect  \n",
              "...           ...  \n",
              "1804      dialect  \n",
              "1805      dialect  \n",
              "1806      dialect  \n",
              "1807      dialect  \n",
              "1808      dialect  \n",
              "\n",
              "[949 rows x 10 columns]"
            ]
          },
          "execution_count": 20,
          "metadata": {},
          "output_type": "execute_result"
        }
      ],
      "source": [
        "# TO DO\n",
        "var = parable_df[parable_df['var_lang_rel']==\"dialect\"]\n",
        "var"
      ]
    },
    {
      "cell_type": "markdown",
      "metadata": {
        "id": "No0eSRe-XWHA"
      },
      "source": [
        "**6) Which varieties are considered as independant languages, according to the `var_lang_rel` column ?**"
      ]
    },
    {
      "cell_type": "code",
      "execution_count": 22,
      "metadata": {
        "id": "1ZMZD7p-X0DX"
      },
      "outputs": [
        {
          "data": {
            "text/plain": [
              "array(['match', 'dialect', 'same_macro_language'], dtype=object)"
            ]
          },
          "execution_count": 22,
          "metadata": {},
          "output_type": "execute_result"
        }
      ],
      "source": [
        "# TO DO\n",
        "parable_df[\"var_lang_rel\"].unique()"
      ]
    },
    {
      "cell_type": "code",
      "execution_count": 34,
      "metadata": {},
      "outputs": [
        {
          "data": {
            "text/plain": [
              "array(['French', 'Walloon', 'Picard', 'Catalan', 'Arpitan', 'Romansh'],\n",
              "      dtype=object)"
            ]
          },
          "execution_count": 34,
          "metadata": {},
          "output_type": "execute_result"
        }
      ],
      "source": [
        "var = parable_df[parable_df['var_lang_rel']==\"match\"]\n",
        "var['variety'].unique()"
      ]
    },
    {
      "cell_type": "markdown",
      "metadata": {
        "id": "JlggjVdPYXRT"
      },
      "source": [
        "**7) Which varieties share a macro language with the corresponding languages, according to the `var_lang_rel` column ?**"
      ]
    },
    {
      "cell_type": "code",
      "execution_count": 28,
      "metadata": {
        "id": "LBlUafohYjvx"
      },
      "outputs": [
        {
          "data": {
            "text/plain": [
              "array(['Lorrain Roman', 'Franc-Comtois', 'Bourguignon-Morvandiau',\n",
              "       'Poitevin-Saintongeais', 'Normand'], dtype=object)"
            ]
          },
          "execution_count": 28,
          "metadata": {},
          "output_type": "execute_result"
        }
      ],
      "source": [
        "# TO DO\n",
        "var = parable_df[parable_df['var_lang_rel']==\"same_macro_language\"]\n",
        "var['variety'].unique()"
      ]
    },
    {
      "cell_type": "markdown",
      "metadata": {
        "id": "f6OmIU85ltls"
      },
      "source": [
        "Note that:\n",
        "- Franc-Comtois is spoken in the Franche-Comté region and some cantons in Switzerland\n",
        "- Poitevin-Saintongeais is spoken in central Western France\n",
        "- Lorrain Roman is spoken in Lorraine\n",
        "- Normand is spoken in Normandy\n",
        "- Bourguignon-Morvandiau is spoken in Burgundy"
      ]
    },
    {
      "cell_type": "markdown",
      "metadata": {
        "id": "uhHTzd-rod6Y"
      },
      "source": [
        "## 2. Language identification\n"
      ]
    },
    {
      "cell_type": "markdown",
      "metadata": {
        "id": "x2v8KEdnc7SA"
      },
      "source": [
        "### Question 1  \n",
        "Try the following language identification tools on the dataset (1 verse = 1 prediction):\n",
        "  - Language identification tools:\n",
        "    - GlotLID (v2 and v3) : https://github.com/cisnlp/GlotLID (v2 and v3)\n",
        "    - OpenLID (v2) : https://huggingface.co/laurievb/OpenLID-v2\n",
        "    - fastText : https://huggingface.co/facebook/fasttext-language-identification  \n",
        "\n",
        "You can store the predicted labels and confidence scores directly as columns of the dataset for each model (e.g in columns `glotlid_2_preds` and `glotlid_2_scores` for model glotlid_2). Then, answer the following questions:\n",
        "  -  Which model obtains the best overal results (in terms of precision, recall, f-measure) ? You can compute scores for each of the languages contained in the dataset. Hint : consider using `sklearn.metrics.classifiction_report`.\n",
        "  -  Which model has the largest coverage of the languages in the dataset ?\n",
        "\n",
        "In case you need a little help to get started, here are some directions on how to load and use the first model **glotlid_v2**:"
      ]
    },
    {
      "cell_type": "code",
      "execution_count": 37,
      "metadata": {
        "id": "XNOI1rzUmQIR"
      },
      "outputs": [
        {
          "ename": "EntryNotFoundError",
          "evalue": "404 Client Error. (Request ID: Root=1-679a3108-49c37c22206a22c83c4e80b4;ceeb004c-743c-4b7d-ae59-4991faf55152)\n\nEntry Not Found for url: https://huggingface.co/laurievb/OpenLID-v2/resolve/main/model_v2.bin.",
          "output_type": "error",
          "traceback": [
            "\u001b[0;31m---------------------------------------------------------------------------\u001b[0m",
            "\u001b[0;31mHTTPError\u001b[0m                                 Traceback (most recent call last)",
            "File \u001b[0;32m~/School/.venv/lib64/python3.12/site-packages/huggingface_hub/utils/_http.py:406\u001b[0m, in \u001b[0;36mhf_raise_for_status\u001b[0;34m(response, endpoint_name)\u001b[0m\n\u001b[1;32m    405\u001b[0m \u001b[38;5;28;01mtry\u001b[39;00m:\n\u001b[0;32m--> 406\u001b[0m     \u001b[43mresponse\u001b[49m\u001b[38;5;241;43m.\u001b[39;49m\u001b[43mraise_for_status\u001b[49m\u001b[43m(\u001b[49m\u001b[43m)\u001b[49m\n\u001b[1;32m    407\u001b[0m \u001b[38;5;28;01mexcept\u001b[39;00m HTTPError \u001b[38;5;28;01mas\u001b[39;00m e:\n",
            "File \u001b[0;32m~/School/.venv/lib64/python3.12/site-packages/requests/models.py:1024\u001b[0m, in \u001b[0;36mResponse.raise_for_status\u001b[0;34m(self)\u001b[0m\n\u001b[1;32m   1023\u001b[0m \u001b[38;5;28;01mif\u001b[39;00m http_error_msg:\n\u001b[0;32m-> 1024\u001b[0m     \u001b[38;5;28;01mraise\u001b[39;00m HTTPError(http_error_msg, response\u001b[38;5;241m=\u001b[39m\u001b[38;5;28mself\u001b[39m)\n",
            "\u001b[0;31mHTTPError\u001b[0m: 404 Client Error: Not Found for url: https://huggingface.co/laurievb/OpenLID-v2/resolve/main/model_v2.bin",
            "\nThe above exception was the direct cause of the following exception:\n",
            "\u001b[0;31mEntryNotFoundError\u001b[0m                        Traceback (most recent call last)",
            "Cell \u001b[0;32mIn[37], line 17\u001b[0m\n\u001b[1;32m     15\u001b[0m model_name \u001b[38;5;241m=\u001b[39m \u001b[38;5;124m\"\u001b[39m\u001b[38;5;124mlaurievb/OpenLID-v2\u001b[39m\u001b[38;5;124m\"\u001b[39m\n\u001b[1;32m     16\u001b[0m file_name \u001b[38;5;241m=\u001b[39m \u001b[38;5;124m\"\u001b[39m\u001b[38;5;124mmodel_v2.bin\u001b[39m\u001b[38;5;124m\"\u001b[39m\n\u001b[0;32m---> 17\u001b[0m glotlid_2 \u001b[38;5;241m=\u001b[39m \u001b[43mload_model\u001b[49m\u001b[43m(\u001b[49m\u001b[43mmodel_name\u001b[49m\u001b[43m \u001b[49m\u001b[38;5;241;43m=\u001b[39;49m\u001b[43m \u001b[49m\u001b[43mmodel_name\u001b[49m\u001b[43m,\u001b[49m\u001b[43m \u001b[49m\u001b[43mfile_name\u001b[49m\u001b[43m \u001b[49m\u001b[38;5;241;43m=\u001b[39;49m\u001b[43m \u001b[49m\u001b[43mfile_name\u001b[49m\u001b[43m)\u001b[49m\n",
            "Cell \u001b[0;32mIn[37], line 3\u001b[0m, in \u001b[0;36mload_model\u001b[0;34m(model_name, file_name)\u001b[0m\n\u001b[1;32m      2\u001b[0m \u001b[38;5;28;01mdef\u001b[39;00m \u001b[38;5;21mload_model\u001b[39m(model_name, file_name):\n\u001b[0;32m----> 3\u001b[0m     model_path \u001b[38;5;241m=\u001b[39m \u001b[43mhf_hub_download\u001b[49m\u001b[43m(\u001b[49m\u001b[43mrepo_id\u001b[49m\u001b[38;5;241;43m=\u001b[39;49m\u001b[43mmodel_name\u001b[49m\u001b[43m,\u001b[49m\u001b[43m \u001b[49m\u001b[43mfilename\u001b[49m\u001b[38;5;241;43m=\u001b[39;49m\u001b[43mfile_name\u001b[49m\u001b[43m)\u001b[49m\n\u001b[1;32m      4\u001b[0m     model \u001b[38;5;241m=\u001b[39m ft\u001b[38;5;241m.\u001b[39mload_model(model_path)\n\u001b[1;32m      5\u001b[0m     \u001b[38;5;28;01mreturn\u001b[39;00m model\n",
            "File \u001b[0;32m~/School/.venv/lib64/python3.12/site-packages/huggingface_hub/utils/_validators.py:114\u001b[0m, in \u001b[0;36mvalidate_hf_hub_args.<locals>._inner_fn\u001b[0;34m(*args, **kwargs)\u001b[0m\n\u001b[1;32m    111\u001b[0m \u001b[38;5;28;01mif\u001b[39;00m check_use_auth_token:\n\u001b[1;32m    112\u001b[0m     kwargs \u001b[38;5;241m=\u001b[39m smoothly_deprecate_use_auth_token(fn_name\u001b[38;5;241m=\u001b[39mfn\u001b[38;5;241m.\u001b[39m\u001b[38;5;18m__name__\u001b[39m, has_token\u001b[38;5;241m=\u001b[39mhas_token, kwargs\u001b[38;5;241m=\u001b[39mkwargs)\n\u001b[0;32m--> 114\u001b[0m \u001b[38;5;28;01mreturn\u001b[39;00m \u001b[43mfn\u001b[49m\u001b[43m(\u001b[49m\u001b[38;5;241;43m*\u001b[39;49m\u001b[43margs\u001b[49m\u001b[43m,\u001b[49m\u001b[43m \u001b[49m\u001b[38;5;241;43m*\u001b[39;49m\u001b[38;5;241;43m*\u001b[39;49m\u001b[43mkwargs\u001b[49m\u001b[43m)\u001b[49m\n",
            "File \u001b[0;32m~/School/.venv/lib64/python3.12/site-packages/huggingface_hub/file_download.py:860\u001b[0m, in \u001b[0;36mhf_hub_download\u001b[0;34m(repo_id, filename, subfolder, repo_type, revision, library_name, library_version, cache_dir, local_dir, user_agent, force_download, proxies, etag_timeout, token, local_files_only, headers, endpoint, resume_download, force_filename, local_dir_use_symlinks)\u001b[0m\n\u001b[1;32m    840\u001b[0m     \u001b[38;5;28;01mreturn\u001b[39;00m _hf_hub_download_to_local_dir(\n\u001b[1;32m    841\u001b[0m         \u001b[38;5;66;03m# Destination\u001b[39;00m\n\u001b[1;32m    842\u001b[0m         local_dir\u001b[38;5;241m=\u001b[39mlocal_dir,\n\u001b[0;32m   (...)\u001b[0m\n\u001b[1;32m    857\u001b[0m         local_files_only\u001b[38;5;241m=\u001b[39mlocal_files_only,\n\u001b[1;32m    858\u001b[0m     )\n\u001b[1;32m    859\u001b[0m \u001b[38;5;28;01melse\u001b[39;00m:\n\u001b[0;32m--> 860\u001b[0m     \u001b[38;5;28;01mreturn\u001b[39;00m \u001b[43m_hf_hub_download_to_cache_dir\u001b[49m\u001b[43m(\u001b[49m\n\u001b[1;32m    861\u001b[0m \u001b[43m        \u001b[49m\u001b[38;5;66;43;03m# Destination\u001b[39;49;00m\n\u001b[1;32m    862\u001b[0m \u001b[43m        \u001b[49m\u001b[43mcache_dir\u001b[49m\u001b[38;5;241;43m=\u001b[39;49m\u001b[43mcache_dir\u001b[49m\u001b[43m,\u001b[49m\n\u001b[1;32m    863\u001b[0m \u001b[43m        \u001b[49m\u001b[38;5;66;43;03m# File info\u001b[39;49;00m\n\u001b[1;32m    864\u001b[0m \u001b[43m        \u001b[49m\u001b[43mrepo_id\u001b[49m\u001b[38;5;241;43m=\u001b[39;49m\u001b[43mrepo_id\u001b[49m\u001b[43m,\u001b[49m\n\u001b[1;32m    865\u001b[0m \u001b[43m        \u001b[49m\u001b[43mfilename\u001b[49m\u001b[38;5;241;43m=\u001b[39;49m\u001b[43mfilename\u001b[49m\u001b[43m,\u001b[49m\n\u001b[1;32m    866\u001b[0m \u001b[43m        \u001b[49m\u001b[43mrepo_type\u001b[49m\u001b[38;5;241;43m=\u001b[39;49m\u001b[43mrepo_type\u001b[49m\u001b[43m,\u001b[49m\n\u001b[1;32m    867\u001b[0m \u001b[43m        \u001b[49m\u001b[43mrevision\u001b[49m\u001b[38;5;241;43m=\u001b[39;49m\u001b[43mrevision\u001b[49m\u001b[43m,\u001b[49m\n\u001b[1;32m    868\u001b[0m \u001b[43m        \u001b[49m\u001b[38;5;66;43;03m# HTTP info\u001b[39;49;00m\n\u001b[1;32m    869\u001b[0m \u001b[43m        \u001b[49m\u001b[43mendpoint\u001b[49m\u001b[38;5;241;43m=\u001b[39;49m\u001b[43mendpoint\u001b[49m\u001b[43m,\u001b[49m\n\u001b[1;32m    870\u001b[0m \u001b[43m        \u001b[49m\u001b[43metag_timeout\u001b[49m\u001b[38;5;241;43m=\u001b[39;49m\u001b[43metag_timeout\u001b[49m\u001b[43m,\u001b[49m\n\u001b[1;32m    871\u001b[0m \u001b[43m        \u001b[49m\u001b[43mheaders\u001b[49m\u001b[38;5;241;43m=\u001b[39;49m\u001b[43mhf_headers\u001b[49m\u001b[43m,\u001b[49m\n\u001b[1;32m    872\u001b[0m \u001b[43m        \u001b[49m\u001b[43mproxies\u001b[49m\u001b[38;5;241;43m=\u001b[39;49m\u001b[43mproxies\u001b[49m\u001b[43m,\u001b[49m\n\u001b[1;32m    873\u001b[0m \u001b[43m        \u001b[49m\u001b[43mtoken\u001b[49m\u001b[38;5;241;43m=\u001b[39;49m\u001b[43mtoken\u001b[49m\u001b[43m,\u001b[49m\n\u001b[1;32m    874\u001b[0m \u001b[43m        \u001b[49m\u001b[38;5;66;43;03m# Additional options\u001b[39;49;00m\n\u001b[1;32m    875\u001b[0m \u001b[43m        \u001b[49m\u001b[43mlocal_files_only\u001b[49m\u001b[38;5;241;43m=\u001b[39;49m\u001b[43mlocal_files_only\u001b[49m\u001b[43m,\u001b[49m\n\u001b[1;32m    876\u001b[0m \u001b[43m        \u001b[49m\u001b[43mforce_download\u001b[49m\u001b[38;5;241;43m=\u001b[39;49m\u001b[43mforce_download\u001b[49m\u001b[43m,\u001b[49m\n\u001b[1;32m    877\u001b[0m \u001b[43m    \u001b[49m\u001b[43m)\u001b[49m\n",
            "File \u001b[0;32m~/School/.venv/lib64/python3.12/site-packages/huggingface_hub/file_download.py:923\u001b[0m, in \u001b[0;36m_hf_hub_download_to_cache_dir\u001b[0;34m(cache_dir, repo_id, filename, repo_type, revision, endpoint, etag_timeout, headers, proxies, token, local_files_only, force_download)\u001b[0m\n\u001b[1;32m    919\u001b[0m         \u001b[38;5;28;01mreturn\u001b[39;00m pointer_path\n\u001b[1;32m    921\u001b[0m \u001b[38;5;66;03m# Try to get metadata (etag, commit_hash, url, size) from the server.\u001b[39;00m\n\u001b[1;32m    922\u001b[0m \u001b[38;5;66;03m# If we can't, a HEAD request error is returned.\u001b[39;00m\n\u001b[0;32m--> 923\u001b[0m (url_to_download, etag, commit_hash, expected_size, head_call_error) \u001b[38;5;241m=\u001b[39m \u001b[43m_get_metadata_or_catch_error\u001b[49m\u001b[43m(\u001b[49m\n\u001b[1;32m    924\u001b[0m \u001b[43m    \u001b[49m\u001b[43mrepo_id\u001b[49m\u001b[38;5;241;43m=\u001b[39;49m\u001b[43mrepo_id\u001b[49m\u001b[43m,\u001b[49m\n\u001b[1;32m    925\u001b[0m \u001b[43m    \u001b[49m\u001b[43mfilename\u001b[49m\u001b[38;5;241;43m=\u001b[39;49m\u001b[43mfilename\u001b[49m\u001b[43m,\u001b[49m\n\u001b[1;32m    926\u001b[0m \u001b[43m    \u001b[49m\u001b[43mrepo_type\u001b[49m\u001b[38;5;241;43m=\u001b[39;49m\u001b[43mrepo_type\u001b[49m\u001b[43m,\u001b[49m\n\u001b[1;32m    927\u001b[0m \u001b[43m    \u001b[49m\u001b[43mrevision\u001b[49m\u001b[38;5;241;43m=\u001b[39;49m\u001b[43mrevision\u001b[49m\u001b[43m,\u001b[49m\n\u001b[1;32m    928\u001b[0m \u001b[43m    \u001b[49m\u001b[43mendpoint\u001b[49m\u001b[38;5;241;43m=\u001b[39;49m\u001b[43mendpoint\u001b[49m\u001b[43m,\u001b[49m\n\u001b[1;32m    929\u001b[0m \u001b[43m    \u001b[49m\u001b[43mproxies\u001b[49m\u001b[38;5;241;43m=\u001b[39;49m\u001b[43mproxies\u001b[49m\u001b[43m,\u001b[49m\n\u001b[1;32m    930\u001b[0m \u001b[43m    \u001b[49m\u001b[43metag_timeout\u001b[49m\u001b[38;5;241;43m=\u001b[39;49m\u001b[43metag_timeout\u001b[49m\u001b[43m,\u001b[49m\n\u001b[1;32m    931\u001b[0m \u001b[43m    \u001b[49m\u001b[43mheaders\u001b[49m\u001b[38;5;241;43m=\u001b[39;49m\u001b[43mheaders\u001b[49m\u001b[43m,\u001b[49m\n\u001b[1;32m    932\u001b[0m \u001b[43m    \u001b[49m\u001b[43mtoken\u001b[49m\u001b[38;5;241;43m=\u001b[39;49m\u001b[43mtoken\u001b[49m\u001b[43m,\u001b[49m\n\u001b[1;32m    933\u001b[0m \u001b[43m    \u001b[49m\u001b[43mlocal_files_only\u001b[49m\u001b[38;5;241;43m=\u001b[39;49m\u001b[43mlocal_files_only\u001b[49m\u001b[43m,\u001b[49m\n\u001b[1;32m    934\u001b[0m \u001b[43m    \u001b[49m\u001b[43mstorage_folder\u001b[49m\u001b[38;5;241;43m=\u001b[39;49m\u001b[43mstorage_folder\u001b[49m\u001b[43m,\u001b[49m\n\u001b[1;32m    935\u001b[0m \u001b[43m    \u001b[49m\u001b[43mrelative_filename\u001b[49m\u001b[38;5;241;43m=\u001b[39;49m\u001b[43mrelative_filename\u001b[49m\u001b[43m,\u001b[49m\n\u001b[1;32m    936\u001b[0m \u001b[43m\u001b[49m\u001b[43m)\u001b[49m\n\u001b[1;32m    938\u001b[0m \u001b[38;5;66;03m# etag can be None for several reasons:\u001b[39;00m\n\u001b[1;32m    939\u001b[0m \u001b[38;5;66;03m# 1. we passed local_files_only.\u001b[39;00m\n\u001b[1;32m    940\u001b[0m \u001b[38;5;66;03m# 2. we don't have a connection\u001b[39;00m\n\u001b[0;32m   (...)\u001b[0m\n\u001b[1;32m    946\u001b[0m \u001b[38;5;66;03m# If the specified revision is a commit hash, look inside \"snapshots\".\u001b[39;00m\n\u001b[1;32m    947\u001b[0m \u001b[38;5;66;03m# If the specified revision is a branch or tag, look inside \"refs\".\u001b[39;00m\n\u001b[1;32m    948\u001b[0m \u001b[38;5;28;01mif\u001b[39;00m head_call_error \u001b[38;5;129;01mis\u001b[39;00m \u001b[38;5;129;01mnot\u001b[39;00m \u001b[38;5;28;01mNone\u001b[39;00m:\n\u001b[1;32m    949\u001b[0m     \u001b[38;5;66;03m# Couldn't make a HEAD call => let's try to find a local file\u001b[39;00m\n",
            "File \u001b[0;32m~/School/.venv/lib64/python3.12/site-packages/huggingface_hub/file_download.py:1374\u001b[0m, in \u001b[0;36m_get_metadata_or_catch_error\u001b[0;34m(repo_id, filename, repo_type, revision, endpoint, proxies, etag_timeout, headers, token, local_files_only, relative_filename, storage_folder)\u001b[0m\n\u001b[1;32m   1372\u001b[0m \u001b[38;5;28;01mtry\u001b[39;00m:\n\u001b[1;32m   1373\u001b[0m     \u001b[38;5;28;01mtry\u001b[39;00m:\n\u001b[0;32m-> 1374\u001b[0m         metadata \u001b[38;5;241m=\u001b[39m \u001b[43mget_hf_file_metadata\u001b[49m\u001b[43m(\u001b[49m\n\u001b[1;32m   1375\u001b[0m \u001b[43m            \u001b[49m\u001b[43murl\u001b[49m\u001b[38;5;241;43m=\u001b[39;49m\u001b[43murl\u001b[49m\u001b[43m,\u001b[49m\u001b[43m \u001b[49m\u001b[43mproxies\u001b[49m\u001b[38;5;241;43m=\u001b[39;49m\u001b[43mproxies\u001b[49m\u001b[43m,\u001b[49m\u001b[43m \u001b[49m\u001b[43mtimeout\u001b[49m\u001b[38;5;241;43m=\u001b[39;49m\u001b[43metag_timeout\u001b[49m\u001b[43m,\u001b[49m\u001b[43m \u001b[49m\u001b[43mheaders\u001b[49m\u001b[38;5;241;43m=\u001b[39;49m\u001b[43mheaders\u001b[49m\u001b[43m,\u001b[49m\u001b[43m \u001b[49m\u001b[43mtoken\u001b[49m\u001b[38;5;241;43m=\u001b[39;49m\u001b[43mtoken\u001b[49m\n\u001b[1;32m   1376\u001b[0m \u001b[43m        \u001b[49m\u001b[43m)\u001b[49m\n\u001b[1;32m   1377\u001b[0m     \u001b[38;5;28;01mexcept\u001b[39;00m EntryNotFoundError \u001b[38;5;28;01mas\u001b[39;00m http_error:\n\u001b[1;32m   1378\u001b[0m         \u001b[38;5;28;01mif\u001b[39;00m storage_folder \u001b[38;5;129;01mis\u001b[39;00m \u001b[38;5;129;01mnot\u001b[39;00m \u001b[38;5;28;01mNone\u001b[39;00m \u001b[38;5;129;01mand\u001b[39;00m relative_filename \u001b[38;5;129;01mis\u001b[39;00m \u001b[38;5;129;01mnot\u001b[39;00m \u001b[38;5;28;01mNone\u001b[39;00m:\n\u001b[1;32m   1379\u001b[0m             \u001b[38;5;66;03m# Cache the non-existence of the file\u001b[39;00m\n",
            "File \u001b[0;32m~/School/.venv/lib64/python3.12/site-packages/huggingface_hub/utils/_validators.py:114\u001b[0m, in \u001b[0;36mvalidate_hf_hub_args.<locals>._inner_fn\u001b[0;34m(*args, **kwargs)\u001b[0m\n\u001b[1;32m    111\u001b[0m \u001b[38;5;28;01mif\u001b[39;00m check_use_auth_token:\n\u001b[1;32m    112\u001b[0m     kwargs \u001b[38;5;241m=\u001b[39m smoothly_deprecate_use_auth_token(fn_name\u001b[38;5;241m=\u001b[39mfn\u001b[38;5;241m.\u001b[39m\u001b[38;5;18m__name__\u001b[39m, has_token\u001b[38;5;241m=\u001b[39mhas_token, kwargs\u001b[38;5;241m=\u001b[39mkwargs)\n\u001b[0;32m--> 114\u001b[0m \u001b[38;5;28;01mreturn\u001b[39;00m \u001b[43mfn\u001b[49m\u001b[43m(\u001b[49m\u001b[38;5;241;43m*\u001b[39;49m\u001b[43margs\u001b[49m\u001b[43m,\u001b[49m\u001b[43m \u001b[49m\u001b[38;5;241;43m*\u001b[39;49m\u001b[38;5;241;43m*\u001b[39;49m\u001b[43mkwargs\u001b[49m\u001b[43m)\u001b[49m\n",
            "File \u001b[0;32m~/School/.venv/lib64/python3.12/site-packages/huggingface_hub/file_download.py:1294\u001b[0m, in \u001b[0;36mget_hf_file_metadata\u001b[0;34m(url, token, proxies, timeout, library_name, library_version, user_agent, headers)\u001b[0m\n\u001b[1;32m   1291\u001b[0m hf_headers[\u001b[38;5;124m\"\u001b[39m\u001b[38;5;124mAccept-Encoding\u001b[39m\u001b[38;5;124m\"\u001b[39m] \u001b[38;5;241m=\u001b[39m \u001b[38;5;124m\"\u001b[39m\u001b[38;5;124midentity\u001b[39m\u001b[38;5;124m\"\u001b[39m  \u001b[38;5;66;03m# prevent any compression => we want to know the real size of the file\u001b[39;00m\n\u001b[1;32m   1293\u001b[0m \u001b[38;5;66;03m# Retrieve metadata\u001b[39;00m\n\u001b[0;32m-> 1294\u001b[0m r \u001b[38;5;241m=\u001b[39m \u001b[43m_request_wrapper\u001b[49m\u001b[43m(\u001b[49m\n\u001b[1;32m   1295\u001b[0m \u001b[43m    \u001b[49m\u001b[43mmethod\u001b[49m\u001b[38;5;241;43m=\u001b[39;49m\u001b[38;5;124;43m\"\u001b[39;49m\u001b[38;5;124;43mHEAD\u001b[39;49m\u001b[38;5;124;43m\"\u001b[39;49m\u001b[43m,\u001b[49m\n\u001b[1;32m   1296\u001b[0m \u001b[43m    \u001b[49m\u001b[43murl\u001b[49m\u001b[38;5;241;43m=\u001b[39;49m\u001b[43murl\u001b[49m\u001b[43m,\u001b[49m\n\u001b[1;32m   1297\u001b[0m \u001b[43m    \u001b[49m\u001b[43mheaders\u001b[49m\u001b[38;5;241;43m=\u001b[39;49m\u001b[43mhf_headers\u001b[49m\u001b[43m,\u001b[49m\n\u001b[1;32m   1298\u001b[0m \u001b[43m    \u001b[49m\u001b[43mallow_redirects\u001b[49m\u001b[38;5;241;43m=\u001b[39;49m\u001b[38;5;28;43;01mFalse\u001b[39;49;00m\u001b[43m,\u001b[49m\n\u001b[1;32m   1299\u001b[0m \u001b[43m    \u001b[49m\u001b[43mfollow_relative_redirects\u001b[49m\u001b[38;5;241;43m=\u001b[39;49m\u001b[38;5;28;43;01mTrue\u001b[39;49;00m\u001b[43m,\u001b[49m\n\u001b[1;32m   1300\u001b[0m \u001b[43m    \u001b[49m\u001b[43mproxies\u001b[49m\u001b[38;5;241;43m=\u001b[39;49m\u001b[43mproxies\u001b[49m\u001b[43m,\u001b[49m\n\u001b[1;32m   1301\u001b[0m \u001b[43m    \u001b[49m\u001b[43mtimeout\u001b[49m\u001b[38;5;241;43m=\u001b[39;49m\u001b[43mtimeout\u001b[49m\u001b[43m,\u001b[49m\n\u001b[1;32m   1302\u001b[0m \u001b[43m\u001b[49m\u001b[43m)\u001b[49m\n\u001b[1;32m   1303\u001b[0m hf_raise_for_status(r)\n\u001b[1;32m   1305\u001b[0m \u001b[38;5;66;03m# Return\u001b[39;00m\n",
            "File \u001b[0;32m~/School/.venv/lib64/python3.12/site-packages/huggingface_hub/file_download.py:278\u001b[0m, in \u001b[0;36m_request_wrapper\u001b[0;34m(method, url, follow_relative_redirects, **params)\u001b[0m\n\u001b[1;32m    276\u001b[0m \u001b[38;5;66;03m# Recursively follow relative redirects\u001b[39;00m\n\u001b[1;32m    277\u001b[0m \u001b[38;5;28;01mif\u001b[39;00m follow_relative_redirects:\n\u001b[0;32m--> 278\u001b[0m     response \u001b[38;5;241m=\u001b[39m \u001b[43m_request_wrapper\u001b[49m\u001b[43m(\u001b[49m\n\u001b[1;32m    279\u001b[0m \u001b[43m        \u001b[49m\u001b[43mmethod\u001b[49m\u001b[38;5;241;43m=\u001b[39;49m\u001b[43mmethod\u001b[49m\u001b[43m,\u001b[49m\n\u001b[1;32m    280\u001b[0m \u001b[43m        \u001b[49m\u001b[43murl\u001b[49m\u001b[38;5;241;43m=\u001b[39;49m\u001b[43murl\u001b[49m\u001b[43m,\u001b[49m\n\u001b[1;32m    281\u001b[0m \u001b[43m        \u001b[49m\u001b[43mfollow_relative_redirects\u001b[49m\u001b[38;5;241;43m=\u001b[39;49m\u001b[38;5;28;43;01mFalse\u001b[39;49;00m\u001b[43m,\u001b[49m\n\u001b[1;32m    282\u001b[0m \u001b[43m        \u001b[49m\u001b[38;5;241;43m*\u001b[39;49m\u001b[38;5;241;43m*\u001b[39;49m\u001b[43mparams\u001b[49m\u001b[43m,\u001b[49m\n\u001b[1;32m    283\u001b[0m \u001b[43m    \u001b[49m\u001b[43m)\u001b[49m\n\u001b[1;32m    285\u001b[0m     \u001b[38;5;66;03m# If redirection, we redirect only relative paths.\u001b[39;00m\n\u001b[1;32m    286\u001b[0m     \u001b[38;5;66;03m# This is useful in case of a renamed repository.\u001b[39;00m\n\u001b[1;32m    287\u001b[0m     \u001b[38;5;28;01mif\u001b[39;00m \u001b[38;5;241m300\u001b[39m \u001b[38;5;241m<\u001b[39m\u001b[38;5;241m=\u001b[39m response\u001b[38;5;241m.\u001b[39mstatus_code \u001b[38;5;241m<\u001b[39m\u001b[38;5;241m=\u001b[39m \u001b[38;5;241m399\u001b[39m:\n",
            "File \u001b[0;32m~/School/.venv/lib64/python3.12/site-packages/huggingface_hub/file_download.py:302\u001b[0m, in \u001b[0;36m_request_wrapper\u001b[0;34m(method, url, follow_relative_redirects, **params)\u001b[0m\n\u001b[1;32m    300\u001b[0m \u001b[38;5;66;03m# Perform request and return if status_code is not in the retry list.\u001b[39;00m\n\u001b[1;32m    301\u001b[0m response \u001b[38;5;241m=\u001b[39m get_session()\u001b[38;5;241m.\u001b[39mrequest(method\u001b[38;5;241m=\u001b[39mmethod, url\u001b[38;5;241m=\u001b[39murl, \u001b[38;5;241m*\u001b[39m\u001b[38;5;241m*\u001b[39mparams)\n\u001b[0;32m--> 302\u001b[0m \u001b[43mhf_raise_for_status\u001b[49m\u001b[43m(\u001b[49m\u001b[43mresponse\u001b[49m\u001b[43m)\u001b[49m\n\u001b[1;32m    303\u001b[0m \u001b[38;5;28;01mreturn\u001b[39;00m response\n",
            "File \u001b[0;32m~/School/.venv/lib64/python3.12/site-packages/huggingface_hub/utils/_http.py:417\u001b[0m, in \u001b[0;36mhf_raise_for_status\u001b[0;34m(response, endpoint_name)\u001b[0m\n\u001b[1;32m    415\u001b[0m \u001b[38;5;28;01melif\u001b[39;00m error_code \u001b[38;5;241m==\u001b[39m \u001b[38;5;124m\"\u001b[39m\u001b[38;5;124mEntryNotFound\u001b[39m\u001b[38;5;124m\"\u001b[39m:\n\u001b[1;32m    416\u001b[0m     message \u001b[38;5;241m=\u001b[39m \u001b[38;5;124mf\u001b[39m\u001b[38;5;124m\"\u001b[39m\u001b[38;5;132;01m{\u001b[39;00mresponse\u001b[38;5;241m.\u001b[39mstatus_code\u001b[38;5;132;01m}\u001b[39;00m\u001b[38;5;124m Client Error.\u001b[39m\u001b[38;5;124m\"\u001b[39m \u001b[38;5;241m+\u001b[39m \u001b[38;5;124m\"\u001b[39m\u001b[38;5;130;01m\\n\u001b[39;00m\u001b[38;5;130;01m\\n\u001b[39;00m\u001b[38;5;124m\"\u001b[39m \u001b[38;5;241m+\u001b[39m \u001b[38;5;124mf\u001b[39m\u001b[38;5;124m\"\u001b[39m\u001b[38;5;124mEntry Not Found for url: \u001b[39m\u001b[38;5;132;01m{\u001b[39;00mresponse\u001b[38;5;241m.\u001b[39murl\u001b[38;5;132;01m}\u001b[39;00m\u001b[38;5;124m.\u001b[39m\u001b[38;5;124m\"\u001b[39m\n\u001b[0;32m--> 417\u001b[0m     \u001b[38;5;28;01mraise\u001b[39;00m _format(EntryNotFoundError, message, response) \u001b[38;5;28;01mfrom\u001b[39;00m \u001b[38;5;21;01me\u001b[39;00m\n\u001b[1;32m    419\u001b[0m \u001b[38;5;28;01melif\u001b[39;00m error_code \u001b[38;5;241m==\u001b[39m \u001b[38;5;124m\"\u001b[39m\u001b[38;5;124mGatedRepo\u001b[39m\u001b[38;5;124m\"\u001b[39m:\n\u001b[1;32m    420\u001b[0m     message \u001b[38;5;241m=\u001b[39m (\n\u001b[1;32m    421\u001b[0m         \u001b[38;5;124mf\u001b[39m\u001b[38;5;124m\"\u001b[39m\u001b[38;5;132;01m{\u001b[39;00mresponse\u001b[38;5;241m.\u001b[39mstatus_code\u001b[38;5;132;01m}\u001b[39;00m\u001b[38;5;124m Client Error.\u001b[39m\u001b[38;5;124m\"\u001b[39m \u001b[38;5;241m+\u001b[39m \u001b[38;5;124m\"\u001b[39m\u001b[38;5;130;01m\\n\u001b[39;00m\u001b[38;5;130;01m\\n\u001b[39;00m\u001b[38;5;124m\"\u001b[39m \u001b[38;5;241m+\u001b[39m \u001b[38;5;124mf\u001b[39m\u001b[38;5;124m\"\u001b[39m\u001b[38;5;124mCannot access gated repo for url \u001b[39m\u001b[38;5;132;01m{\u001b[39;00mresponse\u001b[38;5;241m.\u001b[39murl\u001b[38;5;132;01m}\u001b[39;00m\u001b[38;5;124m.\u001b[39m\u001b[38;5;124m\"\u001b[39m\n\u001b[1;32m    422\u001b[0m     )\n",
            "\u001b[0;31mEntryNotFoundError\u001b[0m: 404 Client Error. (Request ID: Root=1-679a3108-49c37c22206a22c83c4e80b4;ceeb004c-743c-4b7d-ae59-4991faf55152)\n\nEntry Not Found for url: https://huggingface.co/laurievb/OpenLID-v2/resolve/main/model_v2.bin."
          ]
        }
      ],
      "source": [
        "# You can use this function to load the different models\n",
        "def load_model(model_name, file_name):\n",
        "    model_path = hf_hub_download(repo_id=model_name, filename=file_name)\n",
        "    model = ft.load_model(model_path)\n",
        "    return model\n",
        "\n",
        "# Source information on GlotLID models: https://huggingface.co/cis-lmu/glotlid\n",
        "# v1: introduced in the GlotLID paper and used in all experiments.\n",
        "# v2: an edited version of v1, featuring more languages, and cleaned from noisy corpora based on the analysis of v1\n",
        "# v3: an edited version of v2, featuring more languages, excluding macro languages, further cleaned from noisy corpora\n",
        "# and incorrect metadata labels based on the analysis of v2, supporting \"zxx\" and \"und\" series labels\n",
        "\n",
        "# Load the glotlid_v2 model\n",
        "# check the model's documentation to find the values of model_name and file_name\n",
        "model_name = \"cis-lmu/glotlid\"\n",
        "file_name = \"model_v2.bin\"\n",
        "glotlid_2 = load_model(model_name = model_name, file_name = file_name)"
      ]
    },
    {
      "cell_type": "code",
      "execution_count": 36,
      "metadata": {
        "colab": {
          "base_uri": "https://localhost:8080/"
        },
        "id": "0o4AuwfymwFx",
        "outputId": "a919c24a-9688-4ee0-ddc8-650c6db0007a"
      },
      "outputs": [
        {
          "ename": "ValueError",
          "evalue": "Unable to avoid copy while creating an array as requested.\nIf using `np.array(obj, copy=False)` replace it with `np.asarray(obj)` to allow a copy when needed (no behavior change in NumPy 1.x).\nFor more details, see https://numpy.org/devdocs/numpy_2_0_migration_guide.html#adapting-to-changes-in-the-copy-keyword.",
          "output_type": "error",
          "traceback": [
            "\u001b[0;31m---------------------------------------------------------------------------\u001b[0m",
            "\u001b[0;31mValueError\u001b[0m                                Traceback (most recent call last)",
            "Cell \u001b[0;32mIn[36], line 2\u001b[0m\n\u001b[1;32m      1\u001b[0m \u001b[38;5;66;03m# Try the model on a few example sentences to understand the type of predictions returned\u001b[39;00m\n\u001b[0;32m----> 2\u001b[0m \u001b[38;5;28mprint\u001b[39m(\u001b[43mglotlid_2\u001b[49m\u001b[38;5;241;43m.\u001b[39;49m\u001b[43mpredict\u001b[49m\u001b[43m(\u001b[49m\u001b[38;5;124;43m\"\u001b[39;49m\u001b[38;5;124;43mHello, how are you today?\u001b[39;49m\u001b[38;5;124;43m\"\u001b[39;49m\u001b[43m)\u001b[49m)\n\u001b[1;32m      3\u001b[0m \u001b[38;5;28mprint\u001b[39m(glotlid_2\u001b[38;5;241m.\u001b[39mpredict(\u001b[38;5;124m\"\u001b[39m\u001b[38;5;124mBonjour à tous et à toutes, j\u001b[39m\u001b[38;5;124m'\u001b[39m\u001b[38;5;124mespère que vous allez bien\u001b[39m\u001b[38;5;124m\"\u001b[39m))\n",
            "File \u001b[0;32m~/School/.venv/lib64/python3.12/site-packages/fasttext/FastText.py:239\u001b[0m, in \u001b[0;36m_FastText.predict\u001b[0;34m(self, text, k, threshold, on_unicode_error)\u001b[0m\n\u001b[1;32m    236\u001b[0m \u001b[38;5;28;01melse\u001b[39;00m:\n\u001b[1;32m    237\u001b[0m     probs, labels \u001b[38;5;241m=\u001b[39m ([], ())\n\u001b[0;32m--> 239\u001b[0m \u001b[38;5;28;01mreturn\u001b[39;00m labels, \u001b[43mnp\u001b[49m\u001b[38;5;241;43m.\u001b[39;49m\u001b[43marray\u001b[49m\u001b[43m(\u001b[49m\u001b[43mprobs\u001b[49m\u001b[43m,\u001b[49m\u001b[43m \u001b[49m\u001b[43mcopy\u001b[49m\u001b[38;5;241;43m=\u001b[39;49m\u001b[38;5;28;43;01mFalse\u001b[39;49;00m\u001b[43m)\u001b[49m\n",
            "\u001b[0;31mValueError\u001b[0m: Unable to avoid copy while creating an array as requested.\nIf using `np.array(obj, copy=False)` replace it with `np.asarray(obj)` to allow a copy when needed (no behavior change in NumPy 1.x).\nFor more details, see https://numpy.org/devdocs/numpy_2_0_migration_guide.html#adapting-to-changes-in-the-copy-keyword."
          ]
        }
      ],
      "source": [
        "# Try the model on a few example sentences to understand the type of predictions returned\n",
        "print(glotlid_2.predict(\"Hello, how are you today?\"))\n",
        "print(glotlid_2.predict(\"Bonjour à tous et à toutes, j'espère que vous allez bien\"))"
      ]
    },
    {
      "cell_type": "code",
      "execution_count": null,
      "metadata": {
        "id": "CTp5al71bY3r"
      },
      "outputs": [],
      "source": [
        "# TO DO"
      ]
    },
    {
      "cell_type": "markdown",
      "metadata": {
        "id": "Z7USHYgAbZtW"
      },
      "source": [
        "### Question 2  \n",
        " Display the confusion matrix for each model to analyse the most frequent confusions. Do they make sense from a linguistic point-of-view?  \n",
        "* Consider using `sklearn.metrics.confusion_matrix` and `sns.heatmap` for a nicer display. As you will find that the models sometimes predict labels outside of the target languages, you can have a column in your confusion matrix named `other`. Once you succeeded, you can also plot a more detailed version of the confusion matrix including columns of other languages commonly predicted by the models (e.g. the top 15)."
      ]
    },
    {
      "cell_type": "code",
      "execution_count": null,
      "metadata": {
        "id": "ZZTN7oYxcP4H"
      },
      "outputs": [],
      "source": [
        "# TO DO"
      ]
    },
    {
      "cell_type": "markdown",
      "metadata": {
        "id": "c5m1bN5PeRAZ"
      },
      "source": [
        "### Question 3  \n",
        "Analyse the results obtained for the Occitan dialects. Are some dialects better classified as others?"
      ]
    },
    {
      "cell_type": "code",
      "execution_count": null,
      "metadata": {
        "id": "c2xujZIeecjM"
      },
      "outputs": [],
      "source": [
        "# TO DO"
      ]
    },
    {
      "cell_type": "markdown",
      "metadata": {
        "id": "1VAakejIeWI7"
      },
      "source": [
        "### Question 4  \n",
        "\n",
        "Write a synthesis of your observations: which tool would you recommend using in this setting, if any? What are the main advantages and disadvantages of each tool?"
      ]
    },
    {
      "cell_type": "markdown",
      "metadata": {
        "id": "wdATHqtnA0qq"
      },
      "source": [
        "### Done early ?\n",
        "\n",
        "If you're done early, here are some additionnal questions that you can consider:  \n",
        "\n",
        "\n",
        "*   Until now, we have considered the performance of models separately. Is it possible to improve the results by using a majority vote strategy ? or a strategy where we favor the model with highest confidence on a given verse ?\n",
        "*   Until now, we have performed language identification verse by verse. But can we better recognise language by predicting the language of an entire version of the parable of the Lost Son ?  \n",
        "* Have a look at the predictions with very low model certainty. Do they correspond to unsupported models or poorly predicted languages ?\n",
        "\n",
        "\n"
      ]
    }
  ],
  "metadata": {
    "colab": {
      "provenance": []
    },
    "kernelspec": {
      "display_name": ".venv",
      "language": "python",
      "name": "python3"
    },
    "language_info": {
      "codemirror_mode": {
        "name": "ipython",
        "version": 3
      },
      "file_extension": ".py",
      "mimetype": "text/x-python",
      "name": "python",
      "nbconvert_exporter": "python",
      "pygments_lexer": "ipython3",
      "version": "3.13.1"
    }
  },
  "nbformat": 4,
  "nbformat_minor": 0
}
