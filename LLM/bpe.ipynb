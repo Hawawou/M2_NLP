{
 "cells": [
  {
   "cell_type": "code",
   "execution_count": 1,
   "metadata": {},
   "outputs": [],
   "source": [
    "from collections import Counter\n",
    "import collections\n",
    "import re\n",
    "\n",
    "\n",
    "with open('nh.txt', 'r') as f:\n",
    "    lines = f.readlines()\n",
    "   "
   ]
  },
  {
   "cell_type": "code",
   "execution_count": 2,
   "metadata": {},
   "outputs": [
    {
     "name": "stdout",
     "output_type": "stream",
     "text": [
      "unigram 107409 \n"
     ]
    }
   ],
   "source": [
    "# get unigrams\n",
    "co = Counter()\n",
    "for l in lines:\n",
    "    l = l[2:].strip()\n",
    "    wds = l.split(\" \")\n",
    "    co.update(wds)\n",
    "print(\"unigram %d \" % (len(co)))"
   ]
  },
  {
   "cell_type": "code",
   "execution_count": 3,
   "metadata": {},
   "outputs": [],
   "source": [
    "def get_stats(vocab):\n",
    "#    returns 0 for unknown keys\n",
    "    pairs = collections.defaultdict(int)\n",
    "    for word, freq in vocab.items():\n",
    "        symbols = word.split()\n",
    "        for i in range(len(symbols)-1):\n",
    "            pairs[symbols[i], symbols[i+1]] += freq\n",
    "    return pairs"
   ]
  },
  {
   "cell_type": "code",
   "execution_count": 4,
   "metadata": {},
   "outputs": [],
   "source": [
    "def merge_vocab(pair, v_in):\n",
    "    v_out = {}\n",
    "    # write the pair as string\n",
    "    bigram = re.escape(' '.join(pair))\n",
    "    # 1st group: match if it is not preceded by \\S = non-whitespace char; so only accepts bigram preceded by a whitespace or start of line\n",
    "    # 3rd group: match if it is not followed by \\S\n",
    "    p = re.compile(r'(?<!\\S)' + bigram + r'(?!\\S)')\n",
    "    for word in v_in:\n",
    "        # replace matches in words by the joined pair\n",
    "        w_out = p.sub(' '.join(pair), word)\n",
    "        v_out[w_out] = v_in[word]\n",
    "    return v_out"
   ]
  },
  {
   "cell_type": "code",
   "execution_count": 5,
   "metadata": {},
   "outputs": [],
   "source": [
    "# split the words into chars and associate with counts\n",
    "\n",
    "vocab = {}\n",
    "for w in co:\n",
    "    vocab[' '.join(w)+' </s>'] = co[w]\n",
    "\n",
    "num_merges = 100\n",
    "for i in range(num_merges):\n",
    "    pairs = get_stats(vocab)\n",
    "    # pairs.get is teh funstion that returns the frequency of a pair\n",
    "    best = max(pairs, key=pairs.get)\n",
    "    vocab = merge_vocab(best, vocab)"
   ]
  }
 ],
 "metadata": {
  "kernelspec": {
   "display_name": ".venv",
   "language": "python",
   "name": "python3"
  },
  "language_info": {
   "codemirror_mode": {
    "name": "ipython",
    "version": 3
   },
   "file_extension": ".py",
   "mimetype": "text/x-python",
   "name": "python",
   "nbconvert_exporter": "python",
   "pygments_lexer": "ipython3",
   "version": "3.12.3"
  }
 },
 "nbformat": 4,
 "nbformat_minor": 2
}
