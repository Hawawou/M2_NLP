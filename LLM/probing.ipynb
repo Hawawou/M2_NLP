{
 "cells": [
  {
   "cell_type": "code",
   "execution_count": 1,
   "metadata": {},
   "outputs": [
    {
     "ename": "ModuleNotFoundError",
     "evalue": "No module named 'pytorch_lightning'",
     "output_type": "error",
     "traceback": [
      "\u001b[0;31m---------------------------------------------------------------------------\u001b[0m",
      "\u001b[0;31mModuleNotFoundError\u001b[0m                       Traceback (most recent call last)",
      "Cell \u001b[0;32mIn[1], line 2\u001b[0m\n\u001b[1;32m      1\u001b[0m \u001b[38;5;28;01mimport\u001b[39;00m \u001b[38;5;21;01mtorch\u001b[39;00m\n\u001b[0;32m----> 2\u001b[0m \u001b[38;5;28;01mimport\u001b[39;00m \u001b[38;5;21;01mpytorch_lightning\u001b[39;00m \u001b[38;5;28;01mas\u001b[39;00m \u001b[38;5;21;01mpl\u001b[39;00m\n\u001b[1;32m      3\u001b[0m \u001b[38;5;28;01mimport\u001b[39;00m \u001b[38;5;21;01mmath\u001b[39;00m\n\u001b[1;32m      4\u001b[0m \u001b[38;5;28;01mimport\u001b[39;00m \u001b[38;5;21;01mtorch\u001b[39;00m\u001b[38;5;21;01m.\u001b[39;00m\u001b[38;5;21;01mnn\u001b[39;00m\u001b[38;5;21;01m.\u001b[39;00m\u001b[38;5;21;01mfunctional\u001b[39;00m \u001b[38;5;28;01mas\u001b[39;00m \u001b[38;5;21;01mF\u001b[39;00m\n",
      "\u001b[0;31mModuleNotFoundError\u001b[0m: No module named 'pytorch_lightning'"
     ]
    }
   ],
   "source": [
    "import torch\n",
    "import pytorch_lightning as pl\n",
    "import math\n",
    "import torch.nn.functional as F\n",
    "import matplotlib.pyplot as plt\n",
    "\n",
    "# Pytorch dataset that generates one triple\n",
    "class NTripDS(torch.utils.data.Dataset):\n",
    "    def __init__(self):\n",
    "        super().__init__()\n",
    "\n",
    "    def __len__(self):\n",
    "        return 1000\n",
    "\n",
    "    def __getitem__(self,i):\n",
    "        va = torch.randint(0, 10, (1,))\n",
    "        vb = torch.randint(0, 10, (1,))\n",
    "        vc = torch.randint(0, 10, (1,))\n",
    "        xa = F.one_hot(va, num_classes=10).float()\n",
    "        b = F.one_hot(vb, num_classes=10).float()\n",
    "        c = F.one_hot(vc, num_classes=10).float()\n",
    "        if math.fabs(vb-va) <= math.fabs(vc-va): xp,xn = b,c\n",
    "        else: xp,xn = c,b\n",
    "        return xa,xp,xn\n",
    "\n",
    "\n",
    "class Mod(pl.LightningModule):\n",
    "    def __init__(self):\n",
    "        super().__init__()\n",
    "        self.W = torch.nn.Linear(10,2)\n",
    "\n",
    "    def configure_optimizers(self):\n",
    "        opt = torch.optim.AdamW(self.parameters(), lr = 1e-3)\n",
    "        return opt\n",
    "\n",
    "    def forward(self, x):\n",
    "        e = self.W(x)\n",
    "        return e\n",
    "\n",
    "    def training_step(self, batch, batch_idx):\n",
    "        anc, pos, neg = batch\n",
    "        ea = self.W(anc)\n",
    "        ep = self.W(pos)\n",
    "        en = self.W(neg)\n",
    "        dp = torch.nn.functional.triplet_margin_loss(ea,ep,en)\n",
    "        self.log(\"train_loss\", dp, on_step=False, on_epoch=True)\n",
    "        return dp\n",
    "\n",
    "def plot(mod):\n",
    "    x = F.one_hot(torch.arange(0,10)).float()\n",
    "    y = mod(x)\n",
    "    ny = y.detach().numpy()\n",
    "    x = ny[:,0]\n",
    "    y = ny[:,1]\n",
    "    for i in range(len(x)): plt.annotate(f\"{i}\", (x[i],y[i]))\n",
    "    plt.scatter(x, y)\n",
    "    plt.show()\n",
    "\n",
    "traindata = NTripDS()\n",
    "trainloader = torch.utils.data.DataLoader(traindata, batch_size=1, shuffle=False)\n",
    "mod = Mod()\n",
    "logger = pl.loggers.TensorBoardLogger(save_dir=\"logs/\", flush_secs=1)\n",
    "trainer = pl.Trainer(limit_train_batches=1.0, max_epochs=3, log_every_n_steps=1, logger=logger)\n",
    "trainer.fit(model=mod, train_dataloaders=trainloader)\n",
    "\n",
    "#Â to view the training curves:\n",
    "# tensorboard --logdir=lightning_logs/\n",
    "\n",
    "plot(mod)"
   ]
  }
 ],
 "metadata": {
  "kernelspec": {
   "display_name": ".venv",
   "language": "python",
   "name": "python3"
  },
  "language_info": {
   "codemirror_mode": {
    "name": "ipython",
    "version": 3
   },
   "file_extension": ".py",
   "mimetype": "text/x-python",
   "name": "python",
   "nbconvert_exporter": "python",
   "pygments_lexer": "ipython3",
   "version": "3.12.3"
  }
 },
 "nbformat": 4,
 "nbformat_minor": 2
}
