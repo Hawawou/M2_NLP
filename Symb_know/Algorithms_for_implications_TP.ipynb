{
  "cells": [
    {
      "cell_type": "code",
      "execution_count": null,
      "id": "A0JxobmZrnI4",
      "metadata": {
        "id": "A0JxobmZrnI4"
      },
      "outputs": [],
      "source": [
        "# data, metadata = csp.io.from_fca_repo('newzealand_en')\n",
        "# data"
      ]
    },
    {
      "cell_type": "code",
      "execution_count": null,
      "id": "a738ad65-a8e8-4a2f-a3c9-f509db88b810",
      "metadata": {
        "id": "a738ad65-a8e8-4a2f-a3c9-f509db88b810"
      },
      "outputs": [],
      "source": [
        "# import caspailleur as csp"
      ]
    },
    {
      "cell_type": "code",
      "execution_count": null,
      "id": "LUUkp4b_rphl",
      "metadata": {
        "id": "LUUkp4b_rphl"
      },
      "outputs": [],
      "source": [
        "# objects = set(data.index)\n",
        "# attributes = set(data.columns)\n",
        "# connections = {(obj, attr) for obj, attrs in data.iterrows() for attr in attrs[attrs].index}"
      ]
    },
    {
      "cell_type": "raw",
      "id": "166f54d2-60e3-479d-a731-504c7296fe0f",
      "metadata": {
        "id": "166f54d2-60e3-479d-a731-504c7296fe0f"
      },
      "source": []
    },
    {
      "cell_type": "code",
      "execution_count": 3,
      "id": "15d02175-2f14-4072-a51d-bce7f7314d07",
      "metadata": {
        "id": "15d02175-2f14-4072-a51d-bce7f7314d07"
      },
      "outputs": [],
      "source": [
        "objects = {\n",
        "    'Catlins', 'Dunedin', 'Fjordland NP', 'Haast', 'Invercargill',\n",
        "    'MT. Aspiring NP', 'Milford Sound', 'Oamaru', 'Otago Peninsula','Queenstown',\n",
        "    'Stewart Island', 'Te Anau', 'Wanaka'\n",
        "}\n",
        "attributes = {\n",
        "    'Bungee Jumping', 'Hiking', 'Jet Boating', 'Observing Nature', 'Parachute Gliding',\n",
        "    'Sightseeing Flights', 'Skiing', 'Wildwater Rafting'\n",
        "}\n",
        "connections = {\n",
        "    ('Catlins', 'Hiking'), ('Catlins', 'Observing Nature'),\n",
        "    ('Dunedin', 'Hiking'), ('Dunedin', 'Observing Nature'), ('Dunedin', 'Sightseeing Flights'),\n",
        "    ('Fjordland NP', 'Hiking'), ('Fjordland NP', 'Observing Nature'), ('Fjordland NP', 'Sightseeing Flights'),\n",
        "    ('Haast', 'Hiking'), ('Haast', 'Observing Nature'),\n",
        "    ('Invercargill', 'Hiking'), ('Invercargill', 'Observing Nature'), ('Invercargill', 'Sightseeing Flights'),\n",
        "    ('MT. Aspiring NP', 'Hiking'), ('MT. Aspiring NP', 'Observing Nature'), ('MT. Aspiring NP', 'Sightseeing Flights'),\n",
        "    ('Milford Sound', 'Hiking'), ('Milford Sound', 'Observing Nature'), ('Milford Sound', 'Sightseeing Flights'),\n",
        "    ('Oamaru', 'Hiking'), ('Oamaru', 'Observing Nature'),\n",
        "    ('Otago Peninsula', 'Hiking'), ('Otago Peninsula', 'Observing Nature'),\n",
        "    ('Queenstown', 'Bungee Jumping'), ('Queenstown', 'Hiking'), ('Queenstown', 'Jet Boating'), ('Queenstown', 'Parachute Gliding'),\n",
        "    ('Queenstown', 'Sightseeing Flights'), ('Queenstown', 'Skiing'), ('Queenstown', 'Wildwater Rafting'),\n",
        "    ('Stewart Island', 'Hiking'), ('Stewart Island', 'Observing Nature'), ('Stewart Island', 'Sightseeing Flights'),\n",
        "    ('Te Anau', 'Hiking'), ('Te Anau', 'Jet Boating'), ('Te Anau', 'Observing Nature'), ('Te Anau', 'Sightseeing Flights'),\n",
        "    ('Wanaka', 'Bungee Jumping'), ('Wanaka', 'Hiking'), ('Wanaka', 'Jet Boating'), ('Wanaka', 'Parachute Gliding'),\n",
        "    ('Wanaka', 'Sightseeing Flights'),('Wanaka', 'Skiing'), ('Wanaka', 'Wildwater Rafting')\n",
        "}\n",
        "context = (objects, attributes, connections)"
      ]
    },
    {
      "cell_type": "markdown",
      "id": "e99f255b-6065-4fb1-9d93-fd91d3e6b637",
      "metadata": {
        "id": "e99f255b-6065-4fb1-9d93-fd91d3e6b637"
      },
      "source": [
        "# Part 0. Basic functions"
      ]
    },
    {
      "cell_type": "markdown",
      "id": "6735b116-c826-4b9a-a59d-ef57095f33ef",
      "metadata": {
        "id": "6735b116-c826-4b9a-a59d-ef57095f33ef"
      },
      "source": [
        "Mathematical definition: $$\\mathtt{ext}(B) = B' = \\{g \\in G \\mid (g, m) \\in I,\\  \\forall m \\in B\\}$$"
      ]
    },
    {
      "cell_type": "code",
      "execution_count": 25,
      "id": "e46fbd74-27b0-4821-9258-af2be6faea03",
      "metadata": {
        "id": "e46fbd74-27b0-4821-9258-af2be6faea03"
      },
      "outputs": [],
      "source": [
        "def extent(description: set[str], context: tuple[set, set, set]) -> set[str]:\n",
        "    # TODO: Implement the function\n",
        "    G, M, I = context\n",
        "    ext =  {obj for obj in G if all((obj, attr) in I for attr in description)}\n",
        "    return ext"
      ]
    },
    {
      "cell_type": "code",
      "execution_count": 26,
      "id": "b224060c-dd8f-4c99-87ba-f63037f27cbc",
      "metadata": {
        "id": "b224060c-dd8f-4c99-87ba-f63037f27cbc"
      },
      "outputs": [],
      "source": [
        "assert extent({'Bungee Jumping'}, context) == {'Queenstown', 'Wanaka'}\n",
        "assert extent({'Hiking', 'Observing Nature'}, context) == extent({'Observing Nature'}, context)"
      ]
    },
    {
      "cell_type": "markdown",
      "id": "999235f9-68b0-44bf-880b-95e4158d36d8",
      "metadata": {
        "id": "999235f9-68b0-44bf-880b-95e4158d36d8"
      },
      "source": [
        "Mathematical definition: $$\\mathtt{int}(A) = A' = \\{m \\in M \\mid (g, m) \\in I,\\ \\forall g \\in A\\}$$"
      ]
    },
    {
      "cell_type": "code",
      "execution_count": 27,
      "id": "48ab4e41-7740-4406-9f18-a2b6907210df",
      "metadata": {
        "id": "48ab4e41-7740-4406-9f18-a2b6907210df"
      },
      "outputs": [],
      "source": [
        "def intent(some_objects: set[str], context: tuple[set, set, set]) -> set[str]:\n",
        "    # TODO: Implement the function\n",
        "    G, M, I = context\n",
        "    intent  = {attr for attr in M if all((obj, attr) in I for obj in some_objects)}\n",
        "    return intent"
      ]
    },
    {
      "cell_type": "code",
      "execution_count": 28,
      "id": "0600a6c3-b283-4c1f-bf99-4ecddbae5492",
      "metadata": {
        "id": "0600a6c3-b283-4c1f-bf99-4ecddbae5492"
      },
      "outputs": [],
      "source": [
        "assert intent({\"Stewart Island\"}, context) == {'Hiking', 'Observing Nature', 'Sightseeing Flights'}\n",
        "assert intent({'Fjordland NP', 'Stewart Island'}, context) == intent({'Stewart Island'}, context)"
      ]
    },
    {
      "cell_type": "markdown",
      "id": "6eeb5ef2-5836-44e4-9049-f537807406df",
      "metadata": {
        "id": "6eeb5ef2-5836-44e4-9049-f537807406df"
      },
      "source": [
        "Mathematical definition: $$\\mathtt{supp}(B) = |B'|$$"
      ]
    },
    {
      "cell_type": "code",
      "execution_count": 29,
      "id": "abb8b318-3284-4fe2-9ec3-095f1bf6d6ab",
      "metadata": {
        "id": "abb8b318-3284-4fe2-9ec3-095f1bf6d6ab"
      },
      "outputs": [],
      "source": [
        "def support(description: set[str], context: tuple[set, set, set]) -> int:\n",
        "    # TODO: Implement the function\n",
        "    sup = len(extent(description, context))\n",
        "    return sup"
      ]
    },
    {
      "cell_type": "code",
      "execution_count": 30,
      "id": "bcf5bfff-8d6e-4dc9-bb23-29703c36dba4",
      "metadata": {
        "id": "bcf5bfff-8d6e-4dc9-bb23-29703c36dba4"
      },
      "outputs": [],
      "source": [
        "assert support({'Hiking'}, context) == 13\n",
        "assert support({'Sightseeing Flights', 'Parachute Gliding'}, context) == 2"
      ]
    },
    {
      "cell_type": "markdown",
      "id": "7RfLDeDo_TGU",
      "metadata": {
        "id": "7RfLDeDo_TGU"
      },
      "source": [
        "Applying implications to a description"
      ]
    },
    {
      "cell_type": "code",
      "execution_count": 33,
      "id": "NfvilwJq_Imo",
      "metadata": {
        "id": "NfvilwJq_Imo"
      },
      "outputs": [],
      "source": [
        "# Apply implications to a description in one go (assuming that implications are specifically ordered)\n",
        "def saturate_direct(description: set[str], direct_implications: list[tuple[set[str, set[str]]]]) -> set[str]:\n",
        "  # TODO: Implement the function\n",
        "  saturated = set(description)\n",
        "  for premise, conclusion in direct_implications:\n",
        "    if premise <= saturated:\n",
        "      saturated |= conclusion\n",
        "\n",
        "  return saturated"
      ]
    },
    {
      "cell_type": "code",
      "execution_count": 34,
      "id": "uOsMQbAF_ckR",
      "metadata": {
        "id": "uOsMQbAF_ckR"
      },
      "outputs": [],
      "source": [
        "implications = [\n",
        "    (set(), {'Hiking'}),\n",
        "    ({'Parachute Gliding', \"Hiking\"}, {'Sightseeing Flights'})\n",
        "]\n",
        "assert saturate_direct({'Parachute Gliding'}, implications) == {'Parachute Gliding', 'Hiking', 'Sightseeing Flights'}\n",
        "assert not saturate_direct({'Parachute Gliding'}, implications[::-1]) == saturate_direct({'Parachute Gliding'}, implications)"
      ]
    },
    {
      "cell_type": "code",
      "execution_count": 35,
      "id": "DPpAUH4y_L06",
      "metadata": {
        "id": "DPpAUH4y_L06"
      },
      "outputs": [],
      "source": [
        "# APply implications to a description in a trustfull bruteforce way\n",
        "def saturate(\n",
        "    description: set[str],\n",
        "    implications: list[tuple[set[str], set[str]]],\n",
        "):\n",
        "  # TODO: Implement the function\n",
        "  saturated, saturated_old = set(description), set()\n",
        "  while saturated != saturated_old:\n",
        "    saturated_old = set(saturated)\n",
        "    for premise, conclusion in implications:\n",
        "      if premise <= saturated:\n",
        "        saturated |= conclusion\n",
        "  return saturated"
      ]
    },
    {
      "cell_type": "code",
      "execution_count": 36,
      "id": "EDO2oedA_2k6",
      "metadata": {
        "id": "EDO2oedA_2k6"
      },
      "outputs": [],
      "source": [
        "implications = [(set(), {'Hiking'}), ({'Parachute Gliding'}, {'Sightseeing Flights'})]\n",
        "assert saturate({'Parachute Gliding'}, implications) == {'Parachute Gliding', 'Hiking', 'Sightseeing Flights'}\n",
        "assert saturate({'Parachute Gliding'}, implications[::-1]) == saturate({'Parachute Gliding'}, implications)"
      ]
    },
    {
      "cell_type": "markdown",
      "id": "c1e2237d-6817-4f8c-adb6-61e1f2097dae",
      "metadata": {
        "id": "c1e2237d-6817-4f8c-adb6-61e1f2097dae"
      },
      "source": [
        "# Part 1. Bruteforce traversal"
      ]
    },
    {
      "cell_type": "markdown",
      "id": "6f7e4e0f-e672-4c22-8772-9daf631832dc",
      "metadata": {
        "id": "6f7e4e0f-e672-4c22-8772-9daf631832dc"
      },
      "source": [
        "## 1.1 Generic Breadth-first traversal"
      ]
    },
    {
      "cell_type": "code",
      "execution_count": null,
      "id": "deeb641c-a66c-4e5f-afe6-451d54b5eda9",
      "metadata": {
        "id": "deeb641c-a66c-4e5f-afe6-451d54b5eda9"
      },
      "outputs": [],
      "source": [
        "from datetime import datetime\n",
        "\n",
        "class DescriptionTraverser:\n",
        "    def __init__(self):\n",
        "        self.passed_descriptions = None\n",
        "        self.traversal_time = None\n",
        "        self.goal_descriptions = None\n",
        "\n",
        "    def traverse(self, K: tuple[set, set, set]):\n",
        "        self.preprocess_context(K)\n",
        "\n",
        "        self.passed_descriptions = []\n",
        "\n",
        "        time_start = datetime.now()\n",
        "        queue: list[set[str]] = [set()]\n",
        "        while queue:\n",
        "            description = queue.pop(0)\n",
        "            self.passed_descriptions.append(description)\n",
        "\n",
        "            if self.abort_description(description, K):\n",
        "                continue\n",
        "\n",
        "            if self.is_goal_description(description, K):\n",
        "                self.register_goal_description(description)\n",
        "\n",
        "            queue.extend(self.sucessors(description, K))\n",
        "        time_end = datetime.now()\n",
        "        self.traversal_time = (time_end-time_start).total_seconds()\n",
        "\n",
        "    def abort_description(self, description: set[str], K: tuple[set, set, set]) -> bool:\n",
        "        return False\n",
        "\n",
        "    def is_goal_description(self, description: set[str], K: tuple[set, set, set]) -> bool:\n",
        "        return False\n",
        "\n",
        "    def register_goal_description(self, description: set[str]):\n",
        "        if self.goal_descriptions is None:\n",
        "            self.goal_descriptions = set()\n",
        "        self.goal_descriptions.add(frozenset(description))\n",
        "\n",
        "    def sucessors(self, description: set[str], K: tuple[set, set, set]) -> list[set[str]]:\n",
        "        G, M, I = K\n",
        "        return [description|{m} for m in M-description]\n",
        "\n",
        "    def preprocess_context(self, K: tuple[set, set, set]) -> tuple[set, set, set]:\n",
        "        G, M, I = K\n",
        "        self.attributes_order = sorted(M)  # from index to attribute\n",
        "        self.attributes_index_dict = {m: idx for idx, m in enumerate(self.attributes_order)}  # from attribute to index\n",
        "\n",
        "    def print_stats(self, list_all_goals: bool = True):\n",
        "        print(f\"{traverser.traversal_time=} sec.\")\n",
        "        print(f\"{len(traverser.passed_descriptions)=}\")\n",
        "        goals = self.goal_descriptions if self.goal_descriptions is not None else []\n",
        "        print(f\"{len(goals)=}\")\n",
        "        if list_all_goals:\n",
        "            if goals:\n",
        "                goals = sorted(map(set, traverser.goal_descriptions), key=lambda goal: (len(goal), goal))\n",
        "                print(\"goals:\", *goals, sep='\\n * ')\n",
        "            else:\n",
        "                print(\"goals:\", \"None\")"
      ]
    },
    {
      "cell_type": "code",
      "execution_count": null,
      "id": "912cb482-9b35-42cd-8b33-a2a735cb8986",
      "metadata": {
        "colab": {
          "base_uri": "https://localhost:8080/"
        },
        "id": "912cb482-9b35-42cd-8b33-a2a735cb8986",
        "outputId": "7bec1607-6b92-4b38-c573-4939d64dd8ed"
      },
      "outputs": [
        {
          "name": "stdout",
          "output_type": "stream",
          "text": [
            "traverser.traversal_time=1.180899 sec.\n",
            "len(traverser.passed_descriptions)=109601\n",
            "len(goals)=0\n",
            "goals: None\n"
          ]
        }
      ],
      "source": [
        "traverser = DescriptionTraverser()\n",
        "traverser.traverse(context)\n",
        "\n",
        "traverser.print_stats()"
      ]
    },
    {
      "cell_type": "markdown",
      "id": "0224babf-8385-4a68-aed2-60d9811e48c9",
      "metadata": {
        "id": "0224babf-8385-4a68-aed2-60d9811e48c9"
      },
      "source": [
        "## 1.2 Bruteforce search for min.generators, intents, etc"
      ]
    },
    {
      "cell_type": "markdown",
      "id": "db056fe1-5523-467b-8421-9ffe5cdd4be8",
      "metadata": {
        "id": "db056fe1-5523-467b-8421-9ffe5cdd4be8"
      },
      "source": [
        "### Intent (aka maximal description, closed description)\n",
        "\n",
        "Mathematical definition:\n",
        "$$D \\text{ is intent} \\iff D'' = \\mathtt{int}(\\mathtt{ext}(D)) = D$$"
      ]
    },
    {
      "cell_type": "code",
      "execution_count": null,
      "id": "afc05c95-5d7a-4bbf-b11a-8312eb495ee0",
      "metadata": {
        "id": "afc05c95-5d7a-4bbf-b11a-8312eb495ee0"
      },
      "outputs": [],
      "source": [
        "def is_intent(description: set[str], context: tuple[set, set, set]) -> bool:\n",
        "    # TODO: Implement the function\n",
        "    return ..."
      ]
    },
    {
      "cell_type": "code",
      "execution_count": null,
      "id": "e4175ed6-0f33-4e0e-b744-44eb3ed73c23",
      "metadata": {
        "colab": {
          "base_uri": "https://localhost:8080/"
        },
        "id": "e4175ed6-0f33-4e0e-b744-44eb3ed73c23",
        "outputId": "5c41f814-8373-4453-97d8-535fcf943ee6"
      },
      "outputs": [
        {
          "name": "stdout",
          "output_type": "stream",
          "text": [
            "traverser.traversal_time=2.35725 sec.\n",
            "len(traverser.passed_descriptions)=109601\n",
            "len(goals)=8\n",
            "goals:\n",
            " * {'Hiking'}\n",
            " * {'Observing Nature', 'Hiking'}\n",
            " * {'Sightseeing Flights', 'Hiking'}\n",
            " * {'Sightseeing Flights', 'Jet Boating', 'Hiking'}\n",
            " * {'Sightseeing Flights', 'Observing Nature', 'Hiking'}\n",
            " * {'Sightseeing Flights', 'Observing Nature', 'Jet Boating', 'Hiking'}\n",
            " * {'Parachute Gliding', 'Skiing', 'Hiking', 'Sightseeing Flights', 'Wildwater Rafting', 'Bungee Jumping', 'Jet Boating'}\n",
            " * {'Parachute Gliding', 'Hiking', 'Sightseeing Flights', 'Bungee Jumping', 'Skiing', 'Observing Nature', 'Wildwater Rafting', 'Jet Boating'}\n"
          ]
        }
      ],
      "source": [
        "traverser = DescriptionTraverser()\n",
        "traverser.is_goal_description = is_intent\n",
        "\n",
        "traverser.traverse(context)\n",
        "assert len(traverser.goal_descriptions) == 8\n",
        "\n",
        "traverser.print_stats()"
      ]
    },
    {
      "cell_type": "markdown",
      "id": "68526732-e643-42ac-bb71-37a59a74b2e9",
      "metadata": {
        "id": "68526732-e643-42ac-bb71-37a59a74b2e9"
      },
      "source": [
        "### Min.generator\n",
        "\n",
        "Mathematical definition: $$D \\text{ is min. gen.} \\iff \\forall m \\in D,\\ D'' \\neq (D \\setminus \\{m\\})''$$"
      ]
    },
    {
      "cell_type": "code",
      "execution_count": null,
      "id": "33be42c4-fb00-4aa5-a95e-764061bc8b4a",
      "metadata": {
        "id": "33be42c4-fb00-4aa5-a95e-764061bc8b4a"
      },
      "outputs": [],
      "source": [
        "def is_mingen(description: set[str], context: tuple[set, set, set]) -> bool:\n",
        "    # TODO: Implement the function\n",
        "    return ..."
      ]
    },
    {
      "cell_type": "code",
      "execution_count": null,
      "id": "4eadae9a-5d79-43af-9a9a-6f72f51c99ee",
      "metadata": {
        "colab": {
          "base_uri": "https://localhost:8080/",
          "height": 207
        },
        "id": "4eadae9a-5d79-43af-9a9a-6f72f51c99ee",
        "outputId": "49137b35-62b7-4215-8fc0-4e98705a73cd"
      },
      "outputs": [
        {
          "ename": "NameError",
          "evalue": "name 'DescriptionTraverser' is not defined",
          "output_type": "error",
          "traceback": [
            "\u001b[0;31m---------------------------------------------------------------------------\u001b[0m",
            "\u001b[0;31mNameError\u001b[0m                                 Traceback (most recent call last)",
            "\u001b[0;32m<ipython-input-11-ab67356b8439>\u001b[0m in \u001b[0;36m<cell line: 0>\u001b[0;34m()\u001b[0m\n\u001b[0;32m----> 1\u001b[0;31m \u001b[0mtraverser\u001b[0m \u001b[0;34m=\u001b[0m \u001b[0mDescriptionTraverser\u001b[0m\u001b[0;34m(\u001b[0m\u001b[0;34m)\u001b[0m\u001b[0;34m\u001b[0m\u001b[0;34m\u001b[0m\u001b[0m\n\u001b[0m\u001b[1;32m      2\u001b[0m \u001b[0mtraverser\u001b[0m\u001b[0;34m.\u001b[0m\u001b[0mis_goal_description\u001b[0m \u001b[0;34m=\u001b[0m \u001b[0mis_mingen\u001b[0m\u001b[0;34m\u001b[0m\u001b[0;34m\u001b[0m\u001b[0m\n\u001b[1;32m      3\u001b[0m \u001b[0mtraverser\u001b[0m\u001b[0;34m.\u001b[0m\u001b[0mtraverse\u001b[0m\u001b[0;34m(\u001b[0m\u001b[0mcontext\u001b[0m\u001b[0;34m)\u001b[0m\u001b[0;34m\u001b[0m\u001b[0;34m\u001b[0m\u001b[0m\n\u001b[1;32m      4\u001b[0m \u001b[0;34m\u001b[0m\u001b[0m\n\u001b[1;32m      5\u001b[0m \u001b[0;32massert\u001b[0m \u001b[0mlen\u001b[0m\u001b[0;34m(\u001b[0m\u001b[0mtraverser\u001b[0m\u001b[0;34m.\u001b[0m\u001b[0mgoal_descriptions\u001b[0m\u001b[0;34m)\u001b[0m \u001b[0;34m==\u001b[0m \u001b[0;36m14\u001b[0m\u001b[0;34m\u001b[0m\u001b[0;34m\u001b[0m\u001b[0m\n",
            "\u001b[0;31mNameError\u001b[0m: name 'DescriptionTraverser' is not defined"
          ]
        }
      ],
      "source": [
        "traverser = DescriptionTraverser()\n",
        "traverser.is_goal_description = is_mingen\n",
        "traverser.traverse(context)\n",
        "\n",
        "assert len(traverser.goal_descriptions) == 14\n",
        "\n",
        "traverser.print_stats()"
      ]
    },
    {
      "cell_type": "markdown",
      "id": "50d5270b-f2f2-4750-8247-421b9d0ed78f",
      "metadata": {
        "id": "50d5270b-f2f2-4750-8247-421b9d0ed78f"
      },
      "source": [
        "### Proper premise\n",
        "\n",
        "Mathematical definition:\n",
        "$$D \\text{ is proper premise} \\iff D \\cup \\bigcup\\limits_{m \\in D} (D \\setminus {m})'' \\neq D''$$"
      ]
    },
    {
      "cell_type": "code",
      "execution_count": null,
      "id": "d1ff351c-93d0-403e-8ec8-aa1366b9ade0",
      "metadata": {
        "id": "d1ff351c-93d0-403e-8ec8-aa1366b9ade0"
      },
      "outputs": [],
      "source": [
        "def is_proper_premise(description: set[str], context: tuple[set, set, set]) -> bool:\n",
        "    # TODO: Implement the function\n",
        "    return ..."
      ]
    },
    {
      "cell_type": "code",
      "execution_count": null,
      "id": "0fbe06ae-8907-4f78-8a8e-7967c758df3d",
      "metadata": {
        "colab": {
          "base_uri": "https://localhost:8080/"
        },
        "id": "0fbe06ae-8907-4f78-8a8e-7967c758df3d",
        "outputId": "6d35e9d5-6dec-4880-f2ab-b7b9fb147cb8"
      },
      "outputs": [
        {
          "name": "stdout",
          "output_type": "stream",
          "text": [
            "traverser.traversal_time=15.428917 sec.\n",
            "len(traverser.passed_descriptions)=109601\n",
            "len(goals)=6\n",
            "goals:\n",
            " * set()\n",
            " * {'Bungee Jumping'}\n",
            " * {'Parachute Gliding'}\n",
            " * {'Skiing'}\n",
            " * {'Wildwater Rafting'}\n",
            " * {'Jet Boating'}\n"
          ]
        }
      ],
      "source": [
        "traverser = DescriptionTraverser()\n",
        "traverser.is_goal_description = is_proper_premise\n",
        "traverser.traverse(context)\n",
        "\n",
        "assert len(traverser.goal_descriptions) == 6\n",
        "\n",
        "traverser.print_stats()"
      ]
    },
    {
      "cell_type": "markdown",
      "id": "8df667a3-0904-4ef4-8f85-dbd104db960b",
      "metadata": {
        "id": "8df667a3-0904-4ef4-8f85-dbd104db960b"
      },
      "source": [
        "## Pseudo-intent*\n",
        "\n",
        "Mathematical definition:\n",
        "$$D \\text{ is pseudo-intent} \\iff D'' \\neq D \\text{ and } P'' \\subset D, \\forall P \\in \\text{PseudoIntents}, \\text{ s.t. } P \\subset D$$"
      ]
    },
    {
      "cell_type": "code",
      "execution_count": null,
      "id": "044ba804-49c9-42d2-87bf-bf3f249f05e8",
      "metadata": {
        "colab": {
          "base_uri": "https://localhost:8080/",
          "height": 207
        },
        "id": "044ba804-49c9-42d2-87bf-bf3f249f05e8",
        "outputId": "17846014-d1d0-4aaf-92b0-1f617f7387a5"
      },
      "outputs": [
        {
          "ename": "NameError",
          "evalue": "name 'DescriptionTraverser' is not defined",
          "output_type": "error",
          "traceback": [
            "\u001b[0;31m---------------------------------------------------------------------------\u001b[0m",
            "\u001b[0;31mNameError\u001b[0m                                 Traceback (most recent call last)",
            "\u001b[0;32m<ipython-input-13-731cb4507389>\u001b[0m in \u001b[0;36m<cell line: 0>\u001b[0;34m()\u001b[0m\n\u001b[1;32m      3\u001b[0m     \u001b[0;32mreturn\u001b[0m \u001b[0;34m...\u001b[0m\u001b[0;34m\u001b[0m\u001b[0;34m\u001b[0m\u001b[0m\n\u001b[1;32m      4\u001b[0m \u001b[0;34m\u001b[0m\u001b[0m\n\u001b[0;32m----> 5\u001b[0;31m \u001b[0;32mclass\u001b[0m \u001b[0mPIntentTraverser\u001b[0m\u001b[0;34m(\u001b[0m\u001b[0mDescriptionTraverser\u001b[0m\u001b[0;34m)\u001b[0m\u001b[0;34m:\u001b[0m\u001b[0;34m\u001b[0m\u001b[0;34m\u001b[0m\u001b[0m\n\u001b[0m\u001b[1;32m      6\u001b[0m     \u001b[0;32mdef\u001b[0m \u001b[0mis_goal_description\u001b[0m\u001b[0;34m(\u001b[0m\u001b[0mself\u001b[0m\u001b[0;34m,\u001b[0m \u001b[0mdescription\u001b[0m\u001b[0;34m,\u001b[0m \u001b[0mK\u001b[0m\u001b[0;34m)\u001b[0m \u001b[0;34m->\u001b[0m \u001b[0mbool\u001b[0m\u001b[0;34m:\u001b[0m\u001b[0;34m\u001b[0m\u001b[0;34m\u001b[0m\u001b[0m\n\u001b[1;32m      7\u001b[0m         \u001b[0mgoals\u001b[0m \u001b[0;34m=\u001b[0m \u001b[0mself\u001b[0m\u001b[0;34m.\u001b[0m\u001b[0mgoal_descriptions\u001b[0m \u001b[0;32mif\u001b[0m \u001b[0mself\u001b[0m\u001b[0;34m.\u001b[0m\u001b[0mgoal_descriptions\u001b[0m \u001b[0;32mis\u001b[0m \u001b[0;32mnot\u001b[0m \u001b[0;32mNone\u001b[0m \u001b[0;32melse\u001b[0m \u001b[0;34m[\u001b[0m\u001b[0;34m]\u001b[0m\u001b[0;34m\u001b[0m\u001b[0;34m\u001b[0m\u001b[0m\n",
            "\u001b[0;31mNameError\u001b[0m: name 'DescriptionTraverser' is not defined"
          ]
        }
      ],
      "source": [
        "def is_pseudo_intent(description: set[str], context: tuple[set, set, set], other_pseudo_intents: set[set[str]]) -> bool:\n",
        "    # TODO: Implement the function\n",
        "    return ...\n",
        "\n",
        "class PIntentTraverser(DescriptionTraverser):\n",
        "    def is_goal_description(self, description, K) -> bool:\n",
        "        goals = self.goal_descriptions if self.goal_descriptions is not None else []\n",
        "        return is_pseudo_intent(description, K, goals)"
      ]
    },
    {
      "cell_type": "code",
      "execution_count": null,
      "id": "effaab3f-e972-4d6c-894b-5d3c1f3c23f4",
      "metadata": {
        "colab": {
          "base_uri": "https://localhost:8080/"
        },
        "id": "effaab3f-e972-4d6c-894b-5d3c1f3c23f4",
        "outputId": "ba0648a0-96fd-4aa2-aaa8-034cb45e3561"
      },
      "outputs": [
        {
          "name": "stdout",
          "output_type": "stream",
          "text": [
            "traverser.traversal_time=4.382236 sec.\n",
            "len(traverser.passed_descriptions)=109601\n",
            "len(goals)=6\n",
            "goals:\n",
            " * set()\n",
            " * {'Jet Boating', 'Hiking'}\n",
            " * {'Bungee Jumping', 'Hiking'}\n",
            " * {'Wildwater Rafting', 'Hiking'}\n",
            " * {'Parachute Gliding', 'Hiking'}\n",
            " * {'Skiing', 'Hiking'}\n"
          ]
        }
      ],
      "source": [
        "traverser = PIntentTraverser()\n",
        "traverser.traverse(context)\n",
        "\n",
        "assert len(traverser.goal_descriptions) == 6\n",
        "\n",
        "traverser.print_stats()"
      ]
    },
    {
      "cell_type": "markdown",
      "id": "f206b4fc-b792-4780-bc09-51ad1619cc3d",
      "metadata": {
        "id": "f206b4fc-b792-4780-bc09-51ad1619cc3d"
      },
      "source": [
        "# Part 2. Optimise the traversal"
      ]
    },
    {
      "cell_type": "markdown",
      "id": "4de267a0-8049-44a2-9c41-242a762bb66b",
      "metadata": {
        "id": "4de267a0-8049-44a2-9c41-242a762bb66b"
      },
      "source": [
        "## 2.1 Cut the search space"
      ]
    },
    {
      "cell_type": "code",
      "execution_count": null,
      "id": "87de5afa-9840-43f3-b9fd-3c579fd6da32",
      "metadata": {
        "id": "87de5afa-9840-43f3-b9fd-3c579fd6da32"
      },
      "outputs": [],
      "source": [
        "def is_big_or_rare(description: set[str], K: tuple[set, set, set], min_support: int = 1, max_length: int = 3) -> bool:\n",
        "    # TODO: Implement the function\n",
        "    return ..."
      ]
    },
    {
      "cell_type": "code",
      "execution_count": null,
      "id": "6f4e270e-f901-4842-9d77-dfbaac8cabd6",
      "metadata": {
        "colab": {
          "base_uri": "https://localhost:8080/"
        },
        "id": "6f4e270e-f901-4842-9d77-dfbaac8cabd6",
        "outputId": "dfaac598-9398-4c74-abf9-027876412385"
      },
      "outputs": [
        {
          "name": "stdout",
          "output_type": "stream",
          "text": [
            "traverser.traversal_time=0.004037 sec.\n",
            "len(traverser.passed_descriptions)=353\n",
            "len(goals)=10\n",
            "goals:\n",
            " * set()\n",
            " * {'Bungee Jumping'}\n",
            " * {'Observing Nature'}\n",
            " * {'Parachute Gliding'}\n",
            " * {'Skiing'}\n",
            " * {'Wildwater Rafting'}\n",
            " * {'Sightseeing Flights'}\n",
            " * {'Jet Boating'}\n",
            " * {'Jet Boating', 'Observing Nature'}\n",
            " * {'Sightseeing Flights', 'Observing Nature'}\n"
          ]
        }
      ],
      "source": [
        "traverser = DescriptionTraverser()\n",
        "traverser.is_goal_description = is_mingen\n",
        "traverser.abort_description = is_big_or_rare\n",
        "traverser.traverse(context)\n",
        "\n",
        "assert len(traverser.goal_descriptions) == 10\n",
        "\n",
        "traverser.print_stats()"
      ]
    },
    {
      "cell_type": "markdown",
      "id": "88c30acd-b746-44ff-b0be-4a0d12f4cb8d",
      "metadata": {
        "id": "88c30acd-b746-44ff-b0be-4a0d12f4cb8d"
      },
      "source": [
        "## 2.2 Smart Search space navigation"
      ]
    },
    {
      "cell_type": "markdown",
      "id": "42c82ecd-041c-4dc1-94c1-58752b6a9246",
      "metadata": {
        "id": "42c82ecd-041c-4dc1-94c1-58752b6a9246"
      },
      "source": [
        "### 2.2.1. Do not step the same node twice"
      ]
    },
    {
      "cell_type": "code",
      "execution_count": null,
      "id": "GhBlu86Cs8C1",
      "metadata": {
        "id": "GhBlu86Cs8C1"
      },
      "outputs": [],
      "source": [
        "# A solution that is used when traversing a generic graph\n",
        "class RememberingTraverser(DescriptionTraverser):\n",
        "  def abort_description(self, description: set[str], K) -> bool:\n",
        "    return description in self.passed_descriptions[:-1]"
      ]
    },
    {
      "cell_type": "code",
      "execution_count": null,
      "id": "8b3126d4-6679-4703-8290-c5c0ff677964",
      "metadata": {
        "colab": {
          "base_uri": "https://localhost:8080/",
          "height": 207
        },
        "id": "8b3126d4-6679-4703-8290-c5c0ff677964",
        "outputId": "83c1c3dc-3a0a-41fa-d8e5-0f4533c81756"
      },
      "outputs": [
        {
          "ename": "NameError",
          "evalue": "name 'DescriptionTraverser' is not defined",
          "output_type": "error",
          "traceback": [
            "\u001b[0;31m---------------------------------------------------------------------------\u001b[0m",
            "\u001b[0;31mNameError\u001b[0m                                 Traceback (most recent call last)",
            "\u001b[0;32m<ipython-input-15-4ed4c20b6ed1>\u001b[0m in \u001b[0;36m<cell line: 0>\u001b[0;34m()\u001b[0m\n\u001b[1;32m      1\u001b[0m \u001b[0;31m# A solution that is used when traversing a graph where are subsets of some set\u001b[0m\u001b[0;34m\u001b[0m\u001b[0;34m\u001b[0m\u001b[0m\n\u001b[0;32m----> 2\u001b[0;31m \u001b[0;32mclass\u001b[0m \u001b[0mLexicTraverser\u001b[0m\u001b[0;34m(\u001b[0m\u001b[0mDescriptionTraverser\u001b[0m\u001b[0;34m)\u001b[0m\u001b[0;34m:\u001b[0m\u001b[0;34m\u001b[0m\u001b[0;34m\u001b[0m\u001b[0m\n\u001b[0m\u001b[1;32m      3\u001b[0m     \u001b[0;32mdef\u001b[0m \u001b[0mpreprocess_context\u001b[0m\u001b[0;34m(\u001b[0m\u001b[0mself\u001b[0m\u001b[0;34m,\u001b[0m \u001b[0mK\u001b[0m\u001b[0;34m:\u001b[0m \u001b[0mtuple\u001b[0m\u001b[0;34m[\u001b[0m\u001b[0mset\u001b[0m\u001b[0;34m,\u001b[0m \u001b[0mset\u001b[0m\u001b[0;34m,\u001b[0m \u001b[0mset\u001b[0m\u001b[0;34m]\u001b[0m\u001b[0;34m)\u001b[0m \u001b[0;34m->\u001b[0m \u001b[0mtuple\u001b[0m\u001b[0;34m[\u001b[0m\u001b[0mset\u001b[0m\u001b[0;34m,\u001b[0m \u001b[0mset\u001b[0m\u001b[0;34m,\u001b[0m \u001b[0mset\u001b[0m\u001b[0;34m]\u001b[0m\u001b[0;34m:\u001b[0m\u001b[0;34m\u001b[0m\u001b[0;34m\u001b[0m\u001b[0m\n\u001b[1;32m      4\u001b[0m         \u001b[0mG\u001b[0m\u001b[0;34m,\u001b[0m \u001b[0mM\u001b[0m\u001b[0;34m,\u001b[0m \u001b[0mI\u001b[0m \u001b[0;34m=\u001b[0m \u001b[0mK\u001b[0m\u001b[0;34m\u001b[0m\u001b[0;34m\u001b[0m\u001b[0m\n\u001b[1;32m      5\u001b[0m         \u001b[0mself\u001b[0m\u001b[0;34m.\u001b[0m\u001b[0mattributes_order\u001b[0m \u001b[0;34m=\u001b[0m \u001b[0msorted\u001b[0m\u001b[0;34m(\u001b[0m\u001b[0mM\u001b[0m\u001b[0;34m)\u001b[0m  \u001b[0;31m# from index to attribute\u001b[0m\u001b[0;34m\u001b[0m\u001b[0;34m\u001b[0m\u001b[0m\n",
            "\u001b[0;31mNameError\u001b[0m: name 'DescriptionTraverser' is not defined"
          ]
        }
      ],
      "source": [
        "# A solution that is used when traversing a graph where are subsets of some set\n",
        "class LexicTraverser(DescriptionTraverser):\n",
        "    def preprocess_context(self, K: tuple[set, set, set]) -> tuple[set, set, set]:\n",
        "        G, M, I = K\n",
        "        self.attributes_order = sorted(M)  # from index to attribute\n",
        "        self.attributes_index_dict = {m: idx for idx, m in enumerate(self.attributes_order)}  # from attribute to index\n",
        "        return K\n",
        "\n",
        "    def sucessors(self, description: set[str], K: tuple[set, set, set]) -> list[set[str]]:\n",
        "        # TODO: Implement the function\n",
        "        return ..."
      ]
    },
    {
      "cell_type": "code",
      "execution_count": null,
      "id": "86b29699-356d-4f46-b414-05fc121e18a6",
      "metadata": {
        "colab": {
          "base_uri": "https://localhost:8080/"
        },
        "id": "86b29699-356d-4f46-b414-05fc121e18a6",
        "outputId": "f978d186-3391-41bd-d514-9b072b387d45"
      },
      "outputs": [
        {
          "name": "stdout",
          "output_type": "stream",
          "text": [
            "traverser.traversal_time=14.812431 sec.\n",
            "len(traverser.passed_descriptions)=109601\n",
            "len(goals)=14\n",
            "goals:\n",
            " * set()\n",
            " * {'Bungee Jumping'}\n",
            " * {'Observing Nature'}\n",
            " * {'Parachute Gliding'}\n",
            " * {'Skiing'}\n",
            " * {'Wildwater Rafting'}\n",
            " * {'Sightseeing Flights'}\n",
            " * {'Jet Boating'}\n",
            " * {'Jet Boating', 'Observing Nature'}\n",
            " * {'Bungee Jumping', 'Observing Nature'}\n",
            " * {'Parachute Gliding', 'Observing Nature'}\n",
            " * {'Skiing', 'Observing Nature'}\n",
            " * {'Wildwater Rafting', 'Observing Nature'}\n",
            " * {'Sightseeing Flights', 'Observing Nature'}\n"
          ]
        }
      ],
      "source": [
        "traverser = DescriptionTraverser()\n",
        "traverser.is_goal_description = is_mingen\n",
        "\n",
        "traverser.traverse(context)\n",
        "\n",
        "assert len(traverser.goal_descriptions) == 14\n",
        "traverser.print_stats()"
      ]
    },
    {
      "cell_type": "code",
      "execution_count": null,
      "id": "cu0pCsmJtMck",
      "metadata": {
        "colab": {
          "base_uri": "https://localhost:8080/"
        },
        "id": "cu0pCsmJtMck",
        "outputId": "043109f3-8423-40de-c43c-f36b04c8ed6b"
      },
      "outputs": [
        {
          "name": "stdout",
          "output_type": "stream",
          "text": [
            "traverser.traversal_time=0.036039 sec.\n",
            "len(traverser.passed_descriptions)=1025\n",
            "len(goals)=14\n",
            "goals:\n",
            " * set()\n",
            " * {'Bungee Jumping'}\n",
            " * {'Observing Nature'}\n",
            " * {'Parachute Gliding'}\n",
            " * {'Skiing'}\n",
            " * {'Wildwater Rafting'}\n",
            " * {'Sightseeing Flights'}\n",
            " * {'Jet Boating'}\n",
            " * {'Jet Boating', 'Observing Nature'}\n",
            " * {'Bungee Jumping', 'Observing Nature'}\n",
            " * {'Parachute Gliding', 'Observing Nature'}\n",
            " * {'Skiing', 'Observing Nature'}\n",
            " * {'Wildwater Rafting', 'Observing Nature'}\n",
            " * {'Sightseeing Flights', 'Observing Nature'}\n"
          ]
        }
      ],
      "source": [
        "traverser = RememberingTraverser()\n",
        "traverser.is_goal_description = is_mingen\n",
        "\n",
        "traverser.traverse(context)\n",
        "\n",
        "assert len(traverser.goal_descriptions) == 14\n",
        "traverser.print_stats()"
      ]
    },
    {
      "cell_type": "code",
      "execution_count": null,
      "id": "vdI-qRxmsbiK",
      "metadata": {
        "colab": {
          "base_uri": "https://localhost:8080/"
        },
        "id": "vdI-qRxmsbiK",
        "outputId": "c05d915d-6476-49a9-9370-30264bda9411"
      },
      "outputs": [
        {
          "name": "stdout",
          "output_type": "stream",
          "text": [
            "traverser.traversal_time=0.020727 sec.\n",
            "len(traverser.passed_descriptions)=256\n",
            "len(goals)=14\n",
            "goals:\n",
            " * set()\n",
            " * {'Bungee Jumping'}\n",
            " * {'Observing Nature'}\n",
            " * {'Parachute Gliding'}\n",
            " * {'Skiing'}\n",
            " * {'Wildwater Rafting'}\n",
            " * {'Sightseeing Flights'}\n",
            " * {'Jet Boating'}\n",
            " * {'Jet Boating', 'Observing Nature'}\n",
            " * {'Bungee Jumping', 'Observing Nature'}\n",
            " * {'Parachute Gliding', 'Observing Nature'}\n",
            " * {'Skiing', 'Observing Nature'}\n",
            " * {'Wildwater Rafting', 'Observing Nature'}\n",
            " * {'Sightseeing Flights', 'Observing Nature'}\n"
          ]
        }
      ],
      "source": [
        "traverser = LexicTraverser()\n",
        "traverser.is_goal_description = is_mingen\n",
        "\n",
        "traverser.traverse(context)\n",
        "\n",
        "assert len(traverser.goal_descriptions) == 14\n",
        "\n",
        "traverser.print_stats()"
      ]
    },
    {
      "cell_type": "markdown",
      "id": "cf04973e-96b8-4e6f-9927-271874c59f5e",
      "metadata": {
        "id": "cf04973e-96b8-4e6f-9927-271874c59f5e"
      },
      "source": [
        "### 2.2.2 Involve math properties\n",
        "\n",
        "Mathematics says to us that\n",
        "> every subset of a min. generator is a min. generator.\n",
        "\n",
        "That means that\n",
        "> if some subdescription of a description is not minimal then the given description is not minimal too"
      ]
    },
    {
      "cell_type": "code",
      "execution_count": null,
      "id": "26ea920e-f82d-4602-9486-a050e9239588",
      "metadata": {
        "colab": {
          "base_uri": "https://localhost:8080/",
          "height": 190
        },
        "id": "26ea920e-f82d-4602-9486-a050e9239588",
        "outputId": "39806f6a-1168-4bb2-c59b-5c28a0cc39e0"
      },
      "outputs": [
        {
          "ename": "NameError",
          "evalue": "name 'LexicTraverser' is not defined",
          "output_type": "error",
          "traceback": [
            "\u001b[0;31m---------------------------------------------------------------------------\u001b[0m",
            "\u001b[0;31mNameError\u001b[0m                                 Traceback (most recent call last)",
            "\u001b[0;32m<ipython-input-16-3cf22c02a4e8>\u001b[0m in \u001b[0;36m<cell line: 0>\u001b[0;34m()\u001b[0m\n\u001b[0;32m----> 1\u001b[0;31m \u001b[0;32mclass\u001b[0m \u001b[0mMinimalTraverser\u001b[0m\u001b[0;34m(\u001b[0m\u001b[0mLexicTraverser\u001b[0m\u001b[0;34m)\u001b[0m\u001b[0;34m:\u001b[0m\u001b[0;34m\u001b[0m\u001b[0;34m\u001b[0m\u001b[0m\n\u001b[0m\u001b[1;32m      2\u001b[0m     \u001b[0;32mdef\u001b[0m \u001b[0mabort_description\u001b[0m\u001b[0;34m(\u001b[0m\u001b[0mself\u001b[0m\u001b[0;34m,\u001b[0m \u001b[0mdescription\u001b[0m\u001b[0;34m:\u001b[0m \u001b[0mset\u001b[0m\u001b[0;34m[\u001b[0m\u001b[0mstr\u001b[0m\u001b[0;34m]\u001b[0m\u001b[0;34m,\u001b[0m \u001b[0mK\u001b[0m\u001b[0;34m:\u001b[0m \u001b[0mtuple\u001b[0m\u001b[0;34m[\u001b[0m\u001b[0mset\u001b[0m\u001b[0;34m,\u001b[0m \u001b[0mset\u001b[0m\u001b[0;34m,\u001b[0m \u001b[0mset\u001b[0m\u001b[0;34m]\u001b[0m\u001b[0;34m)\u001b[0m \u001b[0;34m->\u001b[0m \u001b[0mbool\u001b[0m\u001b[0;34m:\u001b[0m\u001b[0;34m\u001b[0m\u001b[0;34m\u001b[0m\u001b[0m\n\u001b[1;32m      3\u001b[0m         \u001b[0;31m# TODO: Implement the function\u001b[0m\u001b[0;34m\u001b[0m\u001b[0;34m\u001b[0m\u001b[0m\n\u001b[1;32m      4\u001b[0m         \u001b[0;32mreturn\u001b[0m \u001b[0;34m...\u001b[0m\u001b[0;34m\u001b[0m\u001b[0;34m\u001b[0m\u001b[0m\n",
            "\u001b[0;31mNameError\u001b[0m: name 'LexicTraverser' is not defined"
          ]
        }
      ],
      "source": [
        "class MinimalTraverser(LexicTraverser):\n",
        "    def abort_description(self, description: set[str], K: tuple[set, set, set]) -> bool:\n",
        "        # TODO: Implement the function\n",
        "        return ...\n"
      ]
    },
    {
      "cell_type": "code",
      "execution_count": null,
      "id": "Iwzk79sFvW0I",
      "metadata": {
        "colab": {
          "base_uri": "https://localhost:8080/"
        },
        "id": "Iwzk79sFvW0I",
        "outputId": "e066b931-74aa-4a96-c6a0-88265fa41526"
      },
      "outputs": [
        {
          "name": "stdout",
          "output_type": "stream",
          "text": [
            "traverser.traversal_time=0.010619 sec.\n",
            "len(traverser.passed_descriptions)=72\n",
            "len(goals)=14\n",
            "goals:\n",
            " * set()\n",
            " * {'Bungee Jumping'}\n",
            " * {'Observing Nature'}\n",
            " * {'Parachute Gliding'}\n",
            " * {'Skiing'}\n",
            " * {'Wildwater Rafting'}\n",
            " * {'Sightseeing Flights'}\n",
            " * {'Jet Boating'}\n",
            " * {'Jet Boating', 'Observing Nature'}\n",
            " * {'Bungee Jumping', 'Observing Nature'}\n",
            " * {'Parachute Gliding', 'Observing Nature'}\n",
            " * {'Skiing', 'Observing Nature'}\n",
            " * {'Wildwater Rafting', 'Observing Nature'}\n",
            " * {'Sightseeing Flights', 'Observing Nature'}\n"
          ]
        }
      ],
      "source": [
        "traverser = MinimalTraverser()\n",
        "traverser.is_goal_description = is_mingen\n",
        "\n",
        "traverser.traverse(context)\n",
        "\n",
        "assert len(traverser.goal_descriptions) == 14\n",
        "\n",
        "traverser.print_stats()"
      ]
    },
    {
      "cell_type": "markdown",
      "id": "oXPba8vExM23",
      "metadata": {
        "id": "oXPba8vExM23"
      },
      "source": [
        "## 2.3 Optimise every iteration"
      ]
    },
    {
      "cell_type": "code",
      "execution_count": null,
      "id": "E8_g_dHsxKmd",
      "metadata": {
        "colab": {
          "base_uri": "https://localhost:8080/",
          "height": 207
        },
        "id": "E8_g_dHsxKmd",
        "outputId": "a73df54b-6d76-44f6-f0ee-8e0410b041b3"
      },
      "outputs": [
        {
          "ename": "NameError",
          "evalue": "name 'LexicTraverser' is not defined",
          "output_type": "error",
          "traceback": [
            "\u001b[0;31m---------------------------------------------------------------------------\u001b[0m",
            "\u001b[0;31mNameError\u001b[0m                                 Traceback (most recent call last)",
            "\u001b[0;32m<ipython-input-17-251e8884f99c>\u001b[0m in \u001b[0;36m<cell line: 0>\u001b[0;34m()\u001b[0m\n\u001b[0;32m----> 1\u001b[0;31m \u001b[0;32mclass\u001b[0m \u001b[0mMinGenTraverser\u001b[0m\u001b[0;34m(\u001b[0m\u001b[0mLexicTraverser\u001b[0m\u001b[0;34m)\u001b[0m\u001b[0;34m:\u001b[0m\u001b[0;34m\u001b[0m\u001b[0;34m\u001b[0m\u001b[0m\n\u001b[0m\u001b[1;32m      2\u001b[0m     \u001b[0;32mdef\u001b[0m \u001b[0m__init__\u001b[0m\u001b[0;34m(\u001b[0m\u001b[0mself\u001b[0m\u001b[0;34m)\u001b[0m\u001b[0;34m:\u001b[0m\u001b[0;34m\u001b[0m\u001b[0;34m\u001b[0m\u001b[0m\n\u001b[1;32m      3\u001b[0m         \u001b[0msuper\u001b[0m\u001b[0;34m(\u001b[0m\u001b[0;34m)\u001b[0m\u001b[0;34m.\u001b[0m\u001b[0m__init__\u001b[0m\u001b[0;34m(\u001b[0m\u001b[0;34m)\u001b[0m\u001b[0;34m\u001b[0m\u001b[0;34m\u001b[0m\u001b[0m\n\u001b[1;32m      4\u001b[0m         \u001b[0mself\u001b[0m\u001b[0;34m.\u001b[0m\u001b[0mgoal_supports\u001b[0m \u001b[0;34m=\u001b[0m \u001b[0;32mNone\u001b[0m\u001b[0;34m\u001b[0m\u001b[0;34m\u001b[0m\u001b[0m\n\u001b[1;32m      5\u001b[0m \u001b[0;34m\u001b[0m\u001b[0m\n",
            "\u001b[0;31mNameError\u001b[0m: name 'LexicTraverser' is not defined"
          ]
        }
      ],
      "source": [
        "class MinGenTraverser(LexicTraverser):\n",
        "    def __init__(self):\n",
        "        super().__init__()\n",
        "        self.goal_supports = None\n",
        "\n",
        "    def register_goal_description(self, description: set[str]):\n",
        "        super().register_goal_description(description)\n",
        "        if self.goal_supports is None:\n",
        "          self.goal_supports = dict()\n",
        "        self.goal_supports[frozenset(description)] = support(description, context)\n",
        "\n",
        "    def is_goal_description(self, description: set[str], K: tuple[set, set, set]) -> bool:\n",
        "        return is_mingen(description, K)\n",
        "\n",
        "    def abort_description(self, description: set[str], K: tuple[set, set, set]) -> bool:\n",
        "        # implement the function\n",
        "        # test that all subsets of `descriptions` are among already found keys\n",
        "        # and test that the support of these keys is higher than the support of `description`\n",
        "        return ..."
      ]
    },
    {
      "cell_type": "code",
      "execution_count": null,
      "id": "0JgXvYK80gju",
      "metadata": {
        "colab": {
          "base_uri": "https://localhost:8080/"
        },
        "id": "0JgXvYK80gju",
        "outputId": "806dd69f-9412-4d5f-cb5d-761702d7004e"
      },
      "outputs": [
        {
          "name": "stdout",
          "output_type": "stream",
          "text": [
            "traverser.traversal_time=0.002406 sec.\n",
            "len(traverser.passed_descriptions)=45\n",
            "len(goals)=14\n",
            "goals:\n",
            " * set()\n",
            " * {'Bungee Jumping'}\n",
            " * {'Observing Nature'}\n",
            " * {'Parachute Gliding'}\n",
            " * {'Skiing'}\n",
            " * {'Wildwater Rafting'}\n",
            " * {'Sightseeing Flights'}\n",
            " * {'Jet Boating'}\n",
            " * {'Jet Boating', 'Observing Nature'}\n",
            " * {'Bungee Jumping', 'Observing Nature'}\n",
            " * {'Parachute Gliding', 'Observing Nature'}\n",
            " * {'Skiing', 'Observing Nature'}\n",
            " * {'Wildwater Rafting', 'Observing Nature'}\n",
            " * {'Sightseeing Flights', 'Observing Nature'}\n"
          ]
        }
      ],
      "source": [
        "traverser = MinGenTraverser()\n",
        "\n",
        "traverser.traverse(context)\n",
        "\n",
        "assert len(traverser.goal_descriptions) == 14\n",
        "\n",
        "traverser.print_stats()"
      ]
    },
    {
      "cell_type": "markdown",
      "id": "e2hvvESM03GA",
      "metadata": {
        "id": "e2hvvESM03GA"
      },
      "source": [
        "# Part 3. Putting everything together"
      ]
    },
    {
      "cell_type": "markdown",
      "id": "ZH7elqcmAkps",
      "metadata": {
        "id": "ZH7elqcmAkps"
      },
      "source": [
        "Find Minimal generators"
      ]
    },
    {
      "cell_type": "code",
      "execution_count": null,
      "id": "em-N5wiy05Rb",
      "metadata": {
        "colab": {
          "base_uri": "https://localhost:8080/"
        },
        "id": "em-N5wiy05Rb",
        "outputId": "2427a30d-5f85-40c6-88e1-137fbdabe4b8"
      },
      "outputs": [
        {
          "data": {
            "text/plain": [
              "[frozenset(),\n",
              " frozenset({'Bungee Jumping'}),\n",
              " frozenset({'Observing Nature'}),\n",
              " frozenset({'Parachute Gliding'}),\n",
              " frozenset({'Skiing'}),\n",
              " frozenset({'Wildwater Rafting'}),\n",
              " frozenset({'Sightseeing Flights'}),\n",
              " frozenset({'Jet Boating'}),\n",
              " frozenset({'Jet Boating', 'Observing Nature'}),\n",
              " frozenset({'Bungee Jumping', 'Observing Nature'}),\n",
              " frozenset({'Observing Nature', 'Parachute Gliding'}),\n",
              " frozenset({'Observing Nature', 'Skiing'}),\n",
              " frozenset({'Observing Nature', 'Wildwater Rafting'}),\n",
              " frozenset({'Observing Nature', 'Sightseeing Flights'})]"
            ]
          },
          "execution_count": 47,
          "metadata": {},
          "output_type": "execute_result"
        }
      ],
      "source": [
        "t1 = datetime.now()\n",
        "traverser = MinGenTraverser()\n",
        "traverser.traverse(context)\n",
        "mingens = sorted(traverser.goal_descriptions, key=len)\n",
        "time_to_mingens = (datetime.now()-t1).total_seconds()\n",
        "mingens"
      ]
    },
    {
      "cell_type": "markdown",
      "id": "D6GUm-zoArZa",
      "metadata": {
        "id": "D6GUm-zoArZa"
      },
      "source": [
        "Find intents"
      ]
    },
    {
      "cell_type": "code",
      "execution_count": null,
      "id": "BN5rcPImAqq8",
      "metadata": {
        "id": "BN5rcPImAqq8"
      },
      "outputs": [],
      "source": [
        "t1 = datetime.now()\n",
        "intents = {mingen: intent(extent(mingen, context), context) for mingen in mingens}\n",
        "time_to_intents = time_to_mingens + (datetime.now()-t1).total_seconds()"
      ]
    },
    {
      "cell_type": "markdown",
      "id": "KaRWDqHVAy0Q",
      "metadata": {
        "id": "KaRWDqHVAy0Q"
      },
      "source": [
        "Consruct ProperPremise implication basis (aka Canonical Direct basis)"
      ]
    },
    {
      "cell_type": "code",
      "execution_count": null,
      "id": "2fQxDyOt8pCJ",
      "metadata": {
        "id": "2fQxDyOt8pCJ"
      },
      "outputs": [],
      "source": [
        "t1 = datetime.now()\n",
        "implications = [(mingen, intents[mingen]) for mingen in mingens]\n",
        "saturated_premises = {\n",
        "    premise: saturate_direct(premise, [(p, c) for p, c in implications if p!=premise])\n",
        "    for premise, _ in implications\n",
        "}\n",
        "proper_premise_base = [(premise, conclusion) for premise, conclusion in implications\n",
        "                       if saturated_premises[premise] != conclusion]\n",
        "time_to_proper_premise_base = time_to_intents + (datetime.now()-t1).total_seconds()\n",
        "assert len(proper_premise_base) == 6"
      ]
    },
    {
      "cell_type": "markdown",
      "id": "fouFuAteBEeE",
      "metadata": {
        "id": "fouFuAteBEeE"
      },
      "source": [
        "Construct PseudoIntent basis (aka Canonical basis)"
      ]
    },
    {
      "cell_type": "code",
      "execution_count": null,
      "id": "v8Ph-dz66dMV",
      "metadata": {
        "id": "v8Ph-dz66dMV"
      },
      "outputs": [],
      "source": [
        "t1 = datetime.now()\n",
        "pseudo_intent_basis = []\n",
        "for premise, conclusion in proper_premise_base:\n",
        "  pseudo_intent = saturate(premise, pseudo_intent_basis)\n",
        "  if pseudo_intent != conclusion:\n",
        "    pseudo_intent_basis.append((pseudo_intent, conclusion))\n",
        "time_to_pseudo_intents = time_to_proper_premise_base + (datetime.now()-t1).total_seconds()\n",
        "\n",
        "assert len(pseudo_intent_basis) == 6"
      ]
    },
    {
      "cell_type": "markdown",
      "id": "RCLKHmRHBLPs",
      "metadata": {
        "id": "RCLKHmRHBLPs"
      },
      "source": [
        "Look at the bases"
      ]
    },
    {
      "cell_type": "code",
      "execution_count": null,
      "id": "G5AVXi5mAaaG",
      "metadata": {
        "colab": {
          "base_uri": "https://localhost:8080/"
        },
        "id": "G5AVXi5mAaaG",
        "outputId": "38984a50-be0e-475c-bcc4-fade6fdba94a"
      },
      "outputs": [
        {
          "name": "stdout",
          "output_type": "stream",
          "text": [
            "Proper Premise base:\n",
            "() => (Hiking)\n",
            "(Bungee Jumping) => (Parachute Gliding, Sightseeing Flights, Skiing, Wildwater Rafting, Jet Boating)\n",
            "(Parachute Gliding) => (Sightseeing Flights, Bungee Jumping, Skiing, Wildwater Rafting, Jet Boating)\n",
            "(Skiing) => (Parachute Gliding, Sightseeing Flights, Bungee Jumping, Wildwater Rafting, Jet Boating)\n",
            "(Wildwater Rafting) => (Parachute Gliding, Sightseeing Flights, Bungee Jumping, Skiing, Jet Boating)\n",
            "(Jet Boating) => (Sightseeing Flights)\n"
          ]
        }
      ],
      "source": [
        "print('Proper Premise base:')\n",
        "for premise, conclusion in proper_premise_base:\n",
        "  saturated_premise = saturate(premise, [(p, c) for p, c in proper_premise_base if p!=premise])\n",
        "  print(f\"({', '.join(premise)}) => ({', '.join(conclusion - saturated_premise)})\")"
      ]
    },
    {
      "cell_type": "code",
      "execution_count": null,
      "id": "d6TLyYsJBosZ",
      "metadata": {
        "colab": {
          "base_uri": "https://localhost:8080/"
        },
        "id": "d6TLyYsJBosZ",
        "outputId": "a0f2c3e9-68a4-4c43-f942-f11055ceb3ac"
      },
      "outputs": [
        {
          "name": "stdout",
          "output_type": "stream",
          "text": [
            "Pseudo Intent base\n",
            "() => (Hiking)\n",
            "(Bungee Jumping, Hiking) => (Parachute Gliding, Sightseeing Flights, Skiing, Wildwater Rafting, Jet Boating)\n",
            "(Parachute Gliding, Hiking) => (Sightseeing Flights, Bungee Jumping, Skiing, Wildwater Rafting, Jet Boating)\n",
            "(Skiing, Hiking) => (Parachute Gliding, Sightseeing Flights, Bungee Jumping, Wildwater Rafting, Jet Boating)\n",
            "(Wildwater Rafting, Hiking) => (Parachute Gliding, Sightseeing Flights, Bungee Jumping, Skiing, Jet Boating)\n",
            "(Jet Boating, Hiking) => (Sightseeing Flights)\n"
          ]
        }
      ],
      "source": [
        "print('Pseudo Intent base')\n",
        "for premise, conclusion in pseudo_intent_basis:\n",
        "  print(f\"({', '.join(premise)}) => ({', '.join(conclusion - premise)})\")"
      ]
    },
    {
      "cell_type": "markdown",
      "id": "_Ep-m2u1rgvh",
      "metadata": {
        "id": "_Ep-m2u1rgvh"
      },
      "source": [
        "Final timings:"
      ]
    },
    {
      "cell_type": "code",
      "execution_count": null,
      "id": "lFniBc-DrSul",
      "metadata": {
        "colab": {
          "base_uri": "https://localhost:8080/"
        },
        "id": "lFniBc-DrSul",
        "outputId": "511d2ae9-045b-4feb-a895-b66cd2db153c"
      },
      "outputs": [
        {
          "name": "stdout",
          "output_type": "stream",
          "text": [
            "time_to_mingens=0.001652\n",
            "time_to_intents=0.002295\n",
            "time_to_proper_premise_base=0.002782\n",
            "time_to_pseudo_intents=0.003235\n"
          ]
        }
      ],
      "source": [
        "print(f\"{time_to_mingens=}\")\n",
        "print(f\"{time_to_intents=}\")\n",
        "print(f\"{time_to_proper_premise_base=}\")\n",
        "print(f\"{time_to_pseudo_intents=}\")"
      ]
    }
  ],
  "metadata": {
    "colab": {
      "provenance": []
    },
    "kernelspec": {
      "display_name": ".venv",
      "language": "python",
      "name": "python3"
    },
    "language_info": {
      "codemirror_mode": {
        "name": "ipython",
        "version": 3
      },
      "file_extension": ".py",
      "mimetype": "text/x-python",
      "name": "python",
      "nbconvert_exporter": "python",
      "pygments_lexer": "ipython3",
      "version": "3.13.1"
    }
  },
  "nbformat": 4,
  "nbformat_minor": 5
}
