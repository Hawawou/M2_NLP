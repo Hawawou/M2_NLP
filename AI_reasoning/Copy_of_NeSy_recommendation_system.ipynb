{
  "nbformat": 4,
  "nbformat_minor": 0,
  "metadata": {
    "colab": {
      "provenance": []
    },
    "kernelspec": {
      "name": "python3",
      "display_name": "Python 3"
    },
    "language_info": {
      "name": "python"
    }
  },
  "cells": [
    {
      "cell_type": "markdown",
      "source": [
        "**LAB1 - NeSy Recommendation System**"
      ],
      "metadata": {
        "id": "HwOn9fUKLvgN"
      }
    },
    {
      "cell_type": "markdown",
      "source": [
        "Movie Recommendation System\n",
        "Recommend movies to users based on explicit preferences.\n",
        "\n",
        "We will go through probabilistic uncertainty, vague knowledge, commonsense reasoning, and similarity-based inference. More precisely:\n",
        "\n",
        "* Classical Prolog= Structured rules for explicit knowledge (e.g., “Alice likes Sci-Fi → Recommend Sci-Fi movies”)\n",
        "* Probabilistic Prolog: Uncertain preferences (e.g., “Alice probably likes Sci-Fi with 80% confidence”)\n",
        "* Possibilistic Prolog Vague or imprecise knowledge (e.g., “If Alice likes Sci-Fi, she might like Cyberpunk”)\n",
        "* Commonsense Reasoning\tInterpolation & analogy-based reasoning (e.g., “Alice likes Action and Sci-Fi → Infer she might like Cyberpunk”)\n",
        "* Similarity-Based Reasoning\tVector embeddings for contextual similarity (e.g., “Inception is similar to Interstellar → Recommend Interstellar”)"
      ],
      "metadata": {
        "id": "SP4ysl17LNct"
      }
    },
    {
      "cell_type": "markdown",
      "source": [
        "Let's do concept spaces"
      ],
      "metadata": {
        "id": "kLUf8UH8MYe7"
      }
    },
    {
      "cell_type": "markdown",
      "source": [
        "Let's start with the following step\n",
        "\n",
        "* Step 1: Define the Logical Rules (Prolog)\n",
        "* Step 2: Introduce Probabilistic Reasoning (Probabilistic Prolog)\n",
        "* Step 3: Handle Vague Knowledge (Possibilistic Prolog)\n",
        "* Step 4: Implement Commonsense Reasoning\n",
        "* Step 5: Implement Similarity-Based Reasoning Using Vector Embeddings\n",
        "* Step 6:\n",
        "    - Integrate real-world datasets (IMDB, MovieLens)\n",
        "    - Enhance user personalization (e.g., feedback loops)\n",
        "    - Reason with Embeddings\n"
      ],
      "metadata": {
        "id": "vzDawH1ELqy3"
      }
    },
    {
      "cell_type": "markdown",
      "source": [],
      "metadata": {
        "id": "cRIvghOfLxFL"
      }
    },
    {
      "cell_type": "code",
      "execution_count": 1,
      "metadata": {
        "id": "yFbdaf9bLDZ9",
        "colab": {
          "base_uri": "https://localhost:8080/"
        },
        "outputId": "c1c04ac5-347c-430b-fdf6-666d40806876"
      },
      "outputs": [
        {
          "output_type": "stream",
          "name": "stdout",
          "text": [
            "Reading package lists... Done\n",
            "Building dependency tree... Done\n",
            "Reading state information... Done\n",
            "The following additional packages will be installed:\n",
            "  autopoint debhelper debugedit dh-autoreconf dh-strip-nondeterminism dwz gettext gettext-base\n",
            "  intltool-debian libarchive-cpio-perl libarchive-zip-perl libdebhelper-perl\n",
            "  libfile-stripnondeterminism-perl libmail-sendmail-perl libossp-uuid16 libsub-override-perl\n",
            "  libsys-hostname-long-perl libtool po-debconf swi-prolog-core swi-prolog-core-packages\n",
            "  swi-prolog-doc swi-prolog-nox swi-prolog-x\n",
            "Suggested packages:\n",
            "  dh-make gettext-doc libasprintf-dev libgettextpo-dev uuid libtool-doc gcj-jdk libmail-box-perl\n",
            "  elpa-ediprolog swi-prolog-java swi-prolog-odbc swi-prolog-bdb\n",
            "The following NEW packages will be installed:\n",
            "  autopoint debhelper debugedit dh-autoreconf dh-strip-nondeterminism dwz gettext gettext-base\n",
            "  intltool-debian libarchive-cpio-perl libarchive-zip-perl libdebhelper-perl\n",
            "  libfile-stripnondeterminism-perl libmail-sendmail-perl libossp-uuid16 libsub-override-perl\n",
            "  libsys-hostname-long-perl libtool po-debconf swi-prolog swi-prolog-core swi-prolog-core-packages\n",
            "  swi-prolog-doc swi-prolog-nox swi-prolog-x\n",
            "0 upgraded, 25 newly installed, 0 to remove and 18 not upgraded.\n",
            "Need to get 9,926 kB of archives.\n",
            "After this operation, 42.3 MB of additional disk space will be used.\n",
            "Get:1 http://archive.ubuntu.com/ubuntu jammy/main amd64 gettext-base amd64 0.21-4ubuntu4 [37.8 kB]\n",
            "Get:2 http://archive.ubuntu.com/ubuntu jammy/main amd64 autopoint all 0.21-4ubuntu4 [422 kB]\n",
            "Get:3 http://archive.ubuntu.com/ubuntu jammy/main amd64 libdebhelper-perl all 13.6ubuntu1 [67.2 kB]\n",
            "Get:4 http://archive.ubuntu.com/ubuntu jammy/main amd64 libtool all 2.4.6-15build2 [164 kB]\n",
            "Get:5 http://archive.ubuntu.com/ubuntu jammy/main amd64 dh-autoreconf all 20 [16.1 kB]\n",
            "Get:6 http://archive.ubuntu.com/ubuntu jammy/main amd64 libarchive-zip-perl all 1.68-1 [90.2 kB]\n",
            "Get:7 http://archive.ubuntu.com/ubuntu jammy/main amd64 libsub-override-perl all 0.09-2 [9,532 B]\n",
            "Get:8 http://archive.ubuntu.com/ubuntu jammy/main amd64 libfile-stripnondeterminism-perl all 1.13.0-1 [18.1 kB]\n",
            "Get:9 http://archive.ubuntu.com/ubuntu jammy/main amd64 dh-strip-nondeterminism all 1.13.0-1 [5,344 B]\n",
            "Get:10 http://archive.ubuntu.com/ubuntu jammy/main amd64 debugedit amd64 1:5.0-4build1 [47.2 kB]\n",
            "Get:11 http://archive.ubuntu.com/ubuntu jammy/main amd64 dwz amd64 0.14-1build2 [105 kB]\n",
            "Get:12 http://archive.ubuntu.com/ubuntu jammy/main amd64 gettext amd64 0.21-4ubuntu4 [868 kB]\n",
            "Get:13 http://archive.ubuntu.com/ubuntu jammy/main amd64 intltool-debian all 0.35.0+20060710.5 [24.9 kB]\n",
            "Get:14 http://archive.ubuntu.com/ubuntu jammy/main amd64 po-debconf all 1.0.21+nmu1 [233 kB]\n",
            "Get:15 http://archive.ubuntu.com/ubuntu jammy/main amd64 debhelper all 13.6ubuntu1 [923 kB]\n",
            "Get:16 http://archive.ubuntu.com/ubuntu jammy/main amd64 libarchive-cpio-perl all 0.10-1.1 [9,928 B]\n",
            "Get:17 http://archive.ubuntu.com/ubuntu jammy/main amd64 libsys-hostname-long-perl all 1.5-2 [11.5 kB]\n",
            "Get:18 http://archive.ubuntu.com/ubuntu jammy/main amd64 libmail-sendmail-perl all 0.80-1.1 [22.7 kB]\n",
            "Get:19 http://archive.ubuntu.com/ubuntu jammy/universe amd64 libossp-uuid16 amd64 1.6.2-1.5build9 [31.4 kB]\n",
            "Get:20 http://archive.ubuntu.com/ubuntu jammy/universe amd64 swi-prolog-core amd64 8.4.2+dfsg-2ubuntu1 [1,493 kB]\n",
            "Get:21 http://archive.ubuntu.com/ubuntu jammy/universe amd64 swi-prolog-doc all 8.4.2+dfsg-2ubuntu1 [1,504 kB]\n",
            "Get:22 http://archive.ubuntu.com/ubuntu jammy/universe amd64 swi-prolog-core-packages amd64 8.4.2+dfsg-2ubuntu1 [1,335 kB]\n",
            "Get:23 http://archive.ubuntu.com/ubuntu jammy/universe amd64 swi-prolog-nox amd64 8.4.2+dfsg-2ubuntu1 [165 kB]\n",
            "Get:24 http://archive.ubuntu.com/ubuntu jammy/universe amd64 swi-prolog-x amd64 8.4.2+dfsg-2ubuntu1 [2,314 kB]\n",
            "Get:25 http://archive.ubuntu.com/ubuntu jammy/universe amd64 swi-prolog amd64 8.4.2+dfsg-2ubuntu1 [9,122 B]\n",
            "Fetched 9,926 kB in 2s (5,737 kB/s)\n",
            "Selecting previously unselected package gettext-base.\n",
            "(Reading database ... 124926 files and directories currently installed.)\n",
            "Preparing to unpack .../00-gettext-base_0.21-4ubuntu4_amd64.deb ...\n",
            "Unpacking gettext-base (0.21-4ubuntu4) ...\n",
            "Selecting previously unselected package autopoint.\n",
            "Preparing to unpack .../01-autopoint_0.21-4ubuntu4_all.deb ...\n",
            "Unpacking autopoint (0.21-4ubuntu4) ...\n",
            "Selecting previously unselected package libdebhelper-perl.\n",
            "Preparing to unpack .../02-libdebhelper-perl_13.6ubuntu1_all.deb ...\n",
            "Unpacking libdebhelper-perl (13.6ubuntu1) ...\n",
            "Selecting previously unselected package libtool.\n",
            "Preparing to unpack .../03-libtool_2.4.6-15build2_all.deb ...\n",
            "Unpacking libtool (2.4.6-15build2) ...\n",
            "Selecting previously unselected package dh-autoreconf.\n",
            "Preparing to unpack .../04-dh-autoreconf_20_all.deb ...\n",
            "Unpacking dh-autoreconf (20) ...\n",
            "Selecting previously unselected package libarchive-zip-perl.\n",
            "Preparing to unpack .../05-libarchive-zip-perl_1.68-1_all.deb ...\n",
            "Unpacking libarchive-zip-perl (1.68-1) ...\n",
            "Selecting previously unselected package libsub-override-perl.\n",
            "Preparing to unpack .../06-libsub-override-perl_0.09-2_all.deb ...\n",
            "Unpacking libsub-override-perl (0.09-2) ...\n",
            "Selecting previously unselected package libfile-stripnondeterminism-perl.\n",
            "Preparing to unpack .../07-libfile-stripnondeterminism-perl_1.13.0-1_all.deb ...\n",
            "Unpacking libfile-stripnondeterminism-perl (1.13.0-1) ...\n",
            "Selecting previously unselected package dh-strip-nondeterminism.\n",
            "Preparing to unpack .../08-dh-strip-nondeterminism_1.13.0-1_all.deb ...\n",
            "Unpacking dh-strip-nondeterminism (1.13.0-1) ...\n",
            "Selecting previously unselected package debugedit.\n",
            "Preparing to unpack .../09-debugedit_1%3a5.0-4build1_amd64.deb ...\n",
            "Unpacking debugedit (1:5.0-4build1) ...\n",
            "Selecting previously unselected package dwz.\n",
            "Preparing to unpack .../10-dwz_0.14-1build2_amd64.deb ...\n",
            "Unpacking dwz (0.14-1build2) ...\n",
            "Selecting previously unselected package gettext.\n",
            "Preparing to unpack .../11-gettext_0.21-4ubuntu4_amd64.deb ...\n",
            "Unpacking gettext (0.21-4ubuntu4) ...\n",
            "Selecting previously unselected package intltool-debian.\n",
            "Preparing to unpack .../12-intltool-debian_0.35.0+20060710.5_all.deb ...\n",
            "Unpacking intltool-debian (0.35.0+20060710.5) ...\n",
            "Selecting previously unselected package po-debconf.\n",
            "Preparing to unpack .../13-po-debconf_1.0.21+nmu1_all.deb ...\n",
            "Unpacking po-debconf (1.0.21+nmu1) ...\n",
            "Selecting previously unselected package debhelper.\n",
            "Preparing to unpack .../14-debhelper_13.6ubuntu1_all.deb ...\n",
            "Unpacking debhelper (13.6ubuntu1) ...\n",
            "Selecting previously unselected package libarchive-cpio-perl.\n",
            "Preparing to unpack .../15-libarchive-cpio-perl_0.10-1.1_all.deb ...\n",
            "Unpacking libarchive-cpio-perl (0.10-1.1) ...\n",
            "Selecting previously unselected package libsys-hostname-long-perl.\n",
            "Preparing to unpack .../16-libsys-hostname-long-perl_1.5-2_all.deb ...\n",
            "Unpacking libsys-hostname-long-perl (1.5-2) ...\n",
            "Selecting previously unselected package libmail-sendmail-perl.\n",
            "Preparing to unpack .../17-libmail-sendmail-perl_0.80-1.1_all.deb ...\n",
            "Unpacking libmail-sendmail-perl (0.80-1.1) ...\n",
            "Selecting previously unselected package libossp-uuid16:amd64.\n",
            "Preparing to unpack .../18-libossp-uuid16_1.6.2-1.5build9_amd64.deb ...\n",
            "Unpacking libossp-uuid16:amd64 (1.6.2-1.5build9) ...\n",
            "Selecting previously unselected package swi-prolog-core.\n",
            "Preparing to unpack .../19-swi-prolog-core_8.4.2+dfsg-2ubuntu1_amd64.deb ...\n",
            "Unpacking swi-prolog-core (8.4.2+dfsg-2ubuntu1) ...\n",
            "Selecting previously unselected package swi-prolog-doc.\n",
            "Preparing to unpack .../20-swi-prolog-doc_8.4.2+dfsg-2ubuntu1_all.deb ...\n",
            "Unpacking swi-prolog-doc (8.4.2+dfsg-2ubuntu1) ...\n",
            "Selecting previously unselected package swi-prolog-core-packages.\n",
            "Preparing to unpack .../21-swi-prolog-core-packages_8.4.2+dfsg-2ubuntu1_amd64.deb ...\n",
            "Unpacking swi-prolog-core-packages (8.4.2+dfsg-2ubuntu1) ...\n",
            "Selecting previously unselected package swi-prolog-nox.\n",
            "Preparing to unpack .../22-swi-prolog-nox_8.4.2+dfsg-2ubuntu1_amd64.deb ...\n",
            "Unpacking swi-prolog-nox (8.4.2+dfsg-2ubuntu1) ...\n",
            "Selecting previously unselected package swi-prolog-x.\n",
            "Preparing to unpack .../23-swi-prolog-x_8.4.2+dfsg-2ubuntu1_amd64.deb ...\n",
            "Unpacking swi-prolog-x (8.4.2+dfsg-2ubuntu1) ...\n",
            "Selecting previously unselected package swi-prolog.\n",
            "Preparing to unpack .../24-swi-prolog_8.4.2+dfsg-2ubuntu1_amd64.deb ...\n",
            "Unpacking swi-prolog (8.4.2+dfsg-2ubuntu1) ...\n",
            "Setting up libtool (2.4.6-15build2) ...\n",
            "Setting up libarchive-zip-perl (1.68-1) ...\n",
            "Setting up libdebhelper-perl (13.6ubuntu1) ...\n",
            "Setting up gettext-base (0.21-4ubuntu4) ...\n",
            "Setting up libossp-uuid16:amd64 (1.6.2-1.5build9) ...\n",
            "Setting up swi-prolog-core (8.4.2+dfsg-2ubuntu1) ...\n",
            "update-alternatives: using /usr/bin/swipl to provide /usr/bin/prolog (prolog) in auto mode\n",
            "Setting up autopoint (0.21-4ubuntu4) ...\n",
            "Setting up dwz (0.14-1build2) ...\n",
            "Setting up swi-prolog-core-packages (8.4.2+dfsg-2ubuntu1) ...\n",
            "Setting up libarchive-cpio-perl (0.10-1.1) ...\n",
            "Setting up debugedit (1:5.0-4build1) ...\n",
            "Setting up swi-prolog-nox (8.4.2+dfsg-2ubuntu1) ...\n",
            "Setting up libsub-override-perl (0.09-2) ...\n",
            "Setting up libsys-hostname-long-perl (1.5-2) ...\n",
            "Setting up libfile-stripnondeterminism-perl (1.13.0-1) ...\n",
            "Setting up swi-prolog-x (8.4.2+dfsg-2ubuntu1) ...\n",
            "Setting up gettext (0.21-4ubuntu4) ...\n",
            "Setting up swi-prolog-doc (8.4.2+dfsg-2ubuntu1) ...\n",
            "Setting up intltool-debian (0.35.0+20060710.5) ...\n",
            "Setting up dh-autoreconf (20) ...\n",
            "Setting up libmail-sendmail-perl (0.80-1.1) ...\n",
            "Setting up dh-strip-nondeterminism (1.13.0-1) ...\n",
            "Setting up swi-prolog (8.4.2+dfsg-2ubuntu1) ...\n",
            "Setting up po-debconf (1.0.21+nmu1) ...\n",
            "Setting up debhelper (13.6ubuntu1) ...\n",
            "Processing triggers for libc-bin (2.35-0ubuntu3.8) ...\n",
            "/sbin/ldconfig.real: /usr/local/lib/libumf.so.0 is not a symbolic link\n",
            "\n",
            "/sbin/ldconfig.real: /usr/local/lib/libtcm.so.1 is not a symbolic link\n",
            "\n",
            "/sbin/ldconfig.real: /usr/local/lib/libhwloc.so.15 is not a symbolic link\n",
            "\n",
            "/sbin/ldconfig.real: /usr/local/lib/libur_adapter_level_zero.so.0 is not a symbolic link\n",
            "\n",
            "/sbin/ldconfig.real: /usr/local/lib/libtbbbind_2_0.so.3 is not a symbolic link\n",
            "\n",
            "/sbin/ldconfig.real: /usr/local/lib/libur_adapter_opencl.so.0 is not a symbolic link\n",
            "\n",
            "/sbin/ldconfig.real: /usr/local/lib/libtbbmalloc_proxy.so.2 is not a symbolic link\n",
            "\n",
            "/sbin/ldconfig.real: /usr/local/lib/libtbbmalloc.so.2 is not a symbolic link\n",
            "\n",
            "/sbin/ldconfig.real: /usr/local/lib/libtcm_debug.so.1 is not a symbolic link\n",
            "\n",
            "/sbin/ldconfig.real: /usr/local/lib/libtbbbind_2_5.so.3 is not a symbolic link\n",
            "\n",
            "/sbin/ldconfig.real: /usr/local/lib/libur_loader.so.0 is not a symbolic link\n",
            "\n",
            "/sbin/ldconfig.real: /usr/local/lib/libtbbbind.so.3 is not a symbolic link\n",
            "\n",
            "/sbin/ldconfig.real: /usr/local/lib/libtbb.so.12 is not a symbolic link\n",
            "\n",
            "Processing triggers for man-db (2.10.2-1) ...\n",
            "Collecting pyswip\n",
            "  Downloading pyswip-0.3.2-py3-none-any.whl.metadata (5.0 kB)\n",
            "Downloading pyswip-0.3.2-py3-none-any.whl (35 kB)\n",
            "Installing collected packages: pyswip\n",
            "Successfully installed pyswip-0.3.2\n",
            "[]\n"
          ]
        }
      ],
      "source": [
        "!apt-get install -y swi-prolog\n",
        "!pip install pyswip\n",
        "from pyswip import Prolog\n",
        "prolog = Prolog()\n",
        "prolog.assertz(\"parent(john, alice)\")\n",
        "prolog.assertz(\"grandparent(X, Y) :- parent(X, Z), parent(Z, Y)\")\n",
        "result = list(prolog.query(\"grandparent(X, bob)\"))\n",
        "print(result)"
      ]
    },
    {
      "cell_type": "code",
      "source": [
        "!pip install problog\n",
        "from problog.program import PrologString\n",
        "from problog import get_evaluatable\n",
        "\n",
        "problog_code = \"\"\"\n",
        "% Facts with probabilities\n",
        "0.9::parent(john, alice).\n",
        "0.8::parent(john, bob).\n",
        "grandparent(X, Y) :- parent(X, Z), parent(Z, Y).\n",
        "query(grandparent(X, bob)).\n",
        "\"\"\""
      ],
      "metadata": {
        "colab": {
          "base_uri": "https://localhost:8080/"
        },
        "id": "cLPrL6k_hyYg",
        "outputId": "f00c0275-b3fc-46d7-92f7-0a1fa27b4159"
      },
      "execution_count": 10,
      "outputs": [
        {
          "output_type": "stream",
          "name": "stdout",
          "text": [
            "Requirement already satisfied: problog in /usr/local/lib/python3.11/dist-packages (2.2.6)\n",
            "Requirement already satisfied: setuptools in /usr/local/lib/python3.11/dist-packages (from problog) (75.1.0)\n"
          ]
        }
      ]
    },
    {
      "cell_type": "markdown",
      "source": [
        "**1. Define logical rules (Prolog)**\n"
      ],
      "metadata": {
        "id": "j0T6u-qtYhrX"
      }
    },
    {
      "cell_type": "code",
      "source": [
        "prolog.assertz(\"genre(sci-fi)\")\n",
        "\n",
        "prolog.assertz(\"movie(cyberpunk, sci-fi)\")\n",
        "\n",
        "prolog.assertz(\"like_genre(alice, sci_fi)\")\n",
        "\n",
        "prolog.assertz(\"like(alice, M) :- genre(G), movie(M, G), like_genre(alice, G)\")\n",
        "\n",
        "prolog.assertz(\"recommend(alice, M) :- like(alice, M)\")\n",
        "\n",
        "result = list(prolog.query(\"recommend(alice, M)\"))\n",
        "print(result)"
      ],
      "metadata": {
        "colab": {
          "base_uri": "https://localhost:8080/"
        },
        "id": "q0vvQO36cA0Q",
        "outputId": "8945ac6c-dcc9-4639-a53a-b7a5baba13dd"
      },
      "execution_count": 8,
      "outputs": [
        {
          "output_type": "stream",
          "name": "stdout",
          "text": [
            "[{'M': 'cyberpunk'}, {'M': 'cyberpunk'}, {'M': 'cyberpunk'}, {'M': 'cyberpunk'}, {'M': 'cyberpunk'}, {'M': 'cyberpunk'}, {'M': 'cyberpunk'}, {'M': 'cyberpunk'}, {'M': 'cyberpunk'}, {'M': 'cyberpunk'}, {'M': 'cyberpunk'}, {'M': 'cyberpunk'}, {'M': 'cyberpunk'}, {'M': 'cyberpunk'}, {'M': 'cyberpunk'}, {'M': 'cyberpunk'}, {'M': 'cyberpunk'}, {'M': 'cyberpunk'}, {'M': 'cyberpunk'}, {'M': 'cyberpunk'}, {'M': 'cyberpunk'}, {'M': 'cyberpunk'}, {'M': 'cyberpunk'}, {'M': 'cyberpunk'}, {'M': 'cyberpunk'}, {'M': 'cyberpunk'}, {'M': 'cyberpunk'}, {'M': 'cyberpunk'}, {'M': 'cyberpunk'}, {'M': 'cyberpunk'}, {'M': 'cyberpunk'}, {'M': 'cyberpunk'}, {'M': 'cyberpunk'}, {'M': 'cyberpunk'}, {'M': 'cyberpunk'}, {'M': 'cyberpunk'}, {'M': 'cyberpunk'}, {'M': 'cyberpunk'}, {'M': 'cyberpunk'}, {'M': 'cyberpunk'}, {'M': 'cyberpunk'}, {'M': 'cyberpunk'}, {'M': 'cyberpunk'}, {'M': 'cyberpunk'}, {'M': 'cyberpunk'}, {'M': 'cyberpunk'}, {'M': 'cyberpunk'}, {'M': 'cyberpunk'}, {'M': 'cyberpunk'}, {'M': 'cyberpunk'}, {'M': 'cyberpunk'}, {'M': 'cyberpunk'}, {'M': 'cyberpunk'}, {'M': 'cyberpunk'}, {'M': 'cyberpunk'}, {'M': 'cyberpunk'}, {'M': 'cyberpunk'}, {'M': 'cyberpunk'}, {'M': 'cyberpunk'}, {'M': 'cyberpunk'}, {'M': 'cyberpunk'}, {'M': 'cyberpunk'}, {'M': 'cyberpunk'}, {'M': 'cyberpunk'}, {'M': 'cyberpunk'}, {'M': 'cyberpunk'}, {'M': 'cyberpunk'}, {'M': 'cyberpunk'}, {'M': 'cyberpunk'}, {'M': 'cyberpunk'}, {'M': 'cyberpunk'}, {'M': 'cyberpunk'}, {'M': 'cyberpunk'}, {'M': 'cyberpunk'}, {'M': 'cyberpunk'}, {'M': 'cyberpunk'}, {'M': 'cyberpunk'}, {'M': 'cyberpunk'}, {'M': 'cyberpunk'}, {'M': 'cyberpunk'}, {'M': 'cyberpunk'}, {'M': 'cyberpunk'}, {'M': 'cyberpunk'}, {'M': 'cyberpunk'}, {'M': 'cyberpunk'}, {'M': 'cyberpunk'}, {'M': 'cyberpunk'}, {'M': 'cyberpunk'}, {'M': 'cyberpunk'}, {'M': 'cyberpunk'}, {'M': 'cyberpunk'}, {'M': 'cyberpunk'}, {'M': 'cyberpunk'}, {'M': 'cyberpunk'}, {'M': 'cyberpunk'}, {'M': 'cyberpunk'}, {'M': 'cyberpunk'}, {'M': 'cyberpunk'}, {'M': 'cyberpunk'}, {'M': 'cyberpunk'}, {'M': 'cyberpunk'}, {'M': 'cyberpunk'}, {'M': 'cyberpunk'}, {'M': 'cyberpunk'}, {'M': 'cyberpunk'}, {'M': 'cyberpunk'}, {'M': 'cyberpunk'}, {'M': 'cyberpunk'}, {'M': 'cyberpunk'}, {'M': 'cyberpunk'}, {'M': 'cyberpunk'}, {'M': 'cyberpunk'}, {'M': 'cyberpunk'}, {'M': 'cyberpunk'}, {'M': 'cyberpunk'}, {'M': 'cyberpunk'}, {'M': 'cyberpunk'}, {'M': 'cyberpunk'}, {'M': 'cyberpunk'}, {'M': 'cyberpunk'}, {'M': 'cyberpunk'}, {'M': 'cyberpunk'}, {'M': 'cyberpunk'}, {'M': 'cyberpunk'}, {'M': 'cyberpunk'}, {'M': 'cyberpunk'}, {'M': 'cyberpunk'}, {'M': 'cyberpunk'}, {'M': 'cyberpunk'}, {'M': 'cyberpunk'}, {'M': 'cyberpunk'}, {'M': 'cyberpunk'}, {'M': 'cyberpunk'}, {'M': 'cyberpunk'}, {'M': 'cyberpunk'}, {'M': 'cyberpunk'}, {'M': 'cyberpunk'}, {'M': 'cyberpunk'}, {'M': 'cyberpunk'}, {'M': 'cyberpunk'}, {'M': 'cyberpunk'}, {'M': 'cyberpunk'}, {'M': 'cyberpunk'}, {'M': 'cyberpunk'}, {'M': 'cyberpunk'}, {'M': 'cyberpunk'}, {'M': 'cyberpunk'}, {'M': 'cyberpunk'}, {'M': 'cyberpunk'}, {'M': 'cyberpunk'}, {'M': 'cyberpunk'}, {'M': 'cyberpunk'}, {'M': 'cyberpunk'}, {'M': 'cyberpunk'}, {'M': 'cyberpunk'}, {'M': 'cyberpunk'}, {'M': 'cyberpunk'}, {'M': 'cyberpunk'}, {'M': 'cyberpunk'}, {'M': 'cyberpunk'}, {'M': 'cyberpunk'}, {'M': 'cyberpunk'}, {'M': 'cyberpunk'}, {'M': 'cyberpunk'}, {'M': 'cyberpunk'}, {'M': 'cyberpunk'}, {'M': 'cyberpunk'}, {'M': 'cyberpunk'}, {'M': 'cyberpunk'}, {'M': 'cyberpunk'}, {'M': 'cyberpunk'}, {'M': 'cyberpunk'}, {'M': 'cyberpunk'}, {'M': 'cyberpunk'}, {'M': 'cyberpunk'}, {'M': 'cyberpunk'}, {'M': 'cyberpunk'}, {'M': 'cyberpunk'}, {'M': 'cyberpunk'}, {'M': 'cyberpunk'}, {'M': 'cyberpunk'}, {'M': 'cyberpunk'}, {'M': 'cyberpunk'}, {'M': 'cyberpunk'}, {'M': 'cyberpunk'}, {'M': 'cyberpunk'}, {'M': 'cyberpunk'}, {'M': 'cyberpunk'}, {'M': 'cyberpunk'}, {'M': 'cyberpunk'}, {'M': 'cyberpunk'}, {'M': 'cyberpunk'}, {'M': 'cyberpunk'}, {'M': 'cyberpunk'}, {'M': 'cyberpunk'}, {'M': 'cyberpunk'}, {'M': 'cyberpunk'}, {'M': 'cyberpunk'}, {'M': 'cyberpunk'}, {'M': 'cyberpunk'}, {'M': 'cyberpunk'}, {'M': 'cyberpunk'}, {'M': 'cyberpunk'}, {'M': 'cyberpunk'}, {'M': 'cyberpunk'}, {'M': 'cyberpunk'}, {'M': 'cyberpunk'}, {'M': 'cyberpunk'}, {'M': 'cyberpunk'}, {'M': 'cyberpunk'}, {'M': 'cyberpunk'}, {'M': 'cyberpunk'}, {'M': 'cyberpunk'}, {'M': 'cyberpunk'}, {'M': 'cyberpunk'}, {'M': 'cyberpunk'}, {'M': 'cyberpunk'}, {'M': 'cyberpunk'}, {'M': 'cyberpunk'}, {'M': 'cyberpunk'}, {'M': 'cyberpunk'}, {'M': 'cyberpunk'}, {'M': 'cyberpunk'}, {'M': 'cyberpunk'}, {'M': 'cyberpunk'}, {'M': 'cyberpunk'}, {'M': 'cyberpunk'}, {'M': 'cyberpunk'}, {'M': 'cyberpunk'}, {'M': 'cyberpunk'}, {'M': 'cyberpunk'}, {'M': 'cyberpunk'}, {'M': 'cyberpunk'}, {'M': 'cyberpunk'}, {'M': 'cyberpunk'}, {'M': 'cyberpunk'}, {'M': 'cyberpunk'}, {'M': 'cyberpunk'}, {'M': 'cyberpunk'}, {'M': 'cyberpunk'}, {'M': 'cyberpunk'}, {'M': 'cyberpunk'}, {'M': 'cyberpunk'}, {'M': 'cyberpunk'}, {'M': 'cyberpunk'}, {'M': 'cyberpunk'}, {'M': 'cyberpunk'}, {'M': 'cyberpunk'}, {'M': 'cyberpunk'}, {'M': 'cyberpunk'}, {'M': 'cyberpunk'}, {'M': 'cyberpunk'}, {'M': 'cyberpunk'}, {'M': 'cyberpunk'}, {'M': 'cyberpunk'}, {'M': 'cyberpunk'}, {'M': 'cyberpunk'}, {'M': 'cyberpunk'}, {'M': 'cyberpunk'}, {'M': 'cyberpunk'}, {'M': 'cyberpunk'}, {'M': 'cyberpunk'}, {'M': 'cyberpunk'}, {'M': 'cyberpunk'}, {'M': 'cyberpunk'}, {'M': 'cyberpunk'}, {'M': 'cyberpunk'}, {'M': 'cyberpunk'}, {'M': 'cyberpunk'}, {'M': 'cyberpunk'}, {'M': 'cyberpunk'}, {'M': 'cyberpunk'}, {'M': 'cyberpunk'}, {'M': 'cyberpunk'}, {'M': 'cyberpunk'}, {'M': 'cyberpunk'}, {'M': 'cyberpunk'}, {'M': 'cyberpunk'}, {'M': 'cyberpunk'}, {'M': 'cyberpunk'}, {'M': 'cyberpunk'}, {'M': 'cyberpunk'}, {'M': 'cyberpunk'}, {'M': 'cyberpunk'}, {'M': 'cyberpunk'}, {'M': 'cyberpunk'}, {'M': 'cyberpunk'}, {'M': 'cyberpunk'}]\n"
          ]
        }
      ]
    },
    {
      "cell_type": "markdown",
      "source": [
        "**2. Introduce Probabilistic Reasoning (Probabilistic Prolog)**"
      ],
      "metadata": {
        "id": "U0y554kYg7SD"
      }
    },
    {
      "cell_type": "code",
      "source": [
        "!pip install problog"
      ],
      "metadata": {
        "colab": {
          "base_uri": "https://localhost:8080/"
        },
        "id": "tgqxOz8Ekcrp",
        "outputId": "498cd9a4-0dea-480d-a590-b48c09110adf"
      },
      "execution_count": 17,
      "outputs": [
        {
          "output_type": "stream",
          "name": "stdout",
          "text": [
            "Requirement already satisfied: problog in /usr/local/lib/python3.11/dist-packages (2.2.6)\n",
            "Requirement already satisfied: setuptools in /usr/local/lib/python3.11/dist-packages (from problog) (75.1.0)\n"
          ]
        }
      ]
    },
    {
      "cell_type": "code",
      "source": [
        "from problog.program import PrologString\n",
        "from problog import get_evaluatable\n",
        "\n",
        "problog_code = \"\"\"\n",
        "% Facts with probabilities\n",
        "0.8::like(alice, sci_fi).\n",
        "movie(cyberpunk, sci_fi).\n",
        "like(alice, M) :- like(alice, G), movie(M, G).\n",
        "query(like(alice, cyberpunk)).\n",
        "\"\"\"\n",
        "\n",
        "problog_model = PrologString(problog_code)\n",
        "result = get_evaluatable().create_from(problog_code).evaluate()\n",
        "print(result)"
      ],
      "metadata": {
        "colab": {
          "base_uri": "https://localhost:8080/"
        },
        "id": "1mqmpUxla9YW",
        "outputId": "48deed30-9161-4508-e07a-86dfcc864b87"
      },
      "execution_count": 16,
      "outputs": [
        {
          "output_type": "stream",
          "name": "stdout",
          "text": [
            "{like(alice,cyberpunk): 0.8}\n"
          ]
        }
      ]
    },
    {
      "cell_type": "markdown",
      "source": [
        "**4. Implement Commonsense Reasoning**"
      ],
      "metadata": {
        "id": "2w28pvJAl5Li"
      }
    },
    {
      "cell_type": "code",
      "source": [
        "prolog.assertz(\"like(alice, sci_fi)\")\n",
        "prolog.assertz(\"like(alice, action)\")\n",
        "prolog.assertz(\"movie(cyberpunk, sci_fi)\")\n",
        "prolog.assertz(\"movie(cyberpunk, action)\")\n",
        "# Alice likes a movie if she likes ALL of its genres\n",
        "prolog.assertz(\"like(alice, M) :- movie(M, G1), movie(M, G2), like(alice, G1), like(alice, G2)\")\n",
        "result = list(prolog.query(\"like(alice, M)\"))\n",
        "print(result)"
      ],
      "metadata": {
        "colab": {
          "base_uri": "https://localhost:8080/"
        },
        "id": "UcTuk9wumDQR",
        "outputId": "08554791-1af9-40a9-91c9-c5701d2fd281"
      },
      "execution_count": 18,
      "outputs": [
        {
          "output_type": "stream",
          "name": "stdout",
          "text": [
            "[{'M': 'cyberpunk'}, {'M': 'cyberpunk'}, {'M': 'cyberpunk'}, {'M': 'cyberpunk'}, {'M': 'cyberpunk'}, {'M': 'cyberpunk'}, {'M': 'cyberpunk'}, {'M': 'cyberpunk'}, {'M': 'cyberpunk'}, {'M': 'cyberpunk'}, {'M': 'cyberpunk'}, {'M': 'cyberpunk'}, {'M': 'cyberpunk'}, {'M': 'cyberpunk'}, {'M': 'cyberpunk'}, {'M': 'cyberpunk'}, {'M': 'cyberpunk'}, {'M': 'cyberpunk'}, {'M': 'cyberpunk'}, {'M': 'cyberpunk'}, {'M': 'cyberpunk'}, {'M': 'cyberpunk'}, {'M': 'cyberpunk'}, {'M': 'cyberpunk'}, {'M': 'cyberpunk'}, {'M': 'cyberpunk'}, {'M': 'cyberpunk'}, {'M': 'cyberpunk'}, {'M': 'cyberpunk'}, {'M': 'cyberpunk'}, {'M': 'cyberpunk'}, {'M': 'cyberpunk'}, {'M': 'cyberpunk'}, {'M': 'cyberpunk'}, {'M': 'cyberpunk'}, {'M': 'cyberpunk'}, {'M': 'cyberpunk'}, {'M': 'cyberpunk'}, {'M': 'cyberpunk'}, {'M': 'cyberpunk'}, {'M': 'cyberpunk'}, {'M': 'cyberpunk'}, {'M': 'cyberpunk'}, {'M': 'cyberpunk'}, {'M': 'cyberpunk'}, {'M': 'cyberpunk'}, {'M': 'cyberpunk'}, {'M': 'cyberpunk'}, {'M': 'cyberpunk'}, {'M': 'cyberpunk'}, {'M': 'cyberpunk'}, {'M': 'cyberpunk'}, {'M': 'cyberpunk'}, {'M': 'cyberpunk'}, {'M': 'cyberpunk'}, {'M': 'cyberpunk'}, {'M': 'cyberpunk'}, {'M': 'cyberpunk'}, {'M': 'cyberpunk'}, {'M': 'cyberpunk'}, {'M': 'cyberpunk'}, {'M': 'cyberpunk'}, {'M': 'cyberpunk'}, {'M': 'cyberpunk'}, {'M': 'cyberpunk'}, {'M': 'cyberpunk'}, {'M': 'cyberpunk'}, {'M': 'cyberpunk'}, {'M': 'cyberpunk'}, {'M': 'cyberpunk'}, {'M': 'cyberpunk'}, {'M': 'cyberpunk'}, {'M': 'sci_fi'}, {'M': 'action'}, {'M': 'cyberpunk'}, {'M': 'cyberpunk'}, {'M': 'cyberpunk'}, {'M': 'cyberpunk'}]\n"
          ]
        }
      ]
    },
    {
      "cell_type": "markdown",
      "source": [
        "**5. Implement Similarity-Based Reasoning Using Vector Embeddings**"
      ],
      "metadata": {
        "id": "Sj_ITiibrvp5"
      }
    },
    {
      "cell_type": "code",
      "source": [
        "import numpy as np\n",
        "\n",
        "movie_embeddings = {\n",
        "    \"inception\": np.array([0.9, 0.8, 0.1]),\n",
        "    \"interstellar\": np.array([0.85, 0.75, 0.15]),\n",
        "}\n",
        "\n",
        "def find_similar_movies(target_movie, movie_embeddings):\n",
        "    if target_movie in movie_embeddings:\n",
        "        target_embedding = movie_embeddings[target_movie]\n",
        "    else:\n",
        "        target_embedding = np.zeros(len(next(iter(movie_embeddings.values()))))\n",
        "\n",
        "    best_match = None\n",
        "    best_similarity = -1\n",
        "\n",
        "    for movie, embedding in movie_embeddings.items():\n",
        "        if movie == target_movie:\n",
        "            continue  # skip the original movie itself\n",
        "\n",
        "        # compute cosine similarity\n",
        "        norm_target = np.linalg.norm(target_embedding)\n",
        "        norm_embedding = np.linalg.norm(embedding)\n",
        "\n",
        "        # handle zero division\n",
        "        try:\n",
        "            similarity = np.dot(target_embedding, embedding) / (np.linalg.norm(target_embedding) * np.linalg.norm(embedding))\n",
        "        except ZeroDivisionError:\n",
        "            similarity = 0\n",
        "\n",
        "        if similarity > best_similarity:\n",
        "            best_match = movie\n",
        "            best_similarity = similarity\n",
        "\n",
        "    return best_match if best_match else []\n",
        "\n",
        "\n",
        "alternative_movie = find_similar_movies(\"inception\", movie_embeddings)\n",
        "print(\"Alternative recommendation:\", alternative_movie)"
      ],
      "metadata": {
        "colab": {
          "base_uri": "https://localhost:8080/"
        },
        "id": "w0znSoNJ06oM",
        "outputId": "9ceeb993-55e9-4069-8bc1-4decfa726ba0"
      },
      "execution_count": 68,
      "outputs": [
        {
          "output_type": "stream",
          "name": "stdout",
          "text": [
            "Alternative recommendation: interstellar\n"
          ]
        }
      ]
    },
    {
      "cell_type": "code",
      "source": [
        "prolog.assertz(\"movie(inception, sci_fi)\")\n",
        "prolog.assertz(\"movie(interstellar, sci_fi)\")\n",
        "\n",
        "# Define similarity facts using Python's embedding function\n",
        "similar_movie_pairs = [(movie, find_similar_movies(movie, movie_embeddings)) for movie in movie_embeddings]\n",
        "\n",
        "# Assert similar movies directly in Prolog\n",
        "for movie, similar in similar_movie_pairs:\n",
        "    if similar:  # Ensure the similar movie exists\n",
        "        prolog.assertz(f\"similar_movie('{movie}', '{similar}')\")\n",
        "\n",
        "# Prolog rule: If a movie is similar to another, recommend it. Exclude the original movie from recommendation\n",
        "prolog.assertz(\"recommend(Recommended) :- similar_movie(M, Recommended), movie(Recommended, _), M \\\\= Recommended\")"
      ],
      "metadata": {
        "id": "tFE_YuWE3qBN"
      },
      "execution_count": 69,
      "outputs": []
    },
    {
      "cell_type": "code",
      "source": [
        "def recommend_similar_movie(target_movie):\n",
        "    \"\"\"Finds a movie recommendation based on Prolog similarity-based reasoning.\"\"\"\n",
        "\n",
        "    # Query Prolog for recommendations (ensuring unique results)\n",
        "    result = {r[\"Recommended\"] for r in prolog.query(f\"recommend(Recommended)\")}\n",
        "\n",
        "    # Remove the input movie from recommendations (extra safety check)\n",
        "    result.discard(target_movie)\n",
        "\n",
        "    return list(result) if result else [\"No suitable recommendations\"]\n",
        "\n",
        "# Example usage\n",
        "recommendation = recommend_similar_movie(\"interstellar\")\n",
        "print(\"Final recommendation:\", recommendation)"
      ],
      "metadata": {
        "colab": {
          "base_uri": "https://localhost:8080/"
        },
        "id": "kDDRJo8K7yXm",
        "outputId": "4d053e39-9541-41a9-f482-af5b98364488"
      },
      "execution_count": 71,
      "outputs": [
        {
          "output_type": "stream",
          "name": "stdout",
          "text": [
            "Final recommendation: ['inception']\n"
          ]
        }
      ]
    },
    {
      "cell_type": "markdown",
      "source": [
        "Step 6:\n",
        "\n",
        "*   Integrate real-world datasets (IMDB, MovieLens)\n",
        "*   Enhance user personalization (e.g., feedback loops)\n",
        "*   Reason with Embeddings\n",
        "\n"
      ],
      "metadata": {
        "id": "ZrxPKqcNALXU"
      }
    },
    {
      "cell_type": "code",
      "source": [
        "#we have associated movie and characteristics\n",
        "# imdb movie reviews\n",
        "# build embeddings with torch Embeddings"
      ],
      "metadata": {
        "id": "bYNFNyuBAjuR"
      },
      "execution_count": null,
      "outputs": []
    }
  ]
}