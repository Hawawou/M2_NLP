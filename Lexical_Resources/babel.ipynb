{
 "cells": [
  {
   "cell_type": "code",
   "execution_count": 1,
   "metadata": {},
   "outputs": [
    {
     "name": "stdout",
     "output_type": "stream",
     "text": [
      "[Lemma('friday.n.01.Friday'), Lemma('friday.n.01.Fri')] the sixth day of the week; the fifth working day []\n"
     ]
    }
   ],
   "source": [
    "from nltk.corpus import wordnet as wn\n",
    "for synset in wn.synsets('Friday'):\n",
    "    print(synset.lemmas(), synset.definition(), synset.examples())"
   ]
  },
  {
   "cell_type": "code",
   "execution_count": 2,
   "metadata": {},
   "outputs": [
    {
     "name": "stdout",
     "output_type": "stream",
     "text": [
      "[Lemma('say.n.01.say')] the chance to speak ['let him have his say']\n",
      "[Lemma('state.v.01.state'), Lemma('state.v.01.say'), Lemma('state.v.01.tell')] express in words ['He said that he wanted to marry her', 'tell me what is bothering you', 'state your opinion', 'state your name']\n",
      "[Lemma('allege.v.01.allege'), Lemma('allege.v.01.aver'), Lemma('allege.v.01.say')] report or maintain ['He alleged that he was the victim of a crime', 'He said it was too late to intervene in the war', 'The registrar says that I owe the school money']\n",
      "[Lemma('suppose.v.01.suppose'), Lemma('suppose.v.01.say')] express a supposition ['Let us say that he did not tell the truth', \"Let's say you had a lot of money--what would you do?\"]\n",
      "[Lemma('read.v.02.read'), Lemma('read.v.02.say')] have or contain a certain wording or form ['The passage reads as follows', 'What does the law say?']\n",
      "[Lemma('order.v.01.order'), Lemma('order.v.01.tell'), Lemma('order.v.01.enjoin'), Lemma('order.v.01.say')] give instructions to or direct somebody to do something with authority ['I said to him to go home', 'She ordered him to do the shopping', 'The mother told the child to get dressed']\n",
      "[Lemma('pronounce.v.01.pronounce'), Lemma('pronounce.v.01.articulate'), Lemma('pronounce.v.01.enounce'), Lemma('pronounce.v.01.sound_out'), Lemma('pronounce.v.01.enunciate'), Lemma('pronounce.v.01.say')] speak, pronounce, or utter in a certain way ['She pronounces French words in a funny way', \"I cannot say `zip wire'\", 'Can the child sound out this complicated word?']\n",
      "[Lemma('say.v.07.say')] communicate or express nonverbally ['What does this painting say?', 'Did his face say anything about how he felt?']\n",
      "[Lemma('say.v.08.say')] utter aloud [\"She said `Hello' to everyone in the office\"]\n",
      "[Lemma('say.v.09.say')] state as one's opinion or judgement; declare [\"I say let's forget this whole business\"]\n",
      "[Lemma('say.v.10.say')] recite or repeat a fixed text ['Say grace', \"She said her `Hail Mary'\"]\n",
      "[Lemma('say.v.11.say')] indicate ['The clock says noon']\n"
     ]
    }
   ],
   "source": [
    "for synset in wn.synsets('say'):\n",
    "    print(synset.lemmas(), synset.definition(), synset.examples())"
   ]
  },
  {
   "cell_type": "code",
   "execution_count": 3,
   "metadata": {},
   "outputs": [
    {
     "name": "stdout",
     "output_type": "stream",
     "text": [
      "[Lemma('return.n.06.return'), Lemma('return.n.06.issue'), Lemma('return.n.06.take'), Lemma('return.n.06.takings'), Lemma('return.n.06.proceeds'), Lemma('return.n.06.yield'), Lemma('return.n.06.payoff')] the income or profit arising from such transactions as the sale of land or other property ['the average return was about 5%']\n",
      "[Lemma('take.n.02.take')] the act of photographing a scene or part of a scene without interruption []\n",
      "[Lemma('take.v.01.take')] carry out ['take action', 'take steps', 'take vengeance']\n",
      "[Lemma('take.v.02.take'), Lemma('take.v.02.occupy'), Lemma('take.v.02.use_up')] require (time or space) ['It took three hours to get to work this morning', 'This event occupied a very short time']\n",
      "[Lemma('lead.v.01.lead'), Lemma('lead.v.01.take'), Lemma('lead.v.01.direct'), Lemma('lead.v.01.conduct'), Lemma('lead.v.01.guide')] take somebody somewhere ['We lead him to our chief', 'can you take me to the main entrance?', 'He conducted us to the palace']\n",
      "[Lemma('take.v.04.take'), Lemma('take.v.04.get_hold_of')] get into one's hands, take physically ['Take a cookie!', 'Can you take this bag, please']\n",
      "[Lemma('assume.v.03.assume'), Lemma('assume.v.03.acquire'), Lemma('assume.v.03.adopt'), Lemma('assume.v.03.take_on'), Lemma('assume.v.03.take')] take on a certain form, attribute, or aspect ['His voice took on a sad tone', 'The story took a new turn', 'he adopted an air of superiority', 'She assumed strange manners', 'The gods assume human or animal form in these fables']\n",
      "[Lemma('take.v.06.take'), Lemma('take.v.06.read')] interpret something in a certain way; convey a particular meaning or impression ['I read this address as a satire', 'How should I take this message?', \"You can't take credit for this!\"]\n",
      "[Lemma('bring.v.01.bring'), Lemma('bring.v.01.convey'), Lemma('bring.v.01.take')] take something or somebody with oneself somewhere ['Bring me the box from the other room', 'Take these letters to the boss', 'This brings me to the main point']\n",
      "[Lemma('take.v.08.take')] take into one's possession ['We are taking an orphan from Romania', \"I'll take three salmon steaks\"]\n",
      "[Lemma('take.v.09.take')] travel or go by means of a certain kind of transportation, or a certain route ['He takes the bus to work', 'She takes Route 1 to Newark']\n",
      "[Lemma('choose.v.01.choose'), Lemma('choose.v.01.take'), Lemma('choose.v.01.select'), Lemma('choose.v.01.pick_out')] pick out, select, or choose from a number of alternatives ['Take any one of these cards', 'Choose a good husband for your daughter', 'She selected a pair of shoes from among the dozen the salesgirl had shown her']\n",
      "[Lemma('accept.v.02.accept'), Lemma('accept.v.02.take'), Lemma('accept.v.02.have')] receive willingly something given or offered [\"The only girl who would have him was the miller's daughter\", \"I won't have this dog in my house!\", 'Please accept my present']\n",
      "[Lemma('fill.v.04.fill'), Lemma('fill.v.04.take'), Lemma('fill.v.04.occupy')] assume, as of positions or roles ['She took the job as director of development', 'he occupies the position of manager', 'the young prince will soon occupy the throne']\n",
      "[Lemma('consider.v.03.consider'), Lemma('consider.v.03.take'), Lemma('consider.v.03.deal'), Lemma('consider.v.03.look_at')] take into consideration for exemplifying purposes ['Take the case of China', 'Consider the following case']\n",
      "[Lemma('necessitate.v.01.necessitate'), Lemma('necessitate.v.01.ask'), Lemma('necessitate.v.01.postulate'), Lemma('necessitate.v.01.need'), Lemma('necessitate.v.01.require'), Lemma('necessitate.v.01.take'), Lemma('necessitate.v.01.involve'), Lemma('necessitate.v.01.call_for'), Lemma('necessitate.v.01.demand')] require as useful, just, or proper ['It takes nerve to do what she did', 'success usually requires hard work', 'This job asks a lot of patience and skill', 'This position demands a lot of personal sacrifice', 'This dinner calls for a spectacular dessert', \"This intervention does not postulate a patient's consent\"]\n",
      "[Lemma('take.v.15.take')] experience or feel or submit to ['Take a test', 'Take the plunge']\n",
      "[Lemma('film.v.01.film'), Lemma('film.v.01.shoot'), Lemma('film.v.01.take')] make a film or photograph of something ['take a scene', 'shoot a movie']\n",
      "[Lemma('remove.v.01.remove'), Lemma('remove.v.01.take'), Lemma('remove.v.01.take_away'), Lemma('remove.v.01.withdraw')] remove something concrete, as by lifting, pushing, or taking off, or remove something abstract ['remove a threat', 'remove a wrapper', 'Remove the dirty dishes from the table', 'take the gun from your pocket', 'This machine withdraws heat from the environment']\n",
      "[Lemma('consume.v.02.consume'), Lemma('consume.v.02.ingest'), Lemma('consume.v.02.take_in'), Lemma('consume.v.02.take'), Lemma('consume.v.02.have')] serve oneself to, or consume regularly ['Have another bowl of chicken soup!', \"I don't take sugar in my coffee\"]\n",
      "[Lemma('take.v.19.take'), Lemma('take.v.19.submit')] accept or undergo, often unwillingly ['We took a pay cut']\n",
      "[Lemma('take.v.20.take'), Lemma('take.v.20.accept')] make use of or accept for some purpose ['take a risk', 'take an opportunity']\n",
      "[Lemma('take.v.21.take')] take by force ['Hitler took the Baltic Republics', 'The army took the fort on the hill']\n",
      "[Lemma('assume.v.05.assume'), Lemma('assume.v.05.take'), Lemma('assume.v.05.strike'), Lemma('assume.v.05.take_up')] occupy or take on ['He assumes the lotus position', 'She took her seat on the stage', 'We took our seats in the orchestra', 'She took up her position behind the tree', 'strike a pose']\n",
      "[Lemma('accept.v.05.accept'), Lemma('accept.v.05.admit'), Lemma('accept.v.05.take'), Lemma('accept.v.05.take_on')] admit into a group or community ['accept students for graduate study', \"We'll have to vote on whether or not to admit a new member\"]\n",
      "[Lemma('take.v.24.take')] ascertain or determine by measuring, computing or take a reading from a dial ['take a pulse', \"A reading was taken of the earth's tremors\"]\n",
      "[Lemma('learn.v.04.learn'), Lemma('learn.v.04.study'), Lemma('learn.v.04.read'), Lemma('learn.v.04.take')] be a student of a certain subject ['She is reading for the bar exam']\n",
      "[Lemma('claim.v.05.claim'), Lemma('claim.v.05.take'), Lemma('claim.v.05.exact')] take as an undesirable consequence of some event or state of affairs ['the accident claimed three lives', 'The hard work took its toll on her']\n",
      "[Lemma('take.v.27.take'), Lemma('take.v.27.make')] head into a specified direction ['The escaped convict took to the hills', 'We made for the mountains']\n",
      "[Lemma('aim.v.01.aim'), Lemma('aim.v.01.take'), Lemma('aim.v.01.train'), Lemma('aim.v.01.take_aim'), Lemma('aim.v.01.direct')] point or cause to go (blows, weapons, or objects such as photographic equipment) towards [\"Please don't aim at your little brother!\", 'He trained his gun on the burglar', \"Don't train your camera on the women\", \"Take a swipe at one's opponent\"]\n",
      "[Lemma('take.v.29.take')] be seized or affected in a specified way ['take sick', 'be taken drunk']\n",
      "[Lemma('carry.v.02.carry'), Lemma('carry.v.02.pack'), Lemma('carry.v.02.take')] have with oneself; have on one's person ['She always takes an umbrella', 'I always carry money', 'She packs a gun when she goes into the mountains']\n",
      "[Lemma('lease.v.04.lease'), Lemma('lease.v.04.rent'), Lemma('lease.v.04.hire'), Lemma('lease.v.04.charter'), Lemma('lease.v.04.engage'), Lemma('lease.v.04.take')] engage for service under a term of contract ['We took an apartment on a quiet street', \"Let's rent a car\", 'Shall we take a guide in Rome?']\n",
      "[Lemma('subscribe.v.05.subscribe'), Lemma('subscribe.v.05.subscribe_to'), Lemma('subscribe.v.05.take')] receive or obtain regularly ['We take the Times every day']\n",
      "[Lemma('take.v.33.take')] buy, select [\"I'll take a pound of that sausage\"]\n",
      "[Lemma('take.v.34.take')] to get into a position of having, e.g., safety, comfort ['take shelter from the storm']\n",
      "[Lemma('take.v.35.take'), Lemma('take.v.35.have')] have sex with; archaic use ['He had taken this woman when she was most vulnerable']\n",
      "[Lemma('claim.v.04.claim'), Lemma('claim.v.04.take')] lay claim to; as of an idea ['She took credit for the whole idea']\n",
      "[Lemma('accept.v.08.accept'), Lemma('accept.v.08.take')] be designed to hold or take ['This surface will not take the dye']\n",
      "[Lemma('contain.v.05.contain'), Lemma('contain.v.05.take'), Lemma('contain.v.05.hold')] be capable of holding or containing [\"This box won't take all the items\", 'The flask holds one gallon']\n",
      "[Lemma('take.v.39.take')] develop a habit ['He took to visiting bars']\n",
      "[Lemma('drive.v.16.drive'), Lemma('drive.v.16.take')] proceed along in a vehicle ['We drive the turnpike to work']\n",
      "[Lemma('take.v.41.take')] obtain by winning ['Winner takes all', 'He took first prize']\n",
      "[Lemma('contract.v.04.contract'), Lemma('contract.v.04.take'), Lemma('contract.v.04.get')] be stricken by an illness, fall victim to an illness ['He got AIDS', 'She came down with pneumonia', 'She took a chill']\n"
     ]
    }
   ],
   "source": [
    "for synset in wn.synsets('take'):\n",
    "    print(synset.lemmas(), synset.definition(), synset.examples())"
   ]
  }
 ],
 "metadata": {
  "kernelspec": {
   "display_name": ".venv",
   "language": "python",
   "name": "python3"
  },
  "language_info": {
   "codemirror_mode": {
    "name": "ipython",
    "version": 3
   },
   "file_extension": ".py",
   "mimetype": "text/x-python",
   "name": "python",
   "nbconvert_exporter": "python",
   "pygments_lexer": "ipython3",
   "version": "3.13.0"
  }
 },
 "nbformat": 4,
 "nbformat_minor": 2
}
