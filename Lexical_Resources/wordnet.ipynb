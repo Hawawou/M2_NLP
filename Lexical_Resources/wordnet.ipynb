{
 "cells": [
  {
   "cell_type": "code",
   "execution_count": 5,
   "metadata": {},
   "outputs": [
    {
     "name": "stderr",
     "output_type": "stream",
     "text": [
      "[nltk_data] Downloading package wordnet to /home/oumar/nltk_data...\n"
     ]
    },
    {
     "data": {
      "text/plain": [
       "True"
      ]
     },
     "execution_count": 5,
     "metadata": {},
     "output_type": "execute_result"
    }
   ],
   "source": [
    "import nltk\n",
    "nltk.download('wordnet')"
   ]
  },
  {
   "cell_type": "code",
   "execution_count": 9,
   "metadata": {},
   "outputs": [
    {
     "name": "stdout",
     "output_type": "stream",
     "text": [
      "[Lemma('leave.n.01.leave'), Lemma('leave.n.01.leave_of_absence')]\n",
      "leave.n.01 -> the period of time during which you are absent from work or duty\n",
      "leave.n.01 -> the period of time during which you are absent from work or duty\n",
      "[Lemma('leave.n.02.leave')]\n",
      "leave.n.02 -> permission to do something\n",
      "leave.n.02 -> permission to do something\n",
      "[Lemma('farewell.n.02.farewell'), Lemma('farewell.n.02.leave'), Lemma('farewell.n.02.leave-taking'), Lemma('farewell.n.02.parting')]\n",
      "farewell.n.02 -> the act of departing politely\n",
      "farewell.n.02 -> the act of departing politely\n",
      "[Lemma('leave.v.01.leave'), Lemma('leave.v.01.go_forth'), Lemma('leave.v.01.go_away')]\n",
      "leave.v.01 -> go away from a place\n",
      "leave.v.01 -> go away from a place\n",
      "[Lemma('leave.v.02.leave')]\n",
      "leave.v.02 -> go and leave behind, either intentionally or by neglect or forgetfulness\n",
      "leave.v.02 -> go and leave behind, either intentionally or by neglect or forgetfulness\n",
      "[Lemma('leave.v.03.leave')]\n",
      "leave.v.03 -> act or be so as to become in a specified state\n",
      "leave.v.03 -> act or be so as to become in a specified state\n",
      "[Lemma('leave.v.04.leave'), Lemma('leave.v.04.leave_alone'), Lemma('leave.v.04.leave_behind'), Lemma('leave.v.04.let_alone')]\n",
      "leave.v.04 -> leave unchanged or undisturbed or refrain from taking\n",
      "leave.v.04 -> leave unchanged or undisturbed or refrain from taking\n",
      "[Lemma('exit.v.01.exit'), Lemma('exit.v.01.go_out'), Lemma('exit.v.01.get_out'), Lemma('exit.v.01.leave')]\n",
      "exit.v.01 -> move out of or depart from\n",
      "exit.v.01 -> move out of or depart from\n",
      "[Lemma('leave.v.06.leave'), Lemma('leave.v.06.allow_for'), Lemma('leave.v.06.allow'), Lemma('leave.v.06.provide')]\n",
      "leave.v.06 -> make a possibility or provide opportunity for; permit to be attainable or cause to remain\n",
      "leave.v.06 -> make a possibility or provide opportunity for; permit to be attainable or cause to remain\n",
      "[Lemma('leave.v.07.leave'), Lemma('leave.v.07.result'), Lemma('leave.v.07.lead')]\n",
      "leave.v.07 -> produce as a result or residue\n",
      "leave.v.07 -> produce as a result or residue\n",
      "[Lemma('leave.v.08.leave'), Lemma('leave.v.08.depart'), Lemma('leave.v.08.pull_up_stakes')]\n",
      "leave.v.08 -> remove oneself from an association with or participation in\n",
      "leave.v.08 -> remove oneself from an association with or participation in\n",
      "[Lemma('entrust.v.02.entrust'), Lemma('entrust.v.02.leave')]\n",
      "entrust.v.02 -> put into the care or protection of someone\n",
      "entrust.v.02 -> put into the care or protection of someone\n",
      "[Lemma('bequeath.v.01.bequeath'), Lemma('bequeath.v.01.will'), Lemma('bequeath.v.01.leave')]\n",
      "bequeath.v.01 -> leave or give by will after one's death\n",
      "bequeath.v.01 -> leave or give by will after one's death\n",
      "[Lemma('leave.v.11.leave')]\n",
      "leave.v.11 -> have left or have as a remainder\n",
      "leave.v.11 -> have left or have as a remainder\n",
      "[Lemma('leave.v.12.leave'), Lemma('leave.v.12.leave_behind')]\n",
      "leave.v.12 -> be survived by after one's death\n",
      "leave.v.12 -> be survived by after one's death\n",
      "[Lemma('impart.v.01.impart'), Lemma('impart.v.01.leave'), Lemma('impart.v.01.give'), Lemma('impart.v.01.pass_on')]\n",
      "impart.v.01 -> transmit (knowledge or skills)\n",
      "impart.v.01 -> transmit (knowledge or skills)\n",
      "[Lemma('forget.v.04.forget'), Lemma('forget.v.04.leave')]\n",
      "forget.v.04 -> leave behind unintentionally\n",
      "forget.v.04 -> leave behind unintentionally\n"
     ]
    }
   ],
   "source": [
    "from nltk.corpus import wordnet31 as wn\n",
    "\n",
    "\n",
    "b = wn.synsets('leave')\n",
    "for synset in b:\n",
    "    print(synset.lemmas())\n",
    "    print(synset.name(), '->', synset.definition())\n",
    "    print(synset.name(), '->', synset.definition())"
   ]
  },
  {
   "cell_type": "code",
   "execution_count": 11,
   "metadata": {},
   "outputs": [
    {
     "name": "stdout",
     "output_type": "stream",
     "text": [
      "[Lemma('car.n.01.car'), Lemma('car.n.01.auto'), Lemma('car.n.01.automobile'), Lemma('car.n.01.machine'), Lemma('car.n.01.motorcar')]\n",
      "[Lemma('car.n.02.car'), Lemma('car.n.02.railcar'), Lemma('car.n.02.railway_car'), Lemma('car.n.02.railroad_car')]\n",
      "[Lemma('car.n.03.car'), Lemma('car.n.03.gondola')]\n",
      "[Lemma('car.n.04.car'), Lemma('car.n.04.elevator_car')]\n",
      "[Lemma('cable_car.n.01.cable_car'), Lemma('cable_car.n.01.car')]\n"
     ]
    }
   ],
   "source": [
    "syn = wn.synsets('car')\n",
    "for synset in syn:\n",
    "    print(synset.lemmas())"
   ]
  },
  {
   "cell_type": "code",
   "execution_count": 15,
   "metadata": {},
   "outputs": [
    {
     "data": {
      "text/plain": [
       "[['male_child'], [], ['son']]"
      ]
     },
     "execution_count": 15,
     "metadata": {},
     "output_type": "execute_result"
    }
   ],
   "source": [
    "wn.synonyms('boy')"
   ]
  },
  {
   "cell_type": "code",
   "execution_count": 17,
   "metadata": {},
   "outputs": [
    {
     "data": {
      "text/plain": [
       "[Synset('dry.v.01'), Synset('dry.v.02')]"
      ]
     },
     "execution_count": 17,
     "metadata": {},
     "output_type": "execute_result"
    }
   ],
   "source": [
    "wn.synsets('dry', pos=wn.VERB)"
   ]
  },
  {
   "cell_type": "code",
   "execution_count": 18,
   "metadata": {},
   "outputs": [
    {
     "data": {
      "text/plain": [
       "[Synset('dry.n.01')]"
      ]
     },
     "execution_count": 18,
     "metadata": {},
     "output_type": "execute_result"
    }
   ],
   "source": [
    "wn.synsets('dry', pos=wn.NOUN)\n"
   ]
  },
  {
   "cell_type": "code",
   "execution_count": 19,
   "metadata": {},
   "outputs": [
    {
     "data": {
      "text/plain": [
       "[Synset('dry.a.01'),\n",
       " Synset('dry.s.02'),\n",
       " Synset('dry.a.03'),\n",
       " Synset('dry.a.04'),\n",
       " Synset('dry.a.05'),\n",
       " Synset('dry.a.06'),\n",
       " Synset('dry.a.07'),\n",
       " Synset('dry.s.08'),\n",
       " Synset('dry.s.09'),\n",
       " Synset('dry.s.10'),\n",
       " Synset('dry.s.11'),\n",
       " Synset('dry.s.12'),\n",
       " Synset('dry.s.13'),\n",
       " Synset('dry.s.14'),\n",
       " Synset('dry.s.15'),\n",
       " Synset('dry.s.16')]"
      ]
     },
     "execution_count": 19,
     "metadata": {},
     "output_type": "execute_result"
    }
   ],
   "source": [
    "wn.synsets('dry', pos=wn.ADJ)"
   ]
  },
  {
   "cell_type": "code",
   "execution_count": 20,
   "metadata": {},
   "outputs": [
    {
     "data": {
      "text/plain": [
       "[]"
      ]
     },
     "execution_count": 20,
     "metadata": {},
     "output_type": "execute_result"
    }
   ],
   "source": [
    "wn.synsets('dry', pos=wn.ADV)"
   ]
  },
  {
   "cell_type": "code",
   "execution_count": 21,
   "metadata": {},
   "outputs": [
    {
     "name": "stdout",
     "output_type": "stream",
     "text": [
      "[Lemma('bad.a.01.bad')]\n"
     ]
    }
   ],
   "source": [
    "ant = wn.synset('good.a.01')\n",
    "print(ant.lemmas()[0].antonyms())"
   ]
  },
  {
   "cell_type": "code",
   "execution_count": 22,
   "metadata": {},
   "outputs": [
    {
     "name": "stdout",
     "output_type": "stream",
     "text": [
      "[Lemma('bad.a.01.bad')]\n"
     ]
    }
   ],
   "source": [
    "for lemma in ant.lemmas():\n",
    "    print(lemma.antonyms())"
   ]
  },
  {
   "cell_type": "code",
   "execution_count": null,
   "metadata": {},
   "outputs": [],
   "source": []
  }
 ],
 "metadata": {
  "kernelspec": {
   "display_name": "Python 3",
   "language": "python",
   "name": "python3"
  },
  "language_info": {
   "codemirror_mode": {
    "name": "ipython",
    "version": 3
   },
   "file_extension": ".py",
   "mimetype": "text/x-python",
   "name": "python",
   "nbconvert_exporter": "python",
   "pygments_lexer": "ipython3",
   "version": "3.12.3"
  }
 },
 "nbformat": 4,
 "nbformat_minor": 2
}
